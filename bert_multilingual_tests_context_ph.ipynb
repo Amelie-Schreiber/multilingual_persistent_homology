{
 "cells": [
  {
   "cell_type": "code",
   "execution_count": 2,
   "metadata": {},
   "outputs": [
    {
     "name": "stdout",
     "output_type": "stream",
     "text": [
      "Note: you may need to restart the kernel to use updated packages.\n"
     ]
    }
   ],
   "source": [
    "pip install transformers torch numpy gudhi -q"
   ]
  },
  {
   "attachments": {},
   "cell_type": "markdown",
   "metadata": {},
   "source": [
    "Beware, I am not a competent linguist..."
   ]
  },
  {
   "cell_type": "code",
   "execution_count": 3,
   "metadata": {},
   "outputs": [],
   "source": [
    "text = [\"In the realm of linguistics, it is crucial to foster a deep understanding of language structures and their interconnections. This understanding is not simply about memorizing vocabulary or grammar rules, but delving into the intricate details of phonetics, semantics, and syntax. However, the common elements that we often focus on, such as morphemes, phonemes, and syntax rules, are merely the tip of the iceberg. Beneath the surface, there lies a vast field of cognitive, social, and historical factors that play significant roles in shaping a language. Grasping these underlying influences is what sets apart a competent linguist from a casual language learner.\"]"
   ]
  },
  {
   "cell_type": "code",
   "execution_count": 4,
   "metadata": {},
   "outputs": [
    {
     "name": "stderr",
     "output_type": "stream",
     "text": [
      "Some weights of the model checkpoint at bert-base-multilingual-cased were not used when initializing BertModel: ['cls.predictions.bias', 'cls.predictions.transform.LayerNorm.weight', 'cls.predictions.transform.LayerNorm.bias', 'cls.seq_relationship.weight', 'cls.predictions.transform.dense.weight', 'cls.seq_relationship.bias', 'cls.predictions.transform.dense.bias']\n",
      "- This IS expected if you are initializing BertModel from the checkpoint of a model trained on another task or with another architecture (e.g. initializing a BertForSequenceClassification model from a BertForPreTraining model).\n",
      "- This IS NOT expected if you are initializing BertModel from the checkpoint of a model that you expect to be exactly identical (initializing a BertForSequenceClassification model from a BertForSequenceClassification model).\n"
     ]
    },
    {
     "name": "stdout",
     "output_type": "stream",
     "text": [
      "torch.Size([1, 154, 64])\n",
      "tensor([[[-0.1077,  0.3744,  0.5416,  ...,  0.1272,  0.4789, -0.6188],\n",
      "         [ 0.2443,  0.1561, -0.2049,  ..., -0.0845, -0.0863, -0.1529],\n",
      "         [ 0.7606,  0.4177, -0.0052,  ...,  0.3152, -0.0913, -0.1151],\n",
      "         ...,\n",
      "         [ 0.1612, -0.4743,  0.0192,  ..., -0.3170,  0.7109, -0.3969],\n",
      "         [-0.3992,  0.1121, -0.5224,  ...,  0.3244,  0.6733, -0.0098],\n",
      "         [ 0.3890,  0.2671,  0.2040,  ...,  0.1980,  0.8218, -0.9534]]],\n",
      "       grad_fn=<CloneBackward0>)\n"
     ]
    }
   ],
   "source": [
    "import torch\n",
    "from transformers import BertTokenizer, BertModel\n",
    "from transformers import BertModel, BertTokenizerFast\n",
    "from transformers import AutoTokenizer, AutoModel\n",
    "\n",
    "\n",
    "def compute_output(sentence, layer, head):\n",
    "    # Load pre-trained model\n",
    "    model = BertModel.from_pretrained('bert-base-multilingual-cased', output_attentions=True)\n",
    "    tokenizer = BertTokenizer.from_pretrained('bert-base-multilingual-cased')\n",
    "\n",
    "\n",
    "    # Tokenize input and convert to tensor\n",
    "    inputs = tokenizer(sentence, return_tensors=\"pt\")\n",
    "\n",
    "    # Forward pass\n",
    "    # Specify `output_hidden_states=True` when calling the model\n",
    "    outputs = model(**inputs, output_attentions=True, output_hidden_states=True)\n",
    "\n",
    "    # Obtain the attention weights\n",
    "    attentions = outputs.attentions\n",
    "\n",
    "    # Obtain the attention weights for the specific layer and head\n",
    "    S = attentions[layer][0, head]\n",
    "\n",
    "    # Obtain the value vectors\n",
    "    model.eval()\n",
    "    with torch.no_grad():\n",
    "        hidden_states = outputs.hidden_states[layer]\n",
    "        all_W_v = model.encoder.layer[layer].attention.self.value.weight\n",
    "        num_heads = model.config.num_attention_heads\n",
    "        head_dim = model.config.hidden_size // num_heads\n",
    "        W_v_heads = all_W_v.view(num_heads, head_dim, model.config.hidden_size)\n",
    "        W_v = W_v_heads[head]\n",
    "        V = torch.matmul(hidden_states, W_v.t())\n",
    "\n",
    "    # Compute the output O\n",
    "    O = torch.matmul(S, V)\n",
    "\n",
    "    return O\n",
    "\n",
    "# Set the layer and head to use for computation\n",
    "layer = 5\n",
    "head = 10\n",
    "\n",
    "# Compute the context vectors for each text in the corpus\n",
    "context = [compute_output(t, layer, head) for t in text]\n",
    "print(context[0].shape)\n",
    "print(context[0])"
   ]
  },
  {
   "cell_type": "code",
   "execution_count": 5,
   "metadata": {},
   "outputs": [
    {
     "name": "stdout",
     "output_type": "stream",
     "text": [
      "Barcode for text 0:\n"
     ]
    },
    {
     "data": {
      "image/png": "[encoded data removed]",
      "text/plain": [
       "<Figure size 640x480 with 1 Axes>"
      ]
     },
     "metadata": {},
     "output_type": "display_data"
    }
   ],
   "source": [
    "import matplotlib.pyplot as plt\n",
    "import numpy as np\n",
    "from scipy.spatial import distance_matrix\n",
    "import gudhi as gd\n",
    "\n",
    "def compute_distances_and_plot_barcode(output):\n",
    "    # Detach the output tensor, squeeze, and convert to numpy array\n",
    "    output_np = output.squeeze().detach().numpy()\n",
    "\n",
    "    # Compute the pairwise Euclidean distance matrix\n",
    "    distances = distance_matrix(output_np, output_np)\n",
    "\n",
    "    # Compute the persistent homology of the distance matrix\n",
    "    rips_complex = gd.RipsComplex(distance_matrix=distances, max_edge_length=np.max(distances))\n",
    "    simplex_tree = rips_complex.create_simplex_tree(max_dimension=2)\n",
    "    persistent_homology = simplex_tree.persistence(min_persistence=0.001)\n",
    "    \n",
    "    # Plot the barcode diagram\n",
    "    gd.plot_persistence_barcode(persistence=persistent_homology)\n",
    "    plt.show()\n",
    "\n",
    "# Compute the barcode diagrams for each context vector\n",
    "for i, output in enumerate(context):\n",
    "    print(f\"Barcode for text {i}:\")\n",
    "    compute_distances_and_plot_barcode(output)"
   ]
  },
  {
   "cell_type": "code",
   "execution_count": 6,
   "metadata": {},
   "outputs": [
    {
     "name": "stdout",
     "output_type": "stream",
     "text": [
      "Clusters for text 0:\n",
      "Cluster 0: [CLS], In, This, However, the, ., Ben, G, [SEP]\n",
      "Cluster 1: the, real, int, common\n",
      "Cluster 2: linguistic, language, me, the, phone, cognitive\n",
      "Cluster 3: ,, and, ., ,\n",
      "Cluster 4: it, there\n",
      "Cluster 5: crucial, not, what\n",
      "Cluster 6: deep, vast\n",
      "Cluster 7: structures, rules\n",
      "Cluster 8: or, ,, ,, .\n",
      "Cluster 9: ,, ,, ,\n",
      "Cluster 10: phone, syn\n",
      "Cluster 11: tip, ice\n",
      "Cluster 12: ,, ,, factors\n",
      "Cluster 13: compete, casu\n",
      "Cluster 14: from, .\n"
     ]
    }
   ],
   "source": [
    "from scipy.spatial.distance import pdist, squareform\n",
    "from sklearn.cluster import DBSCAN\n",
    "from transformers import BertTokenizer\n",
    "from transformers import BertModel, BertTokenizerFast\n",
    "\n",
    "def cluster_and_get_words(context, sentence, eps=3.0):\n",
    "    # Load pre-trained model tokenizer\n",
    "    tokenizer = BertTokenizer.from_pretrained('bert-base-multilingual-cased')\n",
    "\n",
    "\n",
    "    # Tokenize input and convert to tensor\n",
    "    inputs = tokenizer(sentence, return_tensors=\"pt\")\n",
    "    tokens = tokenizer.convert_ids_to_tokens(inputs['input_ids'][0])\n",
    "\n",
    "    # Squeeze the context tensor to remove the batch size dimension\n",
    "    context = context.squeeze(0)\n",
    "\n",
    "    # Compute the pairwise distance matrix\n",
    "    distances = pdist(context.detach().numpy(), 'euclidean')\n",
    "    dist_matrix = squareform(distances)\n",
    "\n",
    "    # Run DBSCAN on the distance matrix\n",
    "    clustering = DBSCAN(eps=eps, min_samples=2, metric='precomputed').fit(dist_matrix)\n",
    "\n",
    "    # Get the words corresponding to each cluster\n",
    "    clusters = {}\n",
    "    for i, label in enumerate(clustering.labels_):\n",
    "        if label != -1:  # Ignore noise (-1 label)\n",
    "            if label not in clusters:\n",
    "                clusters[label] = []\n",
    "            clusters[label].append(tokens[i])\n",
    "\n",
    "    return clusters\n",
    "\n",
    "# Compute the clusters for each context vector\n",
    "clusters = []\n",
    "for i, output in enumerate(context):\n",
    "    print(f\"Clusters for text {i}:\")\n",
    "    clusters.append(cluster_and_get_words(output, text[i]))\n",
    "    for label, words in clusters[-1].items():\n",
    "        print(f\"Cluster {label}: {', '.join(words)}\")"
   ]
  },
  {
   "cell_type": "code",
   "execution_count": 7,
   "metadata": {},
   "outputs": [
    {
     "name": "stdout",
     "output_type": "stream",
     "text": [
      "Tokens of the sub-collection: ['the', 'tip', 'of', 'the', 'ice', '##berg']\n",
      "Distance matrix: (6, 6)\n",
      "Distance matrix: [[0.         4.07251205 3.47422203 5.12739632 4.46551541 4.56326896]\n",
      " [4.07251205 0.         4.11047785 4.57380067 3.80960582 4.67308914]\n",
      " [3.47422203 4.11047785 0.         4.01261537 3.75100398 2.85149756]\n",
      " [5.12739632 4.57380067 4.01261537 0.         3.80456967 4.57168169]\n",
      " [4.46551541 3.80960582 3.75100398 3.80456967 0.         3.24850942]\n",
      " [4.56326896 4.67308914 2.85149756 4.57168169 3.24850942 0.        ]]\n"
     ]
    },
    {
     "data": {
      "image/png": "[encoded data removed]",
      "text/plain": [
       "<Figure size 640x480 with 1 Axes>"
      ]
     },
     "metadata": {},
     "output_type": "display_data"
    },
    {
     "data": {
      "text/plain": [
       "[(1, (4.072512045595269, 4.110477852888169)),\n",
       " (0, (0.0, inf)),\n",
       " (0, (0.0, 3.80960582212071)),\n",
       " (0, (0.0, 3.804569665555559)),\n",
       " (0, (0.0, 3.4742220260290955)),\n",
       " (0, (0.0, 3.2485094245507278)),\n",
       " (0, (0.0, 2.851497563877516))]"
      ]
     },
     "execution_count": 7,
     "metadata": {},
     "output_type": "execute_result"
    }
   ],
   "source": [
    "from scipy.spatial import distance_matrix\n",
    "import gudhi as gd\n",
    "import numpy as np\n",
    "import matplotlib.pyplot as plt\n",
    "from transformers import BertTokenizer\n",
    "\n",
    "def compute_phrase_distances_and_homology(context_vectors, sentence, phrase):\n",
    "    # Initialize the tokenizer\n",
    "    tokenizer = BertTokenizer.from_pretrained('bert-base-multilingual-cased')\n",
    "\n",
    "    # Tokenize the sentence and the phrase\n",
    "    sentence_tokens = tokenizer.encode(sentence, add_special_tokens=False)\n",
    "    phrase_tokens = tokenizer.encode(phrase, add_special_tokens=False)\n",
    "\n",
    "    # Find the indices of the phrase tokens in the sentence\n",
    "    phrase_indices = []\n",
    "    phrase_length = len(phrase_tokens)\n",
    "    for i in range(len(sentence_tokens) - phrase_length + 1):\n",
    "        if sentence_tokens[i:i+phrase_length] == phrase_tokens:\n",
    "            phrase_indices.extend(range(i, i+phrase_length))\n",
    "            break\n",
    "\n",
    "    # Extract the context vectors for the phrase\n",
    "    phrase_context_vectors = context_vectors[0, phrase_indices]\n",
    "\n",
    "    # Detach the tensor and convert to numpy array\n",
    "    phrase_context_vectors_np = phrase_context_vectors.detach().numpy()\n",
    "\n",
    "    # Print the tokens of the sub-collection and their context vectors\n",
    "    print(f'Tokens of the sub-collection: {tokenizer.convert_ids_to_tokens(phrase_tokens)}')\n",
    "    # print(f'Context vectors of the sub-collection: {phrase_context_vectors_np}')\n",
    "\n",
    "    # Compute the pairwise Euclidean distances among the phrase context vectors\n",
    "    distances = distance_matrix(phrase_context_vectors_np, phrase_context_vectors_np)\n",
    "\n",
    "    # Print the distance matrix\n",
    "    print(f'Distance matrix: {distances.shape}')\n",
    "    print(f'Distance matrix: {distances}')\n",
    "\n",
    "    # Compute the persistent homology of the distance matrix\n",
    "    rips_complex = gd.RipsComplex(distance_matrix=distances, max_edge_length=np.max(distances))\n",
    "    simplex_tree = rips_complex.create_simplex_tree(max_dimension=2)\n",
    "    persistent_homology = simplex_tree.persistence(min_persistence=0.001)\n",
    "\n",
    "    # Plot the barcode diagram\n",
    "    gd.plot_persistence_barcode(persistence=persistent_homology)\n",
    "    plt.show()\n",
    "\n",
    "    return persistent_homology\n",
    "\n",
    "# Assuming that 'context_vectors' is the tensor of context vectors for your sentence,\n",
    "# and 'sentence' is your original sentence, you can use the function like this:\n",
    "compute_phrase_distances_and_homology(context[0], text[0], \"the tip of the iceberg\")"
   ]
  },
  {
   "cell_type": "code",
   "execution_count": 8,
   "metadata": {},
   "outputs": [],
   "source": [
    "text_2 = [\"In the realm of deep learning, having a deep understanding of neural networks and their architectures is of paramount importance. It's not just about knowing how to code an algorithm, but also about comprehending how different layers in a network interact and learning to interpret the output. Yet, the algorithms and architectures we often discuss, like Convolutional Neural Networks (CNNs) or Recurrent Neural Networks (RNNs), are just the tip of the iceberg. Hidden below the surface are complex concepts like backpropagation, weight initialization, and optimization techniques, which truly drive the functionality of these networks. Mastering these intricacies is what differentiates an expert in the field from an amateur coder.\"]"
   ]
  },
  {
   "cell_type": "code",
   "execution_count": 9,
   "metadata": {},
   "outputs": [
    {
     "name": "stderr",
     "output_type": "stream",
     "text": [
      "Some weights of the model checkpoint at bert-base-multilingual-cased were not used when initializing BertModel: ['cls.predictions.bias', 'cls.predictions.transform.LayerNorm.weight', 'cls.predictions.transform.LayerNorm.bias', 'cls.seq_relationship.weight', 'cls.predictions.transform.dense.weight', 'cls.seq_relationship.bias', 'cls.predictions.transform.dense.bias']\n",
      "- This IS expected if you are initializing BertModel from the checkpoint of a model trained on another task or with another architecture (e.g. initializing a BertForSequenceClassification model from a BertForPreTraining model).\n",
      "- This IS NOT expected if you are initializing BertModel from the checkpoint of a model that you expect to be exactly identical (initializing a BertForSequenceClassification model from a BertForSequenceClassification model).\n"
     ]
    },
    {
     "name": "stdout",
     "output_type": "stream",
     "text": [
      "Tokens of the sub-collection: ['the', 'tip', 'of', 'the', 'ice', '##berg']\n",
      "Distance matrix: (6, 6)\n",
      "Distance matrix: [[0.         4.02301257 3.63600307 5.15863895 4.61438621 4.52257196]\n",
      " [4.02301257 0.         4.10460039 4.21255337 3.86349091 4.39384726]\n",
      " [3.63600307 4.10460039 0.         3.92286396 3.84184095 3.09530265]\n",
      " [5.15863895 4.21255337 3.92286396 0.         3.91937002 4.56350394]\n",
      " [4.61438621 3.86349091 3.84184095 3.91937002 0.         3.2494078 ]\n",
      " [4.52257196 4.39384726 3.09530265 4.56350394 3.2494078  0.        ]]\n"
     ]
    },
    {
     "data": {
      "image/png": "[encoded data removed]",
      "text/plain": [
       "<Figure size 640x480 with 1 Axes>"
      ]
     },
     "metadata": {},
     "output_type": "display_data"
    },
    {
     "data": {
      "text/plain": [
       "[(1, (4.023012566944864, 4.104600392560045)),\n",
       " (0, (0.0, inf)),\n",
       " (0, (0.0, 3.9193700200723307)),\n",
       " (0, (0.0, 3.8634909075132504)),\n",
       " (0, (0.0, 3.636003070397528)),\n",
       " (0, (0.0, 3.2494077987987136)),\n",
       " (0, (0.0, 3.0953026481266788))]"
      ]
     },
     "execution_count": 9,
     "metadata": {},
     "output_type": "execute_result"
    }
   ],
   "source": [
    "context_2 = [compute_output(t, layer, head) for t in text_2]\n",
    "compute_phrase_distances_and_homology(context_2[0], text_2[0], \"the tip of the iceberg\")"
   ]
  },
  {
   "attachments": {},
   "cell_type": "markdown",
   "metadata": {},
   "source": [
    "---\n",
    "\n",
    "## English Persistent Homology Comparison"
   ]
  },
  {
   "cell_type": "code",
   "execution_count": 10,
   "metadata": {},
   "outputs": [
    {
     "name": "stdout",
     "output_type": "stream",
     "text": [
      "Tokens of the sub-collection: ['the', 'tip', 'of', 'the', 'ice', '##berg']\n",
      "Distance matrix: (6, 6)\n",
      "Distance matrix: [[0.         4.07251205 3.47422203 5.12739632 4.46551541 4.56326896]\n",
      " [4.07251205 0.         4.11047785 4.57380067 3.80960582 4.67308914]\n",
      " [3.47422203 4.11047785 0.         4.01261537 3.75100398 2.85149756]\n",
      " [5.12739632 4.57380067 4.01261537 0.         3.80456967 4.57168169]\n",
      " [4.46551541 3.80960582 3.75100398 3.80456967 0.         3.24850942]\n",
      " [4.56326896 4.67308914 2.85149756 4.57168169 3.24850942 0.        ]]\n"
     ]
    },
    {
     "data": {
      "image/png": "[encoded data removed]",
      "text/plain": [
       "<Figure size 640x480 with 1 Axes>"
      ]
     },
     "metadata": {},
     "output_type": "display_data"
    },
    {
     "name": "stdout",
     "output_type": "stream",
     "text": [
      "Tokens of the sub-collection: ['the', 'tip', 'of', 'the', 'ice', '##berg']\n",
      "Distance matrix: (6, 6)\n",
      "Distance matrix: [[0.         4.02301257 3.63600307 5.15863895 4.61438621 4.52257196]\n",
      " [4.02301257 0.         4.10460039 4.21255337 3.86349091 4.39384726]\n",
      " [3.63600307 4.10460039 0.         3.92286396 3.84184095 3.09530265]\n",
      " [5.15863895 4.21255337 3.92286396 0.         3.91937002 4.56350394]\n",
      " [4.61438621 3.86349091 3.84184095 3.91937002 0.         3.2494078 ]\n",
      " [4.52257196 4.39384726 3.09530265 4.56350394 3.2494078  0.        ]]\n"
     ]
    },
    {
     "data": {
      "image/png": "[encoded data removed]",
      "text/plain": [
       "<Figure size 640x480 with 1 Axes>"
      ]
     },
     "metadata": {},
     "output_type": "display_data"
    },
    {
     "name": "stdout",
     "output_type": "stream",
     "text": [
      "Bottleneck distance: 0.2438050842491628\n",
      "Wasserstein distance: = 0.63\n"
     ]
    }
   ],
   "source": [
    "# from gudhi.wasserstein import wasserstein_distance \n",
    "# Could also be: \n",
    "from gudhi.hera import wasserstein_distance\n",
    "import numpy as np\n",
    "\n",
    "# Compute the persistent homology\n",
    "persistent_homology_1 = compute_phrase_distances_and_homology(context[0], text[0], \"the tip of the iceberg\")\n",
    "persistent_homology_2 = compute_phrase_distances_and_homology(context_2[0], text_2[0], \"the tip of the iceberg\")\n",
    "\n",
    "# Convert the persistent homology data to a numpy array\n",
    "persistent_homology_np_1 = np.array([[pt[1][0], pt[1][1]] for pt in persistent_homology_1 if pt[1][1] != float('inf')])\n",
    "persistent_homology_np_2 = np.array([[pt[1][0], pt[1][1]] for pt in persistent_homology_2 if pt[1][1] != float('inf')])\n",
    "\n",
    "# Compute and print the bottleneck distance\n",
    "bottleneck_dist = gd.bottleneck_distance(persistent_homology_np_1, persistent_homology_np_2)\n",
    "print(f\"Bottleneck distance: {bottleneck_dist}\")\n",
    "\n",
    "# Compute and print the Wasserstein distance\n",
    "print(f\"Wasserstein distance: = {wasserstein_distance(persistent_homology_np_1, persistent_homology_np_2, order=1., internal_p=2.):.2f}\")"
   ]
  },
  {
   "attachments": {},
   "cell_type": "markdown",
   "metadata": {},
   "source": [
    "---\n",
    "\n",
    "## Yiddish Persistent Homology Comparison"
   ]
  },
  {
   "cell_type": "code",
   "execution_count": 11,
   "metadata": {},
   "outputs": [],
   "source": [
    "text_3 = [\"אין דער וועלט פון לינגוויסטיק, איז דער נעציק צו פאָסטערן אַ טיף פֿאַרשטייַנען פון שפּראַך סטרוקטורן און זייערע אינטערקאַנעקשאַנס. דאס פֿאַרשטייַנען איז ניט נאָר וועגן לערנען וואָקאַבולערי אָדער גראַמאַטיק רולז, אָבער אויך ערנטע די דעטאַלז פון פֿאָנעטיק, סעמאַנטיקס, און סינטאַקס. דאָך, די געוויינטלעך עלעמענטן אַז מיר פֿאָקוסירן אויף, ווי מאָרפֿעמען, פֿאָנעמען, און סינטאַקס רולז, זענען בלויז דער ציפֿ אָף דעם אייסבערג. אונטער דער אויבערפֿלאַך, ליגן אַ וואַסט פעלד פון קאָגניטיוו, סאַציאַל, און היסטאָרישע פאַקטאָרן וואָס שפּילן וויכטיק ראָלז אין שייפֿינג אַ שפּראַך. גרייפֿן די אונטערלייגנדיקע אינפֿלוענסז איז וואָס שטעלט אַרויס אַ קאָמפּעטענט לינגוויסט פון אַ קאַזשועל שפּראַך לערנער.\"]\n",
    "\n",
    "text_4 = [\"אין דער וועלט פון טיף לערנען, האָבן אַ טיף פֿאַרשטייַנען פון נעוּראַל נעטוואָרקס און זייער אַרכיטעקטורז איז פֿון פּראַימאַרי באַדייטונג. עס איז ניט נאָר וועגן וויסנדויק ווי צו קאָד אַן אַלגאָרידם, אָבער אויך וועגן פֿאַרשטייַנען ווי פאַרשידענע שיכטן אין אַ נעטוואָרק אינטעראַקט און לערנען צו אינטערפֿרעטירן די אויסגעבן. דאָך, די אַלגאָרידמז און אַרכיטעקטורז מיר פֿאָקוסירן אויף, ווי קאָנוואָלוציאָנאַל נעוּראַל נעטוואָרקס (סינס) אָדער רעקוררענט נעוּראַל נעטוואָרקס (רננס), זענען נאָר דער ציפֿ אָף דעם אייסבערג. באַהינטן בלויז די אויבערפֿלאַך זענען קאָמפֿלעקסע ק\"]"
   ]
  },
  {
   "cell_type": "code",
   "execution_count": 12,
   "metadata": {},
   "outputs": [
    {
     "name": "stderr",
     "output_type": "stream",
     "text": [
      "Some weights of the model checkpoint at bert-base-multilingual-cased were not used when initializing BertModel: ['cls.predictions.bias', 'cls.predictions.transform.LayerNorm.weight', 'cls.predictions.transform.LayerNorm.bias', 'cls.seq_relationship.weight', 'cls.predictions.transform.dense.weight', 'cls.seq_relationship.bias', 'cls.predictions.transform.dense.bias']\n",
      "- This IS expected if you are initializing BertModel from the checkpoint of a model trained on another task or with another architecture (e.g. initializing a BertForSequenceClassification model from a BertForPreTraining model).\n",
      "- This IS NOT expected if you are initializing BertModel from the checkpoint of a model that you expect to be exactly identical (initializing a BertForSequenceClassification model from a BertForSequenceClassification model).\n",
      "Some weights of the model checkpoint at bert-base-multilingual-cased were not used when initializing BertModel: ['cls.predictions.bias', 'cls.predictions.transform.LayerNorm.weight', 'cls.predictions.transform.LayerNorm.bias', 'cls.seq_relationship.weight', 'cls.predictions.transform.dense.weight', 'cls.seq_relationship.bias', 'cls.predictions.transform.dense.bias']\n",
      "- This IS expected if you are initializing BertModel from the checkpoint of a model trained on another task or with another architecture (e.g. initializing a BertForSequenceClassification model from a BertForPreTraining model).\n",
      "- This IS NOT expected if you are initializing BertModel from the checkpoint of a model that you expect to be exactly identical (initializing a BertForSequenceClassification model from a BertForSequenceClassification model).\n"
     ]
    }
   ],
   "source": [
    "context_3 = [compute_output(t, layer, head) for t in text_3]\n",
    "\n",
    "context_4 = [compute_output(t, layer, head) for t in text_4]"
   ]
  },
  {
   "cell_type": "code",
   "execution_count": 13,
   "metadata": {},
   "outputs": [
    {
     "name": "stdout",
     "output_type": "stream",
     "text": [
      "Tokens of the sub-collection: ['ד', '##ער', '[UNK]', 'א', '##ָ', '##ף', 'ד', '##עם', 'אי', '##יס', '##בע', '##רג']\n",
      "Distance matrix: (12, 12)\n",
      "Distance matrix: [[0.         4.36809539 4.97510516 4.52090572 4.17999737 4.20543788\n",
      "  5.1357082  4.64575859 5.39313843 4.79785485 4.96347258 4.12716727]\n",
      " [4.36809539 0.         5.12778816 4.73277712 3.95578074 4.72257994\n",
      "  5.72899325 3.76346707 5.62122532 5.11236048 5.56345926 5.06415572]\n",
      " [4.97510516 5.12778816 0.         5.23424751 4.43878538 3.29881758\n",
      "  4.87852052 5.60125638 2.67498045 5.82239879 4.64859433 5.58030116]\n",
      " [4.52090572 4.73277712 5.23424751 0.         4.34236    4.79936985\n",
      "  4.58409685 5.20738235 5.50532538 4.46639527 5.21286553 5.04584455]\n",
      " [4.17999737 3.95578074 4.43878538 4.34236    0.         3.61986123\n",
      "  5.36282947 3.82405352 4.30390153 3.52163059 4.02116137 4.23603202]\n",
      " [4.20543788 4.72257994 3.29881758 4.79936985 3.61986123 0.\n",
      "  4.35935883 4.26376264 3.0069414  4.30253504 3.40573494 4.1341202 ]\n",
      " [5.1357082  5.72899325 4.87852052 4.58409685 5.36282947 4.35935883\n",
      "  0.         4.77050726 4.72729681 4.80150207 5.48138545 5.12956391]\n",
      " [4.64575859 3.76346707 5.60125638 5.20738235 3.82405352 4.26376264\n",
      "  4.77050726 0.         4.95651622 3.61451533 5.1059899  4.23816347]\n",
      " [5.39313843 5.62122532 2.67498045 5.50532538 4.30390153 3.0069414\n",
      "  4.72729681 4.95651622 0.         4.91271368 3.90033024 4.70764403]\n",
      " [4.79785485 5.11236048 5.82239879 4.46639527 3.52163059 4.30253504\n",
      "  4.80150207 3.61451533 4.91271368 0.         4.30403621 3.12254115]\n",
      " [4.96347258 5.56345926 4.64859433 5.21286553 4.02116137 3.40573494\n",
      "  5.48138545 5.1059899  3.90033024 4.30403621 0.         3.96564052]\n",
      " [4.12716727 5.06415572 5.58030116 5.04584455 4.23603202 4.1341202\n",
      "  5.12956391 4.23816347 4.70764403 3.12254115 3.96564052 0.        ]]\n"
     ]
    },
    {
     "data": {
      "image/png": "[encoded data removed]",
      "text/plain": [
       "<Figure size 640x480 with 1 Axes>"
      ]
     },
     "metadata": {},
     "output_type": "display_data"
    },
    {
     "name": "stdout",
     "output_type": "stream",
     "text": [
      "Tokens of the sub-collection: ['ד', '##ער', '[UNK]', 'א', '##ָ', '##ף', 'ד', '##עם', 'אי', '##יס', '##בע', '##רג']\n",
      "Distance matrix: (12, 12)\n",
      "Distance matrix: [[0.         4.52394515 4.12354465 4.33631266 4.80103457 5.31061756\n",
      "  3.99078825 5.20810815 5.06516796 5.74433373 5.79451121 5.69703074]\n",
      " [4.52394515 0.         4.05426771 3.34895957 3.72194704 4.11936759\n",
      "  5.26946903 3.8521582  4.69556503 3.86447219 4.69590375 4.36921809]\n",
      " [4.12354465 4.05426771 0.         4.29366562 3.89359034 2.98247057\n",
      "  4.56730095 5.19847736 2.45883824 5.48304943 4.19132526 5.21051452]\n",
      " [4.33631266 3.34895957 4.29366562 0.         4.37030281 4.10217396\n",
      "  4.2110722  4.62753813 4.8569183  4.05769684 4.63220848 4.318348  ]\n",
      " [4.80103457 3.72194704 3.89359034 4.37030281 0.         4.09228787\n",
      "  5.08951294 3.57742007 3.95587684 3.84143972 4.15414912 4.91609867]\n",
      " [5.31061756 4.11936759 2.98247057 4.10217396 4.09228787 0.\n",
      "  4.44299971 4.76694733 2.90863263 4.62013471 3.20164451 4.57324572]\n",
      " [3.99078825 5.26946903 4.56730095 4.2110722  5.08951294 4.44299971\n",
      "  0.         4.84657889 4.5624071  4.92494834 5.39631533 5.01909277]\n",
      " [5.20810815 3.8521582  5.19847736 4.62753813 3.57742007 4.76694733\n",
      "  4.84657889 0.         4.68672451 3.57932034 5.00621    4.87548639]\n",
      " [5.06516796 4.69556503 2.45883824 4.8569183  3.95587684 2.90863263\n",
      "  4.5624071  4.68672451 0.         4.87834559 3.77607996 4.71451366]\n",
      " [5.74433373 3.86447219 5.48304943 4.05769684 3.84143972 4.62013471\n",
      "  4.92494834 3.57932034 4.87834559 0.         4.39504651 3.41824357]\n",
      " [5.79451121 4.69590375 4.19132526 4.63220848 4.15414912 3.20164451\n",
      "  5.39631533 5.00621    3.77607996 4.39504651 0.         3.90854084]\n",
      " [5.69703074 4.36921809 5.21051452 4.318348   4.91609867 4.57324572\n",
      "  5.01909277 4.87548639 4.71451366 3.41824357 3.90854084 0.        ]]\n"
     ]
    },
    {
     "data": {
      "image/png": "[encoded data removed]",
      "text/plain": [
       "<Figure size 640x480 with 1 Axes>"
      ]
     },
     "metadata": {},
     "output_type": "display_data"
    },
    {
     "name": "stdout",
     "output_type": "stream",
     "text": [
      "Bottleneck distance: 0.35157175333573587\n",
      "Wasserstein distance: = 1.93\n"
     ]
    }
   ],
   "source": [
    "from gudhi.hera import wasserstein_distance\n",
    "import numpy as np\n",
    "\n",
    "# Compute the persistent homology\n",
    "persistent_homology_1 = compute_phrase_distances_and_homology(context_3[0], text_3[0], \"דער ציפֿ אָף דעם אייסבערג\")\n",
    "persistent_homology_2 = compute_phrase_distances_and_homology(context_4[0], text_4[0], \"דער ציפֿ אָף דעם אייסבערג\")\n",
    "\n",
    "# Convert the persistent homology data to a numpy array\n",
    "persistent_homology_np_1 = np.array([[pt[1][0], pt[1][1]] for pt in persistent_homology_1 if pt[1][1] != float('inf')])\n",
    "persistent_homology_np_2 = np.array([[pt[1][0], pt[1][1]] for pt in persistent_homology_2 if pt[1][1] != float('inf')])\n",
    "\n",
    "# Compute and print the bottleneck distance\n",
    "bottleneck_dist = gd.bottleneck_distance(persistent_homology_np_1, persistent_homology_np_2)\n",
    "print(f\"Bottleneck distance: {bottleneck_dist}\")\n",
    "\n",
    "# Compute and print the Wasserstein distance\n",
    "print(f\"Wasserstein distance: = {wasserstein_distance(persistent_homology_np_1, persistent_homology_np_2, order=1., internal_p=2.):.2f}\")"
   ]
  },
  {
   "attachments": {},
   "cell_type": "markdown",
   "metadata": {},
   "source": [
    "---\n",
    "\n",
    "## Hebrew Persistent Homology Comparison\n",
    "\n"
   ]
  },
  {
   "cell_type": "code",
   "execution_count": 14,
   "metadata": {},
   "outputs": [],
   "source": [
    "text_5 = [\"בעולם של הבלשנות, ההבנה העמוקה של מבני שפה והיחסים שביניהם היא המרכז. ההבנה הזו אינה מתמקדת רק בלמידת אוצר מילים או כללי דקדוק, אלא גם בחקירת פרטי הפונטיקה, הסמנטיקה, והתחביר. אך, הרכיבים הרגילים שאנו מתמקדים בהם, כמו מורפמות, פונמות, וכללים תחביריים, הם רק קצה הקרחון. מתחת לפני השטח, נמצאת שדה עצום של גורמים קוגניטיביים, חברתיים, והיסטוריים שמשחקים תפקידים חשובים בעיצוב שפה. חידוד ההבנה של ההשפעות המשניות האלה הוא מה שמבדיל בין בלשן מיומן ללומד שפה חסר ניסיון.\"]\n",
    "\n",
    "text_6 = [\"בעולם של הלמידה העמוקה, ההבנה העמוקה של רשתות נוירונים והמבנים שלהם היא מרכזית. זה לא רק על ידע איך לכתוב אלגוריתם, אלא גם על הבנת איך שונות תאים ברשת מאפשרות לה ללמוד ולפרשת את התוצאות. אך, האלגוריתמים והמבנים שאנו מתמקדים בהם, כמו רשתות נוירונים המקוננות או רשתות נוירונים חוזרות נשנות, הם רק קצה הקרחון. מתחת לפני השטח, נמצאים מנגנונים מורכבים כמו התפשטות נגזרת, איניציאציה של משקלים, וטכניקות אופטימיזציה, שהם מה שמניעים את הרשתות. השליטה בפרטים הדקים האלה היא מה שמבחינה בין מומחה בתחום למתכנת שאין לו ניסיון.\"]"
   ]
  },
  {
   "cell_type": "code",
   "execution_count": 15,
   "metadata": {},
   "outputs": [
    {
     "name": "stderr",
     "output_type": "stream",
     "text": [
      "Some weights of the model checkpoint at bert-base-multilingual-cased were not used when initializing BertModel: ['cls.predictions.bias', 'cls.predictions.transform.LayerNorm.weight', 'cls.predictions.transform.LayerNorm.bias', 'cls.seq_relationship.weight', 'cls.predictions.transform.dense.weight', 'cls.seq_relationship.bias', 'cls.predictions.transform.dense.bias']\n",
      "- This IS expected if you are initializing BertModel from the checkpoint of a model trained on another task or with another architecture (e.g. initializing a BertForSequenceClassification model from a BertForPreTraining model).\n",
      "- This IS NOT expected if you are initializing BertModel from the checkpoint of a model that you expect to be exactly identical (initializing a BertForSequenceClassification model from a BertForSequenceClassification model).\n",
      "Some weights of the model checkpoint at bert-base-multilingual-cased were not used when initializing BertModel: ['cls.predictions.bias', 'cls.predictions.transform.LayerNorm.weight', 'cls.predictions.transform.LayerNorm.bias', 'cls.seq_relationship.weight', 'cls.predictions.transform.dense.weight', 'cls.seq_relationship.bias', 'cls.predictions.transform.dense.bias']\n",
      "- This IS expected if you are initializing BertModel from the checkpoint of a model trained on another task or with another architecture (e.g. initializing a BertForSequenceClassification model from a BertForPreTraining model).\n",
      "- This IS NOT expected if you are initializing BertModel from the checkpoint of a model that you expect to be exactly identical (initializing a BertForSequenceClassification model from a BertForSequenceClassification model).\n"
     ]
    }
   ],
   "source": [
    "context_5 = [compute_output(t, layer, head) for t in text_5]\n",
    "\n",
    "context_6 = [compute_output(t, layer, head) for t in text_6]\n"
   ]
  },
  {
   "cell_type": "code",
   "execution_count": 16,
   "metadata": {},
   "outputs": [
    {
     "name": "stdout",
     "output_type": "stream",
     "text": [
      "Tokens of the sub-collection: ['ק', '##צה', 'ה', '##קר', '##חו', '##ן']\n",
      "Distance matrix: (6, 6)\n",
      "Distance matrix: [[0.         4.08995145 4.03120887 4.65344249 4.90045525 4.42230407]\n",
      " [4.08995145 0.         4.52892406 4.61586553 5.0063446  4.88540664]\n",
      " [4.03120887 4.52892406 0.         3.49976724 4.46532542 3.46438714]\n",
      " [4.65344249 4.61586553 3.49976724 0.         3.96537369 4.44648642]\n",
      " [4.90045525 5.0063446  4.46532542 3.96537369 0.         5.08031114]\n",
      " [4.42230407 4.88540664 3.46438714 4.44648642 5.08031114 0.        ]]\n"
     ]
    },
    {
     "data": {
      "image/png": "[encoded data removed]",
      "text/plain": [
       "<Figure size 640x480 with 1 Axes>"
      ]
     },
     "metadata": {},
     "output_type": "display_data"
    },
    {
     "name": "stdout",
     "output_type": "stream",
     "text": [
      "Tokens of the sub-collection: ['ק', '##צה', 'ה', '##קר', '##חו', '##ן']\n",
      "Distance matrix: (6, 6)\n",
      "Distance matrix: [[0.         4.35075816 4.37902628 4.78343245 4.96991276 4.53069899]\n",
      " [4.35075816 0.         4.43726165 4.34876662 4.92451823 4.78651334]\n",
      " [4.37902628 4.43726165 0.         3.4950917  4.45907416 3.61110028]\n",
      " [4.78343245 4.34876662 3.4950917  0.         3.79845244 4.51403394]\n",
      " [4.96991276 4.92451823 4.45907416 3.79845244 0.         5.10074818]\n",
      " [4.53069899 4.78651334 3.61110028 4.51403394 5.10074818 0.        ]]\n"
     ]
    },
    {
     "data": {
      "image/png": "[encoded data removed]",
      "text/plain": [
       "<Figure size 640x480 with 1 Axes>"
      ]
     },
     "metadata": {},
     "output_type": "display_data"
    },
    {
     "name": "stdout",
     "output_type": "stream",
     "text": [
      "Bottleneck distance: 0.3175577524234221\n",
      "Wasserstein distance: = 0.93\n"
     ]
    }
   ],
   "source": [
    "# Compute the persistent homology\n",
    "persistent_homology_1 = compute_phrase_distances_and_homology(context_5[0], text_5[0], \"קצה הקרחון\")\n",
    "persistent_homology_2 = compute_phrase_distances_and_homology(context_6[0], text_6[0], \"קצה הקרחון\")\n",
    "\n",
    "# Convert the persistent homology data to a numpy array\n",
    "persistent_homology_np_1 = np.array([[pt[1][0], pt[1][1]] for pt in persistent_homology_1 if pt[1][1] != float('inf')])\n",
    "persistent_homology_np_2 = np.array([[pt[1][0], pt[1][1]] for pt in persistent_homology_2 if pt[1][1] != float('inf')])\n",
    "\n",
    "# Compute and print the bottleneck distance\n",
    "bottleneck_dist = gd.bottleneck_distance(persistent_homology_np_1, persistent_homology_np_2)\n",
    "print(f\"Bottleneck distance: {bottleneck_dist}\")\n",
    "\n",
    "# Compute and print the Wasserstein distance\n",
    "print(f\"Wasserstein distance: = {wasserstein_distance(persistent_homology_np_1, persistent_homology_np_2, order=1., internal_p=2.):.2f}\")"
   ]
  },
  {
   "attachments": {},
   "cell_type": "markdown",
   "metadata": {},
   "source": [
    "---\n",
    "\n",
    "## Russian Persistent Homology Comparison"
   ]
  },
  {
   "cell_type": "code",
   "execution_count": 17,
   "metadata": {},
   "outputs": [],
   "source": [
    "text_7 = [\"В мире лингвистики глубокое понимание структур языка и их взаимосвязей является ключевым. Это понимание не ограничивается изучением словарного запаса или грамматических правил, но также включает изучение деталей фонетики, семантики и синтаксиса. Однако обычные компоненты, на которые мы обычно сосредотачиваемся, такие как морфемы, фонемы и грамматические правила, это лишь вершина айсберга. Под поверхностью находится огромное поле когнитивных, социальных и исторических факторов, которые играют важную роль в формировании языка. Уточнение понимания этих второстепенных влияний - то, что отличает опытного лингвиста от неопытного изучающего язык.\"]\n",
    "\n",
    "text_8 = [\"В мире глубокого обучения глубокое понимание нейронных сетей и их структур является центральным. Это не только о том, как написать алгоритм, но и о том, как различия между клетками в сети позволяют ей учиться и интерпретировать результаты. Однако алгоритмы и структуры, на которые мы обычно сосредотачиваемся, такие как сверточные нейронные сети (CNNs) или рекуррентные нейронные сети (RNNs), это лишь вершина айсберга. Под поверхностью находятся сложные механизмы, такие как распространение ошибок, инициализация весов и оптимизационные техники, которые в действительности двигают сети. Овладение этими тонкими деталями - то, что отличает эксперта в этой области от неопытного программиста.\"]"
   ]
  },
  {
   "cell_type": "code",
   "execution_count": 18,
   "metadata": {},
   "outputs": [
    {
     "name": "stderr",
     "output_type": "stream",
     "text": [
      "Some weights of the model checkpoint at bert-base-multilingual-cased were not used when initializing BertModel: ['cls.predictions.bias', 'cls.predictions.transform.LayerNorm.weight', 'cls.predictions.transform.LayerNorm.bias', 'cls.seq_relationship.weight', 'cls.predictions.transform.dense.weight', 'cls.seq_relationship.bias', 'cls.predictions.transform.dense.bias']\n",
      "- This IS expected if you are initializing BertModel from the checkpoint of a model trained on another task or with another architecture (e.g. initializing a BertForSequenceClassification model from a BertForPreTraining model).\n",
      "- This IS NOT expected if you are initializing BertModel from the checkpoint of a model that you expect to be exactly identical (initializing a BertForSequenceClassification model from a BertForSequenceClassification model).\n",
      "Some weights of the model checkpoint at bert-base-multilingual-cased were not used when initializing BertModel: ['cls.predictions.bias', 'cls.predictions.transform.LayerNorm.weight', 'cls.predictions.transform.LayerNorm.bias', 'cls.seq_relationship.weight', 'cls.predictions.transform.dense.weight', 'cls.seq_relationship.bias', 'cls.predictions.transform.dense.bias']\n",
      "- This IS expected if you are initializing BertModel from the checkpoint of a model trained on another task or with another architecture (e.g. initializing a BertForSequenceClassification model from a BertForPreTraining model).\n",
      "- This IS NOT expected if you are initializing BertModel from the checkpoint of a model that you expect to be exactly identical (initializing a BertForSequenceClassification model from a BertForSequenceClassification model).\n"
     ]
    }
   ],
   "source": [
    "context_7 = [compute_output(t, layer, head) for t in text_7]\n",
    "\n",
    "context_8 = [compute_output(t, layer, head) for t in text_8]"
   ]
  },
  {
   "cell_type": "code",
   "execution_count": 19,
   "metadata": {},
   "outputs": [
    {
     "name": "stdout",
     "output_type": "stream",
     "text": [
      "Tokens of the sub-collection: ['в', '##ер', '##шина', 'ай', '##с', '##берга']\n",
      "Distance matrix: (6, 6)\n",
      "Distance matrix: [[0.         4.03040878 3.76134136 4.3216673  4.97426338 5.00284068]\n",
      " [4.03040878 0.         3.55984842 4.67795635 5.02236033 4.57512271]\n",
      " [3.76134136 3.55984842 0.         3.33060461 4.45682862 3.86630066]\n",
      " [4.3216673  4.67795635 3.33060461 0.         4.28309202 4.78464734]\n",
      " [4.97426338 5.02236033 4.45682862 4.28309202 0.         5.77616581]\n",
      " [5.00284068 4.57512271 3.86630066 4.78464734 5.77616581 0.        ]]\n"
     ]
    },
    {
     "data": {
      "image/png": "[encoded data removed]",
      "text/plain": [
       "<Figure size 640x480 with 1 Axes>"
      ]
     },
     "metadata": {},
     "output_type": "display_data"
    },
    {
     "name": "stdout",
     "output_type": "stream",
     "text": [
      "Tokens of the sub-collection: ['в', '##ер', '##шина', 'ай', '##с', '##берга']\n",
      "Distance matrix: (6, 6)\n",
      "Distance matrix: [[0.         4.08494309 3.83755553 4.30026777 4.97199204 5.05322478]\n",
      " [4.08494309 0.         3.37073571 4.51390085 4.86640251 4.57418499]\n",
      " [3.83755553 3.37073571 0.         3.34541282 4.40958164 3.68570144]\n",
      " [4.30026777 4.51390085 3.34541282 0.         4.35351026 4.66807465]\n",
      " [4.97199204 4.86640251 4.40958164 4.35351026 0.         5.68365745]\n",
      " [5.05322478 4.57418499 3.68570144 4.66807465 5.68365745 0.        ]]\n"
     ]
    },
    {
     "data": {
      "image/png": "[encoded data removed]",
      "text/plain": [
       "<Figure size 640x480 with 1 Axes>"
      ]
     },
     "metadata": {},
     "output_type": "display_data"
    },
    {
     "name": "stdout",
     "output_type": "stream",
     "text": [
      "Bottleneck distance: 0.1891127029184454\n",
      "Wasserstein distance: = 0.38\n"
     ]
    }
   ],
   "source": [
    "# Compute the persistent homology\n",
    "persistent_homology_1 = compute_phrase_distances_and_homology(context_7[0], text_7[0], \"вершина айсберга\")\n",
    "persistent_homology_2 = compute_phrase_distances_and_homology(context_8[0], text_8[0], \"вершина айсберга\")\n",
    "\n",
    "# Convert the persistent homology data to a numpy array\n",
    "persistent_homology_np_1 = np.array([[pt[1][0], pt[1][1]] for pt in persistent_homology_1 if pt[1][1] != float('inf')])\n",
    "persistent_homology_np_2 = np.array([[pt[1][0], pt[1][1]] for pt in persistent_homology_2 if pt[1][1] != float('inf')])\n",
    "\n",
    "# Compute and print the bottleneck distance\n",
    "bottleneck_dist = gd.bottleneck_distance(persistent_homology_np_1, persistent_homology_np_2)\n",
    "print(f\"Bottleneck distance: {bottleneck_dist}\")\n",
    "\n",
    "# Compute and print the Wasserstein distance\n",
    "print(f\"Wasserstein distance: = {wasserstein_distance(persistent_homology_np_1, persistent_homology_np_2, order=1., internal_p=2.):.2f}\")"
   ]
  },
  {
   "attachments": {},
   "cell_type": "markdown",
   "metadata": {},
   "source": [
    "---\n",
    "\n",
    "## German Persistent Homology Comparison"
   ]
  },
  {
   "cell_type": "code",
   "execution_count": 20,
   "metadata": {},
   "outputs": [],
   "source": [
    "text_9 = [\"In der Welt der Linguistik ist ein tiefes Verständnis für Sprachstrukturen und ihre Beziehungen zentral. Dieses Verständnis beschränkt sich nicht nur auf das Erlernen von Vokabeln oder Grammatikregeln, sondern beinhaltet auch die Untersuchung von Details in Phonologie, Semantik und Syntax. Doch die üblichen Komponenten, auf die wir uns konzentrieren, wie Morpheme, Phoneme und Syntaxregeln, sind nur die Spitze des Eisbergs. Unter der Oberfläche liegt ein weites Feld kognitiver, sozialer und historischer Faktoren, die eine wichtige Rolle bei der Formung einer Sprache spielen. Das Verfeinern des Verständnisses dieser sekundären Einflüsse ist es, was einen versierten Linguisten von einem unerfahrenen Sprachlerner unterscheidet.\"]\n",
    "\n",
    "text_10 = [\"In der Welt des Deep Learning ist ein tiefes Verständnis für neuronale Netzwerke und ihre Strukturen zentral. Es geht nicht nur darum zu wissen, wie man einen Algorithmus schreibt, sondern auch zu verstehen, wie Unterschiede zwischen den Zellen im Netzwerk es ihr ermöglichen, zu lernen und Ergebnisse zu interpretieren. Aber die Algorithmen und Strukturen, auf die wir uns konzentrieren, wie Convolutional Neural Networks (CNNs) oder Recurrent Neural Networks (RNNs), sind nur die Spitze des Eisbergs. Unter der Oberfläche befinden sich komplexe Mechanismen wie Backpropagation, Gewichtsinitialisierung und Optimierungstechniken, die tatsächlich die Netzwerke antreiben. Die Beherrschung dieser feinen Details ist es, was einen Experten auf diesem Gebiet von einem unerfahrenen Programmierer unterscheidet.\"]"
   ]
  },
  {
   "cell_type": "code",
   "execution_count": 21,
   "metadata": {},
   "outputs": [
    {
     "name": "stderr",
     "output_type": "stream",
     "text": [
      "Some weights of the model checkpoint at bert-base-multilingual-cased were not used when initializing BertModel: ['cls.predictions.bias', 'cls.predictions.transform.LayerNorm.weight', 'cls.predictions.transform.LayerNorm.bias', 'cls.seq_relationship.weight', 'cls.predictions.transform.dense.weight', 'cls.seq_relationship.bias', 'cls.predictions.transform.dense.bias']\n",
      "- This IS expected if you are initializing BertModel from the checkpoint of a model trained on another task or with another architecture (e.g. initializing a BertForSequenceClassification model from a BertForPreTraining model).\n",
      "- This IS NOT expected if you are initializing BertModel from the checkpoint of a model that you expect to be exactly identical (initializing a BertForSequenceClassification model from a BertForSequenceClassification model).\n",
      "Some weights of the model checkpoint at bert-base-multilingual-cased were not used when initializing BertModel: ['cls.predictions.bias', 'cls.predictions.transform.LayerNorm.weight', 'cls.predictions.transform.LayerNorm.bias', 'cls.seq_relationship.weight', 'cls.predictions.transform.dense.weight', 'cls.seq_relationship.bias', 'cls.predictions.transform.dense.bias']\n",
      "- This IS expected if you are initializing BertModel from the checkpoint of a model trained on another task or with another architecture (e.g. initializing a BertForSequenceClassification model from a BertForPreTraining model).\n",
      "- This IS NOT expected if you are initializing BertModel from the checkpoint of a model that you expect to be exactly identical (initializing a BertForSequenceClassification model from a BertForSequenceClassification model).\n"
     ]
    }
   ],
   "source": [
    "context_9 = [compute_output(t, layer, head) for t in text_9]\n",
    "\n",
    "context_10 = [compute_output(t, layer, head) for t in text_10]"
   ]
  },
  {
   "cell_type": "code",
   "execution_count": 23,
   "metadata": {},
   "outputs": [
    {
     "name": "stdout",
     "output_type": "stream",
     "text": [
      "Tokens of the sub-collection: ['die', 'Spitze', 'des', 'Eis', '##bergs']\n",
      "Distance matrix: (5, 5)\n",
      "Distance matrix: [[0.         4.44652321 3.89490555 4.53430433 4.87720198]\n",
      " [4.44652321 0.         4.24759927 4.50255293 4.82625115]\n",
      " [3.89490555 4.24759927 0.         3.66645248 3.91729539]\n",
      " [4.53430433 4.50255293 3.66645248 0.         4.32851194]\n",
      " [4.87720198 4.82625115 3.91729539 4.32851194 0.        ]]\n"
     ]
    },
    {
     "data": {
      "image/png": "[encoded data removed]",
      "text/plain": [
       "<Figure size 640x480 with 1 Axes>"
      ]
     },
     "metadata": {},
     "output_type": "display_data"
    },
    {
     "name": "stdout",
     "output_type": "stream",
     "text": [
      "Tokens of the sub-collection: ['die', 'Spitze', 'des', 'Eis', '##bergs']\n",
      "Distance matrix: (5, 5)\n",
      "Distance matrix: [[0.         4.51437676 3.92585422 4.71304219 5.14388198]\n",
      " [4.51437676 0.         4.09115539 4.46552095 4.76912043]\n",
      " [3.92585422 4.09115539 0.         3.76985536 4.13040897]\n",
      " [4.71304219 4.46552095 3.76985536 0.         4.49140067]\n",
      " [5.14388198 4.76912043 4.13040897 4.49140067 0.        ]]\n"
     ]
    },
    {
     "data": {
      "image/png": "[encoded data removed]",
      "text/plain": [
       "<Figure size 640x480 with 1 Axes>"
      ]
     },
     "metadata": {},
     "output_type": "display_data"
    },
    {
     "name": "stdout",
     "output_type": "stream",
     "text": [
      "Bottleneck distance: 0.17386000414634006\n",
      "Wasserstein distance: = 0.43\n"
     ]
    }
   ],
   "source": [
    "# Compute the persistent homology\n",
    "persistent_homology_1 = compute_phrase_distances_and_homology(context_9[0], text_9[0], \"die Spitze des Eisbergs\")\n",
    "persistent_homology_2 = compute_phrase_distances_and_homology(context_10[0], text_10[0], \"die Spitze des Eisbergs\")\n",
    "\n",
    "# Convert the persistent homology data to a numpy array\n",
    "persistent_homology_np_1 = np.array([[pt[1][0], pt[1][1]] for pt in persistent_homology_1 if pt[1][1] != float('inf')])\n",
    "persistent_homology_np_2 = np.array([[pt[1][0], pt[1][1]] for pt in persistent_homology_2 if pt[1][1] != float('inf')])\n",
    "\n",
    "# Compute and print the bottleneck distance\n",
    "bottleneck_dist = gd.bottleneck_distance(persistent_homology_np_1, persistent_homology_np_2)\n",
    "print(f\"Bottleneck distance: {bottleneck_dist}\")\n",
    "\n",
    "# Compute and print the Wasserstein distance\n",
    "print(f\"Wasserstein distance: = {wasserstein_distance(persistent_homology_np_1, persistent_homology_np_2, order=1., internal_p=2.):.2f}\")"
   ]
  },
  {
   "attachments": {},
   "cell_type": "markdown",
   "metadata": {},
   "source": [
    "---\n",
    "\n",
    "##  French Persistent Homology Comparison"
   ]
  },
  {
   "cell_type": "code",
   "execution_count": 24,
   "metadata": {},
   "outputs": [],
   "source": [
    "text_11 = [\"Dans le monde de la linguistique, une compréhension profonde des structures linguistiques et de leurs relations est centrale. Cette compréhension ne se limite pas à l'apprentissage du vocabulaire ou des règles grammaticales, mais inclut également l'étude des détails de la phonologie, de la sémantique et de la syntaxe. Cependant, les composants usuels sur lesquels nous nous concentrons, tels que les morphèmes, les phonèmes et les règles de syntaxe, ne sont que la pointe de l'iceberg. Sous la surface se trouve un vaste champ de facteurs cognitifs, sociaux et historiques qui jouent un rôle important dans la formation d'une langue. Affiner la compréhension de ces influences secondaires est ce qui distingue un linguiste expérimenté d'un apprenant de langue inexpérimenté.\"]\n",
    "\n",
    "text_12 = [\"Dans le monde de l'apprentissage profond, une compréhension profonde des réseaux de neurones et de leurs structures est centrale. Il ne s'agit pas seulement de savoir comment écrire un algorithme, mais aussi de comprendre comment les différences entre les cellules du réseau lui permettent d'apprendre et d'interpréter les résultats. Cependant, les algorithmes et les structures sur lesquels nous nous concentrons habituellement, tels que les réseaux de neurones convolutionnels (CNNs) ou les réseaux de neurones récurrents (RNNs), ne sont que la pointe de l'iceberg. Sous la surface se trouvent des mécanismes complexes tels que la rétropropagation, l'initialisation des poids et les techniques d'optimisation, qui sont en réalité ce qui anime les réseaux. Maîtriser ces détails subtils est ce qui distingue un expert dans ce domaine d'un programmeur inexpérimenté.\"]"
   ]
  },
  {
   "cell_type": "code",
   "execution_count": 25,
   "metadata": {},
   "outputs": [
    {
     "name": "stderr",
     "output_type": "stream",
     "text": [
      "Some weights of the model checkpoint at bert-base-multilingual-cased were not used when initializing BertModel: ['cls.predictions.bias', 'cls.predictions.transform.LayerNorm.weight', 'cls.predictions.transform.LayerNorm.bias', 'cls.seq_relationship.weight', 'cls.predictions.transform.dense.weight', 'cls.seq_relationship.bias', 'cls.predictions.transform.dense.bias']\n",
      "- This IS expected if you are initializing BertModel from the checkpoint of a model trained on another task or with another architecture (e.g. initializing a BertForSequenceClassification model from a BertForPreTraining model).\n",
      "- This IS NOT expected if you are initializing BertModel from the checkpoint of a model that you expect to be exactly identical (initializing a BertForSequenceClassification model from a BertForSequenceClassification model).\n",
      "Some weights of the model checkpoint at bert-base-multilingual-cased were not used when initializing BertModel: ['cls.predictions.bias', 'cls.predictions.transform.LayerNorm.weight', 'cls.predictions.transform.LayerNorm.bias', 'cls.seq_relationship.weight', 'cls.predictions.transform.dense.weight', 'cls.seq_relationship.bias', 'cls.predictions.transform.dense.bias']\n",
      "- This IS expected if you are initializing BertModel from the checkpoint of a model trained on another task or with another architecture (e.g. initializing a BertForSequenceClassification model from a BertForPreTraining model).\n",
      "- This IS NOT expected if you are initializing BertModel from the checkpoint of a model that you expect to be exactly identical (initializing a BertForSequenceClassification model from a BertForSequenceClassification model).\n"
     ]
    }
   ],
   "source": [
    "context_11 = [compute_output(t, layer, head) for t in text_11]\n",
    "\n",
    "context_12 = [compute_output(t, layer, head) for t in text_12]"
   ]
  },
  {
   "cell_type": "code",
   "execution_count": 26,
   "metadata": {},
   "outputs": [
    {
     "name": "stdout",
     "output_type": "stream",
     "text": [
      "Tokens of the sub-collection: ['la', 'pointe', 'de', 'l', \"'\", 'ice', '##berg']\n",
      "Distance matrix: (7, 7)\n",
      "Distance matrix: [[0.         5.26527413 4.34918454 4.13338292 5.01011668 5.26141016\n",
      "  5.18700897]\n",
      " [5.26527413 0.         5.13704062 5.32786945 5.14453574 5.74164705\n",
      "  6.38003842]\n",
      " [4.34918454 5.13704062 0.         3.74493608 3.60074362 3.64966142\n",
      "  4.11671561]\n",
      " [4.13338292 5.32786945 3.74493608 0.         3.78892333 4.34231669\n",
      "  4.17763392]\n",
      " [5.01011668 5.14453574 3.60074362 3.78892333 0.         3.23491361\n",
      "  4.14294941]\n",
      " [5.26141016 5.74164705 3.64966142 4.34231669 3.23491361 0.\n",
      "  3.68729902]\n",
      " [5.18700897 6.38003842 4.11671561 4.17763392 4.14294941 3.68729902\n",
      "  0.        ]]\n"
     ]
    },
    {
     "data": {
      "image/png": "[encoded data removed]",
      "text/plain": [
       "<Figure size 640x480 with 1 Axes>"
      ]
     },
     "metadata": {},
     "output_type": "display_data"
    },
    {
     "name": "stdout",
     "output_type": "stream",
     "text": [
      "Tokens of the sub-collection: ['la', 'pointe', 'de', 'l', \"'\", 'ice', '##berg']\n",
      "Distance matrix: (7, 7)\n",
      "Distance matrix: [[0.         5.30838084 4.54820758 4.30243799 5.1273415  5.47393441\n",
      "  5.22497305]\n",
      " [5.30838084 0.         5.15650237 5.46620702 5.29570396 5.93107289\n",
      "  6.41844858]\n",
      " [4.54820758 5.15650237 0.         3.7296403  3.58586384 3.85555585\n",
      "  4.30229214]\n",
      " [4.30243799 5.46620702 3.7296403  0.         3.6318272  4.36800039\n",
      "  4.10034306]\n",
      " [5.1273415  5.29570396 3.58586384 3.6318272  0.         3.15888001\n",
      "  3.99289605]\n",
      " [5.47393441 5.93107289 3.85555585 4.36800039 3.15888001 0.\n",
      "  3.7638274 ]\n",
      " [5.22497305 6.41844858 4.30229214 4.10034306 3.99289605 3.7638274\n",
      "  0.        ]]\n"
     ]
    },
    {
     "data": {
      "image/png": "[encoded data removed]",
      "text/plain": [
       "<Figure size 640x480 with 1 Axes>"
      ]
     },
     "metadata": {},
     "output_type": "display_data"
    },
    {
     "name": "stdout",
     "output_type": "stream",
     "text": [
      "Bottleneck distance: 0.16905507590733926\n",
      "Wasserstein distance: = 0.35\n"
     ]
    }
   ],
   "source": [
    "# Compute the persistent homology\n",
    "persistent_homology_1 = compute_phrase_distances_and_homology(context_11[0], text_11[0], \"la pointe de l'iceberg\")\n",
    "persistent_homology_2 = compute_phrase_distances_and_homology(context_12[0], text_12[0], \"la pointe de l'iceberg\")\n",
    "\n",
    "# Convert the persistent homology data to a numpy array\n",
    "persistent_homology_np_1 = np.array([[pt[1][0], pt[1][1]] for pt in persistent_homology_1 if pt[1][1] != float('inf')])\n",
    "persistent_homology_np_2 = np.array([[pt[1][0], pt[1][1]] for pt in persistent_homology_2 if pt[1][1] != float('inf')])\n",
    "\n",
    "# Compute and print the bottleneck distance\n",
    "bottleneck_dist = gd.bottleneck_distance(persistent_homology_np_1, persistent_homology_np_2)\n",
    "print(f\"Bottleneck distance: {bottleneck_dist}\")\n",
    "\n",
    "# Compute and print the Wasserstein distance\n",
    "print(f\"Wasserstein distance: = {wasserstein_distance(persistent_homology_np_1, persistent_homology_np_2, order=1., internal_p=2.):.2f}\")"
   ]
  },
  {
   "attachments": {},
   "cell_type": "markdown",
   "metadata": {},
   "source": [
    "---\n",
    "\n",
    "##  Bengali Persistent Homology Comparison"
   ]
  },
  {
   "cell_type": "code",
   "execution_count": 27,
   "metadata": {},
   "outputs": [],
   "source": [
    "text_13 = [\"ভাষাবিজ্ঞানের জগতে ভাষার গঠনমূলগুলি এবং তাদের মধ্যে সম্পর্কের গভীর বোধ কেন্দ্রীয়। এই বোধ শুধু ভোকাবুলারি বা ব্যাকরণের নিয়ম শেখার সাথে সীমাবদ্ধ নয়, বরং ফোনেটিক্স, সেম্যান্টিক্স এবং সিনট্যাক্সের বিস্তারিত অধ্যয়নও অন্তর্ভুক্ত করে। তবে, আমরা যে সাধারণ উপাদানগুলিতে মনোনিবেশ করি, যেমন মর্ফেম, ফোনেম এবং ব্যাকরণের নিয়ম, তা শুধু আইসবার্গের শীর্ষ। পৃষ্ঠতলের নিচে সংজ্ঞানাত্মক, সামাজিক এবং ঐতিহাসিক কারকগুলির একটি বিশাল ক্ষেত্র রয়েছে, যা একটি ভাষার গঠনে গুরুত্বপূর্ণ ভূমিকা পালন করে। এই দ্বিতীয়কক্ষ প্রভাবগুলির বোধ নির্দিষ্ট করা হলেই একজন অভিজ্ঞ ভাষাবিজ্ঞানী এবং অঅভিজ্ঞ ভাষা শিক্ষার্থীর মধ্যে পার্থক্য তৈরি হয়।\"]\n",
    "\n",
    "text_14 = [\"ডিপ লার্নিং-এর পৃথিবীতে নিউরাল নেটওয়ার্ক এবং তাদের গঠনের গভীর বোধ কেন্দ্রীয়। এটি শুধু একটি অ্যালগরিদম লিখতে জানার বিষয় নয়, বরং নেটওয়ার্কের সেলগুলিতে পার্থক্য তাকে শেখার এবং ফলাফল ব্যাখ্যা করার ক্ষমতা বুঝতে ও অভিজ্ঞতা অর্জন করার ক্ষেত্রে গুরুত্বপূর্ণ। তবে, আমরা যে অ্যালগরিদম এবং গঠনগুলিতে সাধারণত মনোনিবেশ করি, যেমন কনভলিউশনাল নিউরাল নেটওয়ার্ক (CNNs) বা রিকারেন্ট নিউরাল নেটওয়ার্ক (RNNs), সেগুলি শুধু আইসবার্গের শীর্ষ। পৃষ্ঠতলের নিচে জটিল মেকানিজমগুলি রয়েছে, যেমন ব্যাকপ্রোপাগেশন, ওজন আরম্ভিকীকরণ এবং অনুকূলন পদ্ধতিগুলি, যা প্রকৃতপক্ষে নেটওয়ার্কগুলিকে চালিত করে। এই সূক্ষ্ম বিস্তারিতগুলিরএই সূক্ষ্ম বিস্তারিতগুলির দক্ষতা অর্জন করা হলেই একজন অভিজ্ঞ প্রোগ্রামার এবং অঅভিজ্ঞ প্রোগ্রামারের মধ্যে পার্থক্য তৈরি হয়।\"]"
   ]
  },
  {
   "cell_type": "code",
   "execution_count": 28,
   "metadata": {},
   "outputs": [
    {
     "name": "stderr",
     "output_type": "stream",
     "text": [
      "Some weights of the model checkpoint at bert-base-multilingual-cased were not used when initializing BertModel: ['cls.predictions.bias', 'cls.predictions.transform.LayerNorm.weight', 'cls.predictions.transform.LayerNorm.bias', 'cls.seq_relationship.weight', 'cls.predictions.transform.dense.weight', 'cls.seq_relationship.bias', 'cls.predictions.transform.dense.bias']\n",
      "- This IS expected if you are initializing BertModel from the checkpoint of a model trained on another task or with another architecture (e.g. initializing a BertForSequenceClassification model from a BertForPreTraining model).\n",
      "- This IS NOT expected if you are initializing BertModel from the checkpoint of a model that you expect to be exactly identical (initializing a BertForSequenceClassification model from a BertForSequenceClassification model).\n",
      "Some weights of the model checkpoint at bert-base-multilingual-cased were not used when initializing BertModel: ['cls.predictions.bias', 'cls.predictions.transform.LayerNorm.weight', 'cls.predictions.transform.LayerNorm.bias', 'cls.seq_relationship.weight', 'cls.predictions.transform.dense.weight', 'cls.seq_relationship.bias', 'cls.predictions.transform.dense.bias']\n",
      "- This IS expected if you are initializing BertModel from the checkpoint of a model trained on another task or with another architecture (e.g. initializing a BertForSequenceClassification model from a BertForPreTraining model).\n",
      "- This IS NOT expected if you are initializing BertModel from the checkpoint of a model that you expect to be exactly identical (initializing a BertForSequenceClassification model from a BertForSequenceClassification model).\n"
     ]
    }
   ],
   "source": [
    "context_13 = [compute_output(t, layer, head) for t in text_13]\n",
    "\n",
    "context_14 = [compute_output(t, layer, head) for t in text_14]"
   ]
  },
  {
   "cell_type": "code",
   "execution_count": 29,
   "metadata": {},
   "outputs": [
    {
     "name": "stdout",
     "output_type": "stream",
     "text": [
      "Tokens of the sub-collection: ['আ', '##ই', '##সব', '##ার', '##্গ', '##ের', 'শ', '##ীর', '##্', '##ষ']\n",
      "Distance matrix: (10, 10)\n",
      "Distance matrix: [[0.         5.34451439 6.22733753 6.14588082 6.07187583 5.29108209\n",
      "  5.93117898 5.91757682 6.04354031 5.70520574]\n",
      " [5.34451439 0.         5.48478614 6.13669622 6.50699004 5.87895888\n",
      "  5.77026494 5.64390057 6.3740362  7.2583097 ]\n",
      " [6.22733753 5.48478614 0.         3.45018692 4.64517444 4.84100891\n",
      "  4.64806395 4.92545926 4.52719048 5.59390612]\n",
      " [6.14588082 6.13669622 3.45018692 0.         4.12479966 4.39757373\n",
      "  4.03691385 4.64901257 4.81737926 4.72773046]\n",
      " [6.07187583 6.50699004 4.64517444 4.12479966 0.         4.30093787\n",
      "  4.35468919 4.80057889 4.61140867 5.22557135]\n",
      " [5.29108209 5.87895888 4.84100891 4.39757373 4.30093787 0.\n",
      "  3.33405446 3.89700594 4.23665588 4.71426909]\n",
      " [5.93117898 5.77026494 4.64806395 4.03691385 4.35468919 3.33405446\n",
      "  0.         3.49660919 4.66931932 5.1779146 ]\n",
      " [5.91757682 5.64390057 4.92545926 4.64901257 4.80057889 3.89700594\n",
      "  3.49660919 0.         4.4132027  5.07033795]\n",
      " [6.04354031 6.3740362  4.52719048 4.81737926 4.61140867 4.23665588\n",
      "  4.66931932 4.4132027  0.         4.12846034]\n",
      " [5.70520574 7.2583097  5.59390612 4.72773046 5.22557135 4.71426909\n",
      "  5.1779146  5.07033795 4.12846034 0.        ]]\n"
     ]
    },
    {
     "data": {
      "image/png": "[encoded data removed]",
      "text/plain": [
       "<Figure size 640x480 with 1 Axes>"
      ]
     },
     "metadata": {},
     "output_type": "display_data"
    },
    {
     "name": "stdout",
     "output_type": "stream",
     "text": [
      "Tokens of the sub-collection: ['আ', '##ই', '##সব', '##ার', '##্গ', '##ের', 'শ', '##ীর', '##্', '##ষ']\n",
      "Distance matrix: (10, 10)\n",
      "Distance matrix: [[0.         5.4902103  6.45563975 6.21329733 6.11514913 5.56149574\n",
      "  5.9314102  6.0912526  6.17624559 5.73835319]\n",
      " [5.4902103  0.         5.75555193 6.31155779 6.72674544 5.98121683\n",
      "  5.95560512 5.82389601 6.71011814 7.57148895]\n",
      " [6.45563975 5.75555193 0.         3.28233796 4.55657613 4.74420333\n",
      "  4.73044704 4.93854251 4.71790735 5.86848413]\n",
      " [6.21329733 6.31155779 3.28233796 0.         4.038091   3.91606423\n",
      "  4.12092348 4.41353252 4.60103471 4.8905736 ]\n",
      " [6.11514913 6.72674544 4.55657613 4.038091   0.         4.24284775\n",
      "  4.04405468 4.54771915 4.7949307  5.23356504]\n",
      " [5.56149574 5.98121683 4.74420333 3.91606423 4.24284775 0.\n",
      "  3.40830628 4.04056568 4.30046546 4.66459665]\n",
      " [5.9314102  5.95560512 4.73044704 4.12092348 4.04405468 3.40830628\n",
      "  0.         3.49050218 4.72079802 5.34198865]\n",
      " [6.0912526  5.82389601 4.93854251 4.41353252 4.54771915 4.04056568\n",
      "  3.49050218 0.         4.71196406 5.21988236]\n",
      " [6.17624559 6.71011814 4.71790735 4.60103471 4.7949307  4.30046546\n",
      "  4.72079802 4.71196406 0.         4.02527418]\n",
      " [5.73835319 7.57148895 5.86848413 4.8905736  5.23356504 4.66459665\n",
      "  5.34198865 5.21988236 4.02527418 0.        ]]\n"
     ]
    },
    {
     "data": {
      "image/png": "[encoded data removed]",
      "text/plain": [
       "<Figure size 640x480 with 1 Axes>"
      ]
     },
     "metadata": {},
     "output_type": "display_data"
    },
    {
     "name": "stdout",
     "output_type": "stream",
     "text": [
      "Bottleneck distance: 0.21698135031707544\n",
      "Wasserstein distance: = 1.35\n"
     ]
    }
   ],
   "source": [
    "# Compute the persistent homology\n",
    "persistent_homology_1 = compute_phrase_distances_and_homology(context_13[0], text_13[0], \"আইসবার্গের শীর্ষ\")\n",
    "persistent_homology_2 = compute_phrase_distances_and_homology(context_14[0], text_14[0], \"আইসবার্গের শীর্ষ\")\n",
    "\n",
    "# Convert the persistent homology data to a numpy array\n",
    "persistent_homology_np_1 = np.array([[pt[1][0], pt[1][1]] for pt in persistent_homology_1 if pt[1][1] != float('inf')])\n",
    "persistent_homology_np_2 = np.array([[pt[1][0], pt[1][1]] for pt in persistent_homology_2 if pt[1][1] != float('inf')])\n",
    "\n",
    "# Compute and print the bottleneck distance\n",
    "bottleneck_dist = gd.bottleneck_distance(persistent_homology_np_1, persistent_homology_np_2)\n",
    "print(f\"Bottleneck distance: {bottleneck_dist}\")\n",
    "\n",
    "# Compute and print the Wasserstein distance\n",
    "print(f\"Wasserstein distance: = {wasserstein_distance(persistent_homology_np_1, persistent_homology_np_2, order=1., internal_p=2.):.2f}\")"
   ]
  },
  {
   "cell_type": "code",
   "execution_count": null,
   "metadata": {},
   "outputs": [],
   "source": []
  }
 ],
 "metadata": {
  "kernelspec": {
   "display_name": "env_1",
   "language": "python",
   "name": "python3"
  },
  "language_info": {
   "codemirror_mode": {
    "name": "ipython",
    "version": 3
   },
   "file_extension": ".py",
   "mimetype": "text/x-python",
   "name": "python",
   "nbconvert_exporter": "python",
   "pygments_lexer": "ipython3",
   "version": "3.10.11"
  },
  "orig_nbformat": 4
 },
 "nbformat": 4,
 "nbformat_minor": 2
}
