{
 "cells": [
  {
   "attachments": {},
   "cell_type": "markdown",
   "metadata": {},
   "source": [
    "# Persistent Homology of Collocations and Multiword Expressions Across Contexts for Hebrew"
   ]
  },
  {
   "attachments": {},
   "cell_type": "markdown",
   "metadata": {},
   "source": [
    "This notebook is for comparing how well two models preserves the persistent homology of some keyphrase like a collocation, multiword expression, or idiom. We take such a keyphrase and place it in several different contexts `text[i]`, then compute the persistent homology of the context vectors in each context. Once this is complete, we compute the pairwise distances between the persistent diagrams using the Wasserstein distance metric. This gives two distance matrices, one for each mode (here we use `xlm-roberta-large` and `TurkuNLP/wikibert-base-he-cased`). Once we have computed this distance matrix, we do a simple elementwise comparison to see what percentage of the elements in the difference of the two distance matrices are negative. Note that this is a per attention head comparison, so we can compare different attention heads in each model. Changing the second function `compute_output_b()` to use the first model `xlm-roberta-large` allows for comparing different attention heads *within the same model*. "
   ]
  },
  {
   "cell_type": "code",
   "execution_count": 102,
   "metadata": {},
   "outputs": [
    {
     "name": "stdout",
     "output_type": "stream",
     "text": [
      "huggingface/tokenizers: The current process just got forked, after parallelism has already been used. Disabling parallelism to avoid deadlocks...\n",
      "To disable this warning, you can either:\n",
      "\t- Avoid using `tokenizers` before the fork if possible\n",
      "\t- Explicitly set the environment variable TOKENIZERS_PARALLELISM=(true | false)\n",
      "Note: you may need to restart the kernel to use updated packages.\n"
     ]
    }
   ],
   "source": [
    "pip install transformers torch numpy gudhi -q"
   ]
  },
  {
   "cell_type": "code",
   "execution_count": 103,
   "metadata": {},
   "outputs": [],
   "source": [
    "text = [\"בחופשה האחרונה שלנו, נסענו להכיר את היופיים של מדבר הנגב. בין אם מדובר בצוקים המרשימים, בחי הבר המיוחד, או בשקט המוחלט, יש משהו מאוד מיוחד במדבר. אחת החוויות המרגשות ביותר שלנו הייתה לצפות בזרחת השמש מעל המדבר. האור המתפשט מאחורי ההרים, השמים המשתנים מאוד מהיר מאופל לתכלת, והשלווה המוחלטת שאפשר רק במדבר, הכל הפך את החוויה לבלתי נשכחת\", \n",
    "          \n",
    "          \"במהלך שנת הלימודים הראשונה שלי באוניברסיטה, הצטרפתי לקבוצת טיול שהגיעה להר האייפל. למרות הקור החודר, הייתי מחויב לעלות לפסגה בכל בוקר, כדי לצפות בזרחת השמש מעל פריס\", \n",
    "          \n",
    "          \"הייתי מתעורר בבוקר מוקדם, לפני כולם, כדי לצפות בזרחת השמש. היו ימים שהשמים היו מלאים בגוונים של ורוד וכתום, והאוויר הקר היה ממלא את הריאות. הייתי נושם את השקט, מאזין לשירת הציפורים, ומרגיש את היום החדש שמתחיל.\", \n",
    "          \n",
    "          \"הייתה לי הרגל לצפות בזרחת השמש כאשר הייתי טסה למקומות רחוקים. הייתי מתמקדת באור הזהב של השמש שהתפשט על פני האופק. זה היה רגע של שקט ושלווה, שבו הייתי מרגישה את האפשרויות של היום שלפני.\", \n",
    "          \n",
    "          \"אחד הדברים שאני ממש אוהב לעשות בחופשות הוא לצפות בזרחת השמש על גג המלון. אין דבר יותר מרגיע מאשר לשבת עם כוס קפה ביד, להתבונן בנוף, ולראות איך העולם מתעורר לחיים.\", \n",
    "          \n",
    "          \"במהלך ההליכה, עצרנו לרגע כדי לצפות בזרחת השמש. האור הראשוני של היום הזהיר את השמיים בצבעים של זהב, ואנחנו ישבנו שם בשקט, מתפללים ליום טוב.\", \n",
    "          \n",
    "          \"אני מאמין שאין דבר מרגש יותר מ לצפות בזרחת השמש. כאשר האור הראשונים מתחילים להתפשט באופק, אתה מרגיש כאילו אתה חלק ממשהו גדול מאוד. זה מזכיר לי כמה העולם הזה גדול ויפה.\", \n",
    "          \n",
    "          \"אחת הפעמים המיוחדות ביותר שבהן הזמנתי לצפות בזרחת השמש הייתה בחופשה שלי בהודו. הייתי מתעורר מוקדם, לפני כל העולם, ומשתקף למראה המרהיבה של השמש המתעלה מעל האוקיינוס. זה היה חוויה שאני לעולם לא אשכח.\", \n",
    "          \n",
    "          \"אני אוהב לצפות בזרחת השמש מהחלון שלי. זה נותן לי את האנרגיה להתחיל את היום. אני אפילו מקדיש כמה דקות בכל בוקר לקחת כוס קפה, לשבת מול החלון, ולהשתקף במראה המדהים הזה.\", \n",
    "          \n",
    "          \"בראשית, אני אוהב לצפות בזרחת השמש מהמרפסת שלי. זה מזכיר לי את היופי של העולם, את התקווה של יום חדש, ואת החיים הממשיכים להתפתח בכל יום. כל זריחה מציגה תמונה שונה, נוף חדש שממלא אותי בתחושת התרגשות והתפעלות.\", \n",
    "          \n",
    "          \"היום האחרון שלי ביפן היה יום מיוחד. יצאתי להליך מוקדם בבוקר, כדי לצפות בזרחת השמש מעל הר הפוג'. האור הראשוני של היום מאיר את השיחים המקופים בשלג, מצייר תמונה יפהפיה שאני לעולם לא אשכח.\", \n",
    "          \n",
    "          \"אחד החוויות המרגשות ביותר שלי היתה לצפות בזרחת השמש מעל הפירמידות במצרים. האור החום החודר את השחקים, מאיר את האבנים העתיקות, ומעניק להם מראה של זהב. זה היה רגע של התבוננות והתפעלות על ההיסטוריה שלנו.\", \n",
    "          \n",
    "          \"כאשר אני מטייל בים, אני מתכנן לצפות בזרחת השמש מהחוף. אין דבר מרהיב יותר מלראות את האור הראשון של היום מתפשט על גלי הים, משנה את צבעם לגוונים של זהב ואורנג'. זה הופך את החוויה של ההליכה למשהו יוצא דופן.\", \n",
    "          \n",
    "          \"האלפים היה חלום שלי. כשהגעתי לשם, הייתי עייף אבל מרוצה. לצפות בזרחת השמש מהפסגה, כשהאור העדין של השחר התחיל להתפשט על השפעי השלג הלבנים, היה חוויה בלתי נשכחת. העולם התמלא בנופים שלא ראיתי מעולם. זה היה מרגע של שלווה ושקט, שהיה שווה את כל המאמץ.\", \n",
    "          \n",
    "          \"אחרי שהוא התעורר מהשנה, איזיק הכין לעצמו כוס קפה והולך להסתובב בגן הפרטי שלו. זו הייתה הדרך האהובה עליו להתחיל את היום - לצפות בזרחת השמש ולשמוע את הציפורים מצפצפות.\", \n",
    "          \n",
    "          \"את חייבת לצפות בזרחת השמש מהחוף שלנו, אמר יגאל למרים, כאשר הם הגיעו לבית הנופש של המשפחה. זו תחוויה בלתי נשכחת, משהו שתזכורי לעוד שנים.\",\n",
    "          \n",
    "          \"בזמן שהכל בעיר עדיין ישן, רבקה מתעוררת בשעה המוקדמת ביותר שאפשר, מתארגנת, ויוצאת לרוץ. היא אוהבת את השקט של אותן שעות, והמראה של העיר שמתעוררת לחיים. אבל מעל כל, זה הזמן היחיד שהיא יכולה לצפות בזרחת השמש בלי להיות מופרעת.\",\n",
    "\n",
    "          \"לשפת האגם הגיעה מיה, המצלמה שלה כבר מוכנה לפעולה. היא התיישבה בשקט, מצפה לרגע הנכון. היא יודעת שממש בקרוב, היא תהיה מסוגלת לצפות בזרחת השמש, והיא רוצה לתפוס את הרגע המושלם בתמונה.\", \n",
    "\n",
    "          \"אחד הדברים המרגשים ביותר בנסיעה לאילת הוא ההזדמנות לצפות בזרחת השמש מעל המדבר. השמים משנים את צורתם מכל הכיוונים, מתוך כך מתמלאים בצבעים רבים, מאוד רומנטי. זהו זמן מיוחד להיות בהם, ולהרגיש את השקט שממלא את האוויר.\", \n",
    "\n",
    "          \"הלכתי לשבת על החוף, מחכה לצפות בזרחת השמש. הים היה שקט ומנוחה, האור הפליד התחיל להתפשט באופק. כשהשמש קמה, היא הפכה את השמים לפריים של צבעים מרהיבים. זה היה רגע של שלווה ושקט, שהגיע לפיקו בזריחה המרהיבה.\"\n",
    "\n",
    "\n",
    "]\n"
   ]
  },
  {
   "cell_type": "code",
   "execution_count": 104,
   "metadata": {},
   "outputs": [
    {
     "name": "stdout",
     "output_type": "stream",
     "text": [
      "0 בחופשה האחרונה שלנו, נסענו להכיר את היופיים של מדבר הנגב. בין אם מדובר בצוקים המרשימים, בחי הבר המיוחד, או בשקט המוחלט, יש משהו מאוד מיוחד במדבר. אחת החוויות המרגשות ביותר שלנו הייתה לצפות בזרחת השמש מעל המדבר. האור המתפשט מאחורי ההרים, השמים המשתנים מאוד מהיר מאופל לתכלת, והשלווה המוחלטת שאפשר רק במדבר, הכל הפך את החוויה לבלתי נשכחת\n",
      "1 במהלך שנת הלימודים הראשונה שלי באוניברסיטה, הצטרפתי לקבוצת טיול שהגיעה להר האייפל. למרות הקור החודר, הייתי מחויב לעלות לפסגה בכל בוקר, כדי לצפות בזרחת השמש מעל פריס\n",
      "2 הייתי מתעורר בבוקר מוקדם, לפני כולם, כדי לצפות בזרחת השמש. היו ימים שהשמים היו מלאים בגוונים של ורוד וכתום, והאוויר הקר היה ממלא את הריאות. הייתי נושם את השקט, מאזין לשירת הציפורים, ומרגיש את היום החדש שמתחיל.\n",
      "3 הייתה לי הרגל לצפות בזרחת השמש כאשר הייתי טסה למקומות רחוקים. הייתי מתמקדת באור הזהב של השמש שהתפשט על פני האופק. זה היה רגע של שקט ושלווה, שבו הייתי מרגישה את האפשרויות של היום שלפני.\n",
      "4 אחד הדברים שאני ממש אוהב לעשות בחופשות הוא לצפות בזרחת השמש על גג המלון. אין דבר יותר מרגיע מאשר לשבת עם כוס קפה ביד, להתבונן בנוף, ולראות איך העולם מתעורר לחיים.\n",
      "5 במהלך ההליכה, עצרנו לרגע כדי לצפות בזרחת השמש. האור הראשוני של היום הזהיר את השמיים בצבעים של זהב, ואנחנו ישבנו שם בשקט, מתפללים ליום טוב.\n",
      "6 אני מאמין שאין דבר מרגש יותר מ לצפות בזרחת השמש. כאשר האור הראשונים מתחילים להתפשט באופק, אתה מרגיש כאילו אתה חלק ממשהו גדול מאוד. זה מזכיר לי כמה העולם הזה גדול ויפה.\n",
      "7 אחת הפעמים המיוחדות ביותר שבהן הזמנתי לצפות בזרחת השמש הייתה בחופשה שלי בהודו. הייתי מתעורר מוקדם, לפני כל העולם, ומשתקף למראה המרהיבה של השמש המתעלה מעל האוקיינוס. זה היה חוויה שאני לעולם לא אשכח.\n",
      "8 אני אוהב לצפות בזרחת השמש מהחלון שלי. זה נותן לי את האנרגיה להתחיל את היום. אני אפילו מקדיש כמה דקות בכל בוקר לקחת כוס קפה, לשבת מול החלון, ולהשתקף במראה המדהים הזה.\n",
      "9 בראשית, אני אוהב לצפות בזרחת השמש מהמרפסת שלי. זה מזכיר לי את היופי של העולם, את התקווה של יום חדש, ואת החיים הממשיכים להתפתח בכל יום. כל זריחה מציגה תמונה שונה, נוף חדש שממלא אותי בתחושת התרגשות והתפעלות.\n",
      "10 היום האחרון שלי ביפן היה יום מיוחד. יצאתי להליך מוקדם בבוקר, כדי לצפות בזרחת השמש מעל הר הפוג'. האור הראשוני של היום מאיר את השיחים המקופים בשלג, מצייר תמונה יפהפיה שאני לעולם לא אשכח.\n",
      "11 אחד החוויות המרגשות ביותר שלי היתה לצפות בזרחת השמש מעל הפירמידות במצרים. האור החום החודר את השחקים, מאיר את האבנים העתיקות, ומעניק להם מראה של זהב. זה היה רגע של התבוננות והתפעלות על ההיסטוריה שלנו.\n",
      "12 כאשר אני מטייל בים, אני מתכנן לצפות בזרחת השמש מהחוף. אין דבר מרהיב יותר מלראות את האור הראשון של היום מתפשט על גלי הים, משנה את צבעם לגוונים של זהב ואורנג'. זה הופך את החוויה של ההליכה למשהו יוצא דופן.\n",
      "13 האלפים היה חלום שלי. כשהגעתי לשם, הייתי עייף אבל מרוצה. לצפות בזרחת השמש מהפסגה, כשהאור העדין של השחר התחיל להתפשט על השפעי השלג הלבנים, היה חוויה בלתי נשכחת. העולם התמלא בנופים שלא ראיתי מעולם. זה היה מרגע של שלווה ושקט, שהיה שווה את כל המאמץ.\n",
      "14 אחרי שהוא התעורר מהשנה, איזיק הכין לעצמו כוס קפה והולך להסתובב בגן הפרטי שלו. זו הייתה הדרך האהובה עליו להתחיל את היום - לצפות בזרחת השמש ולשמוע את הציפורים מצפצפות.\n",
      "15 את חייבת לצפות בזרחת השמש מהחוף שלנו, אמר יגאל למרים, כאשר הם הגיעו לבית הנופש של המשפחה. זו תחוויה בלתי נשכחת, משהו שתזכורי לעוד שנים.\n",
      "16 בזמן שהכל בעיר עדיין ישן, רבקה מתעוררת בשעה המוקדמת ביותר שאפשר, מתארגנת, ויוצאת לרוץ. היא אוהבת את השקט של אותן שעות, והמראה של העיר שמתעוררת לחיים. אבל מעל כל, זה הזמן היחיד שהיא יכולה לצפות בזרחת השמש בלי להיות מופרעת.\n",
      "17 לשפת האגם הגיעה מיה, המצלמה שלה כבר מוכנה לפעולה. היא התיישבה בשקט, מצפה לרגע הנכון. היא יודעת שממש בקרוב, היא תהיה מסוגלת לצפות בזרחת השמש, והיא רוצה לתפוס את הרגע המושלם בתמונה.\n",
      "18 אחד הדברים המרגשים ביותר בנסיעה לאילת הוא ההזדמנות לצפות בזרחת השמש מעל המדבר. השמים משנים את צורתם מכל הכיוונים, מתוך כך מתמלאים בצבעים רבים, מאוד רומנטי. זהו זמן מיוחד להיות בהם, ולהרגיש את השקט שממלא את האוויר.\n",
      "19 הלכתי לשבת על החוף, מחכה לצפות בזרחת השמש. הים היה שקט ומנוחה, האור הפליד התחיל להתפשט באופק. כשהשמש קמה, היא הפכה את השמים לפריים של צבעים מרהיבים. זה היה רגע של שלווה ושקט, שהגיע לפיקו בזריחה המרהיבה.\n"
     ]
    }
   ],
   "source": [
    "for i in range(len(text)):\n",
    "    print(i, text[i])"
   ]
  },
  {
   "cell_type": "code",
   "execution_count": 105,
   "metadata": {},
   "outputs": [],
   "source": [
    "import torch\n",
    "from transformers import BertTokenizer, BertModel\n",
    "from transformers import BertModel, BertTokenizerFast\n",
    "from transformers import AutoTokenizer, AutoModel \n",
    "import transformers\n",
    "\n",
    "def compute_output_model(tokenizer, model, sentence, layer, head):\n",
    "    # Load pre-trained model\n",
    "\n",
    "    # Tokenize input and convert to tensor\n",
    "    inputs = tokenizer(sentence, return_tensors=\"pt\")\n",
    "\n",
    "    # Forward pass\n",
    "    # Specify `output_hidden_states=True` when calling the model\n",
    "    outputs = model(**inputs, output_attentions=True, output_hidden_states=True)\n",
    "\n",
    "    # Obtain the attention weights\n",
    "    attentions = outputs.attentions\n",
    "\n",
    "    # Obtain the attention weights for the specific layer and head\n",
    "    S = attentions[layer][0, head]\n",
    "\n",
    "    # Obtain the value vectors\n",
    "    model.eval()\n",
    "    with torch.no_grad():\n",
    "        hidden_states = outputs.hidden_states[layer]\n",
    "        all_W_v = model.encoder.layer[layer].attention.self.value.weight\n",
    "        num_heads = model.config.num_attention_heads\n",
    "        head_dim = model.config.hidden_size // num_heads\n",
    "        W_v_heads = all_W_v.view(num_heads, head_dim, model.config.hidden_size)\n",
    "        W_v = W_v_heads[head]\n",
    "        V = torch.matmul(hidden_states, W_v.t())\n",
    "\n",
    "    # Compute the output O\n",
    "    O = torch.matmul(S, V)\n",
    "\n",
    "    return O"
   ]
  },
  {
   "cell_type": "code",
   "execution_count": 106,
   "metadata": {},
   "outputs": [
    {
     "name": "stderr",
     "output_type": "stream",
     "text": [
      "Some weights of the model checkpoint at xlm-roberta-large were not used when initializing XLMRobertaModel: ['lm_head.layer_norm.bias', 'lm_head.dense.weight', 'lm_head.bias', 'lm_head.layer_norm.weight', 'lm_head.dense.bias']\n",
      "- This IS expected if you are initializing XLMRobertaModel from the checkpoint of a model trained on another task or with another architecture (e.g. initializing a BertForSequenceClassification model from a BertForPreTraining model).\n",
      "- This IS NOT expected if you are initializing XLMRobertaModel from the checkpoint of a model that you expect to be exactly identical (initializing a BertForSequenceClassification model from a BertForSequenceClassification model).\n"
     ]
    }
   ],
   "source": [
    "tokenizer = AutoTokenizer.from_pretrained('xlm-roberta-large')\n",
    "model = AutoModel.from_pretrained(\"xlm-roberta-large\", output_attentions=True) \n",
    "\n",
    "\n",
    "# Set the layer and head to use for computation\n",
    "layer = 7\n",
    "head = 3\n",
    "\n",
    "context = []\n",
    "for i in range(len(text)):\n",
    "    context.append(compute_output_model(tokenizer, model, text[i], layer, head))"
   ]
  },
  {
   "cell_type": "code",
   "execution_count": 107,
   "metadata": {},
   "outputs": [
    {
     "name": "stdout",
     "output_type": "stream",
     "text": [
      "torch.Size([1, 63, 64])\n",
      "tensor([[[ 0.0542,  0.0071,  0.0059,  ...,  0.0344, -0.0120, -0.0591],\n",
      "         [-0.0936,  0.0692,  0.1255,  ..., -0.1454, -0.0798, -0.1465],\n",
      "         [ 0.0190,  0.0147,  0.0678,  ..., -0.0105, -0.0418, -0.0803],\n",
      "         ...,\n",
      "         [-0.0260,  0.0474,  0.1041,  ..., -0.0767, -0.1092, -0.0647],\n",
      "         [ 0.0548,  0.0398,  0.0012,  ...,  0.0185, -0.0164, -0.0439],\n",
      "         [ 0.0397,  0.0141,  0.0141,  ...,  0.0170, -0.0228, -0.0616]]],\n",
      "       grad_fn=<CloneBackward0>)\n"
     ]
    }
   ],
   "source": [
    "print(context[17].shape)\n",
    "print(context[17])"
   ]
  },
  {
   "cell_type": "code",
   "execution_count": 108,
   "metadata": {},
   "outputs": [],
   "source": [
    "from scipy.spatial import distance_matrix\n",
    "import gudhi as gd\n",
    "import numpy as np\n",
    "import matplotlib.pyplot as plt\n",
    "from transformers import BertTokenizer\n",
    "\n",
    "def compute_phrase_distances_and_homology(tokenizer, context_vectors, sentence, phrase):\n",
    "    # Initialize the tokenizer\n",
    "\n",
    "    # Tokenize the sentence and the phrase\n",
    "    sentence_tokens = tokenizer.encode(sentence, add_special_tokens=False)\n",
    "    phrase_tokens = tokenizer.encode(phrase, add_special_tokens=False)\n",
    "\n",
    "    # Find the indices of the phrase tokens in the sentence\n",
    "    phrase_indices = []\n",
    "    phrase_length = len(phrase_tokens)\n",
    "    for i in range(len(sentence_tokens) - phrase_length + 1):\n",
    "        if sentence_tokens[i:i+phrase_length] == phrase_tokens:\n",
    "            phrase_indices.extend(range(i, i+phrase_length))\n",
    "            break\n",
    "\n",
    "    # Extract the context vectors for the phrase\n",
    "    phrase_context_vectors = context_vectors[0, phrase_indices]\n",
    "\n",
    "    # Detach the tensor and convert to numpy array\n",
    "    phrase_context_vectors_np = phrase_context_vectors.detach().numpy()\n",
    "\n",
    "    # Print the tokens of the sub-collection and their context vectors\n",
    "    # print(f'Tokens of the sub-collection: {tokenizer.convert_ids_to_tokens(phrase_tokens)}')\n",
    "    # print(f'Context vectors of the sub-collection: {phrase_context_vectors_np}')\n",
    "\n",
    "    # Compute the pairwise Euclidean distances among the phrase context vectors\n",
    "    distances = distance_matrix(phrase_context_vectors_np, phrase_context_vectors_np)\n",
    "\n",
    "    # Print the distance matrix\n",
    "    # print(f'Distance matrix: {distances.shape}')\n",
    "    # print(f'Distance matrix: {distances}')\n",
    "\n",
    "    # Compute the persistent homology of the distance matrix\n",
    "    rips_complex = gd.RipsComplex(distance_matrix=distances, max_edge_length=np.max(distances))\n",
    "    simplex_tree = rips_complex.create_simplex_tree(max_dimension=2)\n",
    "    persistent_homology = simplex_tree.persistence(min_persistence=0.001)\n",
    "\n",
    "    # Plot the barcode diagram\n",
    "    # gd.plot_persistence_barcode(persistence=persistent_homology)\n",
    "    # plt.show()\n",
    "\n",
    "    return persistent_homology"
   ]
  },
  {
   "cell_type": "code",
   "execution_count": 109,
   "metadata": {},
   "outputs": [],
   "source": [
    "tokenizer = AutoTokenizer.from_pretrained('xlm-roberta-large')\n",
    "\n",
    "persistent_homology = []\n",
    "for i in range(len(text)):\n",
    "    persistent_homology.append(compute_phrase_distances_and_homology(tokenizer, context[i], text[i], \"לצפות בזרחת השמש\"))"
   ]
  },
  {
   "cell_type": "code",
   "execution_count": 110,
   "metadata": {},
   "outputs": [
    {
     "data": {
      "text/plain": [
       "[(0, (0.0, inf)),\n",
       " (0, (0.0, 0.32874179189208463)),\n",
       " (0, (0.0, 0.22278926164197888)),\n",
       " (0, (0.0, 0.1982252697136126)),\n",
       " (0, (0.0, 0.1729591248632601)),\n",
       " (0, (0.0, 0.08654359716326993))]"
      ]
     },
     "execution_count": 110,
     "metadata": {},
     "output_type": "execute_result"
    }
   ],
   "source": [
    "persistent_homology[17]"
   ]
  },
  {
   "cell_type": "code",
   "execution_count": 111,
   "metadata": {},
   "outputs": [
    {
     "name": "stdout",
     "output_type": "stream",
     "text": [
      "Wasserstein distance: = 0.64\n"
     ]
    }
   ],
   "source": [
    "from gudhi.hera import wasserstein_distance\n",
    "import numpy as np\n",
    "\n",
    "persistent_homology_np = [np.array([[pt[1][0], pt[1][1]] for pt in persistent_homology[i] if pt[1][1] != float('inf')]) for i in range(len(persistent_homology))]\n",
    "\n",
    "print(f\"Wasserstein distance: = {wasserstein_distance(persistent_homology_np[17], persistent_homology_np[1], order=1., internal_p=2.):.2f}\")\n"
   ]
  },
  {
   "cell_type": "code",
   "execution_count": 112,
   "metadata": {},
   "outputs": [],
   "source": [
    "from gudhi.hera import wasserstein_distance\n",
    "import numpy as np\n",
    "\n",
    "def transform_persistence_diagram(diagram):\n",
    "    # Remove the dimension from each feature and return the transformed diagram\n",
    "    return [(birth, death) for dimension, (birth, death) in diagram]\n",
    "\n",
    "def compute_wasserstein_distances(persistence_diagrams, p=2):\n",
    "    n = len(persistence_diagrams)\n",
    "    distances = np.zeros((n, n))\n",
    "    for i in range(n):\n",
    "        for j in range(i+1, n):\n",
    "            diagram1 = transform_persistence_diagram(persistence_diagrams[i])\n",
    "            diagram2 = transform_persistence_diagram(persistence_diagrams[j])\n",
    "            distance = wasserstein_distance(diagram1, diagram2, order=1., internal_p=2.)\n",
    "            distances[i, j] = distance\n",
    "            distances[j, i] = distance\n",
    "    return distances"
   ]
  },
  {
   "cell_type": "code",
   "execution_count": 113,
   "metadata": {},
   "outputs": [],
   "source": [
    "persistence_diagrams = []\n",
    "for i in range(len(text)):\n",
    "    persistence_diagrams.append(persistent_homology[i])"
   ]
  },
  {
   "cell_type": "code",
   "execution_count": 114,
   "metadata": {},
   "outputs": [
    {
     "data": {
      "text/plain": [
       "<Axes: title={'center': 'Persistence diagram'}, xlabel='Birth', ylabel='Death'>"
      ]
     },
     "execution_count": 114,
     "metadata": {},
     "output_type": "execute_result"
    },
    {
     "data": {
      "image/png": "[encoded data removed]",
      "text/plain": [
       "<Figure size 640x480 with 1 Axes>"
      ]
     },
     "metadata": {},
     "output_type": "display_data"
    }
   ],
   "source": [
    "gd.plot_persistence_diagram(persistence = persistence_diagrams[17])"
   ]
  },
  {
   "cell_type": "code",
   "execution_count": 115,
   "metadata": {},
   "outputs": [
    {
     "name": "stdout",
     "output_type": "stream",
     "text": [
      "(20, 20)\n",
      "[[0.         0.14358496 0.70826325 0.4711087  0.46510486 0.66519472\n",
      "  0.72106172 0.64639516 0.25645569 0.74026037 0.57935826 0.66323981\n",
      "  0.65809475 0.50263554 0.33131627 0.75071186 0.62353368 0.6456653\n",
      "  0.38157927 0.69854785]\n",
      " [0.14358496 0.         0.6067536  0.38272286 0.46688104 0.52160976\n",
      "  0.63267588 0.53151107 0.30987864 0.78782533 0.50614469 0.68760714\n",
      "  0.65631857 0.47948699 0.36945366 0.66232602 0.58357096 0.64388911\n",
      "  0.36721014 0.75197079]\n",
      " [0.70826325 0.6067536  0.         0.51532513 0.87037348 0.35806367\n",
      "  0.24278376 0.17987196 0.63386834 0.35499558 0.128905   1.15788785\n",
      "  0.17214855 0.39345292 0.62027882 0.42893342 0.15904181 0.19465545\n",
      "  0.36231651 0.30955749]\n",
      " [0.4711087  0.38272286 0.51532513 0.         0.46565468 0.25949316\n",
      "  0.34015762 0.37705579 0.39888494 0.73971055 0.48912666 0.89639451\n",
      "  0.65414876 0.35109556 0.2456747  0.30970259 0.4746897  0.64511548\n",
      "  0.36843651 0.6967763 ]\n",
      " [0.46510486 0.46688104 0.87037348 0.46565468 0.         0.66451876\n",
      "  0.77979867 0.82024867 0.6845074  1.19196901 0.91484238 0.82375536\n",
      "  1.00976632 0.79432513 0.57246977 0.59364901 0.91906091 1.00319075\n",
      "  0.83409119 1.15507767]\n",
      " [0.66519472 0.52160976 0.35806367 0.25949316 0.66451876 0.\n",
      "  0.35916785 0.30416063 0.61850305 0.68745567 0.40577503 1.06349415\n",
      "  0.48808933 0.26489945 0.44977085 0.23798432 0.45382488 0.48251813\n",
      "  0.3546742  0.65160113]\n",
      " [0.72106172 0.63267588 0.24278376 0.34015762 0.77979867 0.35916785\n",
      "  0.         0.12964598 0.6373169  0.42556656 0.2096506  1.20324699\n",
      "  0.34340094 0.54265367 0.55679613 0.21830015 0.13926224 0.34742166\n",
      "  0.54549847 0.38263231]\n",
      " [0.64639516 0.53151107 0.17987196 0.37705579 0.82024867 0.30416063\n",
      "  0.12964598 0.         0.59970349 0.38329504 0.11207087 1.11285527\n",
      "  0.28048914 0.41300769 0.50314305 0.24906146 0.14966425 0.26805969\n",
      "  0.44433366 0.3474405 ]\n",
      " [0.25645569 0.30987864 0.63386834 0.39888494 0.6845074  0.61850305\n",
      "  0.6373169  0.59970349 0.         0.52085783 0.50496334 0.9196955\n",
      "  0.52718997 0.42824063 0.22745431 0.66696704 0.52470524 0.4569462\n",
      "  0.28797243 0.50110607]\n",
      " [0.74026037 0.78782533 0.35499558 0.73971055 1.19196901 0.68745567\n",
      "  0.42556656 0.38329504 0.52085783 0.         0.28168064 1.27787448\n",
      "  0.19936634 0.58167421 0.63289546 0.61171622 0.28630432 0.20493754\n",
      "  0.50037334 0.07438552]\n",
      " [0.57935826 0.50614469 0.128905   0.48912666 0.91484238 0.40577503\n",
      "  0.2096506  0.11207087 0.50496334 0.28168064 0.         1.17174728\n",
      "  0.17575068 0.38475439 0.51543343 0.36113233 0.10059956 0.16321393\n",
      "  0.34041977 0.2458261 ]\n",
      " [0.66323981 0.68760714 1.15788785 0.89639451 0.82375536 1.06349415\n",
      "  1.20324699 1.11285527 0.9196955  1.27787448 1.17174728 0.\n",
      "  1.15789419 1.01613031 0.87788424 1.17599767 1.20724112 1.112256\n",
      "  1.00523975 1.2230001 ]\n",
      " [0.65809475 0.65631857 0.17214855 0.65414876 1.00976632 0.48808933\n",
      "  0.34340094 0.28048914 0.52718997 0.19936634 0.17575068 1.15789419\n",
      "  0.         0.40755475 0.57476689 0.5295506  0.2041387  0.07582898\n",
      "  0.32098166 0.1635118 ]\n",
      " [0.50263554 0.47948699 0.39345292 0.35109556 0.79432513 0.26489945\n",
      "  0.54265367 0.41300769 0.42824063 0.58167421 0.38475439 1.01613031\n",
      "  0.40755475 0.         0.28630646 0.46474773 0.4451524  0.395018\n",
      "  0.17731493 0.52353654]\n",
      " [0.33131627 0.36945366 0.62027882 0.2456747  0.57246977 0.44977085\n",
      "  0.55679613 0.50314305 0.22745431 0.63289546 0.51543343 0.87788424\n",
      "  0.57476689 0.28630646 0.         0.47176193 0.47615237 0.55675222\n",
      "  0.27745002 0.58996121]\n",
      " [0.75071186 0.66232602 0.42893342 0.30970259 0.59364901 0.23798432\n",
      "  0.21830015 0.24906146 0.66696704 0.61171622 0.36113233 1.17599767\n",
      "  0.5295506  0.46474773 0.47176193 0.         0.3254119  0.51712115\n",
      "  0.57514861 0.56878197]\n",
      " [0.62353368 0.58357096 0.15904181 0.4746897  0.91906091 0.45382488\n",
      "  0.13926224 0.14966425 0.52470524 0.28630432 0.10059956 1.20724112\n",
      "  0.2041387  0.4451524  0.47615237 0.3254119  0.         0.23481\n",
      "  0.43288681 0.24337007]\n",
      " [0.6456653  0.64388911 0.19465545 0.64511548 1.00319075 0.48251813\n",
      "  0.34742166 0.26805969 0.4569462  0.20493754 0.16321393 1.112256\n",
      "  0.07582898 0.395018   0.55675222 0.51712115 0.23481    0.\n",
      "  0.30971795 0.169083  ]\n",
      " [0.38157927 0.36721014 0.36231651 0.36843651 0.83409119 0.3546742\n",
      "  0.54549847 0.44433366 0.28797243 0.50037334 0.34041977 1.00523975\n",
      "  0.32098166 0.17731493 0.27745002 0.57514861 0.43288681 0.30971795\n",
      "  0.         0.4645188 ]\n",
      " [0.69854785 0.75197079 0.30955749 0.6967763  1.15507767 0.65160113\n",
      "  0.38263231 0.3474405  0.50110607 0.07438552 0.2458261  1.2230001\n",
      "  0.1635118  0.52353654 0.58996121 0.56878197 0.24337007 0.169083\n",
      "  0.4645188  0.        ]]\n"
     ]
    }
   ],
   "source": [
    "w_distances = compute_wasserstein_distances(persistence_diagrams)\n",
    "print(w_distances.shape)\n",
    "print(w_distances)"
   ]
  },
  {
   "attachments": {},
   "cell_type": "markdown",
   "metadata": {},
   "source": [
    "---"
   ]
  },
  {
   "cell_type": "code",
   "execution_count": 116,
   "metadata": {},
   "outputs": [
    {
     "name": "stderr",
     "output_type": "stream",
     "text": [
      "The tokenizer class you load from this checkpoint is not the same type as the class this function is called from. It may result in unexpected tokenization. \n",
      "The tokenizer class you load from this checkpoint is 'RobertaTokenizer'. \n",
      "The class this function is called from is 'BertTokenizer'.\n",
      "Some weights of the model checkpoint at TurkuNLP/wikibert-base-he-cased were not used when initializing BertModel: ['cls.predictions.bias', 'cls.predictions.transform.LayerNorm.bias', 'cls.predictions.transform.LayerNorm.weight', 'cls.seq_relationship.weight', 'cls.predictions.transform.dense.bias', 'cls.predictions.transform.dense.weight', 'cls.predictions.decoder.bias', 'cls.predictions.decoder.weight', 'cls.seq_relationship.bias']\n",
      "- This IS expected if you are initializing BertModel from the checkpoint of a model trained on another task or with another architecture (e.g. initializing a BertForSequenceClassification model from a BertForPreTraining model).\n",
      "- This IS NOT expected if you are initializing BertModel from the checkpoint of a model that you expect to be exactly identical (initializing a BertForSequenceClassification model from a BertForSequenceClassification model).\n"
     ]
    }
   ],
   "source": [
    "tokenizer_b = transformers.BertTokenizer.from_pretrained(\"TurkuNLP/wikibert-base-he-cased\")\n",
    "model_b = transformers.BertModel.from_pretrained(\"TurkuNLP/wikibert-base-he-cased\", output_attentions=True)\n",
    "\n",
    "# Set the layer and head to use for computation\n",
    "layer = 7\n",
    "head = 3\n",
    "\n",
    "context_b = []\n",
    "for i in range(len(text)):\n",
    "    context_b.append(compute_output_model(tokenizer_b, model_b, text[i], layer, head))"
   ]
  },
  {
   "cell_type": "code",
   "execution_count": 117,
   "metadata": {},
   "outputs": [
    {
     "name": "stdout",
     "output_type": "stream",
     "text": [
      "torch.Size([1, 53, 64])\n",
      "tensor([[[ 0.0816,  0.0383,  0.0506,  ..., -0.1030, -0.0738, -0.0103],\n",
      "         [-1.6834,  0.5611, -0.6717,  ...,  0.0183, -0.7205, -0.4127],\n",
      "         [-0.1397,  0.2528, -0.1753,  ..., -0.0289, -0.1818, -0.3452],\n",
      "         ...,\n",
      "         [-0.3615,  0.1164, -0.7705,  ..., -0.9037, -0.1315, -0.0657],\n",
      "         [-0.0168,  0.0257,  0.0390,  ..., -0.0340, -0.0192,  0.0217],\n",
      "         [ 0.0350,  0.0603,  0.0587,  ..., -0.0388, -0.0684,  0.0258]]],\n",
      "       grad_fn=<CloneBackward0>)\n"
     ]
    }
   ],
   "source": [
    "print(context_b[17].shape)\n",
    "print(context_b[17])"
   ]
  },
  {
   "cell_type": "code",
   "execution_count": 118,
   "metadata": {},
   "outputs": [
    {
     "name": "stderr",
     "output_type": "stream",
     "text": [
      "The tokenizer class you load from this checkpoint is not the same type as the class this function is called from. It may result in unexpected tokenization. \n",
      "The tokenizer class you load from this checkpoint is 'RobertaTokenizer'. \n",
      "The class this function is called from is 'BertTokenizer'.\n"
     ]
    }
   ],
   "source": [
    "tokenizer_b = transformers.BertTokenizer.from_pretrained(\"TurkuNLP/wikibert-base-he-cased\")\n",
    "\n",
    "persistent_homology_b = []\n",
    "for i in range(len(text)):\n",
    "    persistent_homology_b.append(compute_phrase_distances_and_homology(tokenizer_b, context_b[i], text[i], \"לצפות בזרחת השמש\"))"
   ]
  },
  {
   "cell_type": "code",
   "execution_count": 119,
   "metadata": {},
   "outputs": [
    {
     "data": {
      "text/plain": [
       "[(0, (0.0, inf)),\n",
       " (0, (0.0, 3.266277594465306)),\n",
       " (0, (0.0, 2.868081424448777)),\n",
       " (0, (0.0, 2.649657861064285)),\n",
       " (0, (0.0, 0.3073455881185572))]"
      ]
     },
     "execution_count": 119,
     "metadata": {},
     "output_type": "execute_result"
    }
   ],
   "source": [
    "persistent_homology_b[17]"
   ]
  },
  {
   "cell_type": "code",
   "execution_count": 120,
   "metadata": {},
   "outputs": [],
   "source": [
    "persistence_diagrams_b = []\n",
    "for i in range(len(text)):\n",
    "    persistence_diagrams_b.append(persistent_homology_b[i])"
   ]
  },
  {
   "cell_type": "code",
   "execution_count": 121,
   "metadata": {},
   "outputs": [
    {
     "name": "stdout",
     "output_type": "stream",
     "text": [
      "(20, 20)\n",
      "[[0.         2.00565851 2.02341953 1.89525015 1.79904539 2.92925413\n",
      "  1.89446117 2.15259425 2.28771593 1.90800819 1.23059814 1.139906\n",
      "  0.77614528 2.29766378 1.40165381 2.52970219 0.80765267 1.69892072\n",
      "  1.63081072 1.44306142]\n",
      " [2.00565851 0.         0.51545683 1.63683597 2.95155151 1.36038349\n",
      "  1.08698407 0.45105745 1.05606521 1.29591205 1.49407203 1.34422249\n",
      "  1.50480751 4.30332229 1.46108677 3.5099754  1.91115299 2.48764878\n",
      "  1.52113338 1.07132839]\n",
      " [2.02341953 0.51545683 0.         1.80561389 2.96931254 1.05822042\n",
      "  1.39349731 0.88865973 0.58552582 0.81466701 1.02588328 1.36198351\n",
      "  1.55041486 4.32108332 1.03477889 3.52773643 1.92891402 1.97855742\n",
      "  1.56037527 1.08908942]\n",
      " [1.89525015 1.63683597 1.80561389 0.         1.52819915 2.51441809\n",
      "  1.31215502 1.5702881  1.81074453 2.51974226 2.81844089 1.81496752\n",
      "  1.44205    3.50166601 2.73836738 4.42495234 2.56815022 3.5241831\n",
      "  0.9596745  2.13118684]\n",
      " [1.79904539 2.95155151 2.96931254 1.52819915 0.         4.00470687\n",
      "  2.84035418 3.09848725 2.79144375 2.71032644 2.95082464 1.60732903\n",
      "  1.78622294 2.75083381 2.69772976 3.67412014 2.08973328 2.65950815\n",
      "  1.93322848 1.88022312]\n",
      " [2.92925413 1.36038349 1.05822042 2.51441809 4.00470687 0.\n",
      "  1.5508147  1.17171236 1.31323863 1.43996772 1.85104181 2.42020394\n",
      "  2.47569059 5.03976341 2.09299931 4.58595685 2.98713444 2.94322153\n",
      "  2.09430448 2.14730984]\n",
      " [1.89446117 1.08698407 1.39349731 1.31215502 2.84035418 1.5508147\n",
      "  0.         0.63592662 1.69250031 1.86880091 2.17326242 1.59285137\n",
      "  1.28851181 4.19212495 2.34549272 4.20283619 2.34603408 3.37205473\n",
      "  0.9071257  1.90907069]\n",
      " [2.15259425 0.45105745 0.88865973 1.5702881  3.09848725 1.17171236\n",
      "  0.63592662 0.         1.20748055 1.36396333 1.66842484 1.49115823\n",
      "  1.54664488 4.45025803 1.84065514 3.69799861 2.05808873 2.86721714\n",
      "  1.27280692 1.40423311]\n",
      " [2.28771593 1.05606521 0.58552582 1.81074453 2.79144375 1.31323863\n",
      "  1.69250031 1.20748055 0.         1.04030057 1.6114091  1.53225369\n",
      "  2.13594068 4.44403961 1.60106279 3.6980066  2.09918419 1.75965648\n",
      "  2.08652677 1.25935959]\n",
      " [1.90800819 1.29591205 0.81466701 2.51974226 2.71032644 1.43996772\n",
      "  1.86880091 1.36396333 1.04030057 0.         0.67741005 1.58963647\n",
      "  1.30602817 4.11039597 0.91936754 3.41232508 1.81350267 1.50325381\n",
      "  1.82647763 1.2919042 ]\n",
      " [1.23059814 1.49407203 1.02588328 2.81844089 2.95082464 1.85104181\n",
      "  2.17326242 1.66842484 1.6114091  0.67741005 0.         1.61317234\n",
      "  1.37639089 3.52826192 0.59044619 2.73491504 1.1734857  1.19879231\n",
      "  2.13093913 1.32721433]\n",
      " [1.139906   1.34422249 1.36198351 1.81496752 1.60732903 2.42020394\n",
      "  1.59285137 1.49115823 1.53225369 1.58963647 1.61317234 0.\n",
      "  1.16672422 2.9590998  1.53309883 2.60998482 0.75738005 1.77920335\n",
      "  1.55052808 0.32799359]\n",
      " [0.77614528 1.50480751 1.55041486 1.44205    1.78622294 2.47569059\n",
      "  1.28851181 1.54664488 2.13594068 1.30602817 1.37639089 1.16672422\n",
      "  0.         2.90361315 1.44850399 3.30584747 1.44904535 2.475066\n",
      "  0.85466544 1.45810536]\n",
      " [2.29766378 4.30332229 4.32108332 3.50166601 2.75083381 5.03976341\n",
      "  4.19212495 4.45025803 4.44403961 4.11039597 3.52826192 2.9590998\n",
      "  2.90361315 0.         3.28630443 1.31309343 2.3921693  2.73169701\n",
      "  3.28499925 3.23199389]\n",
      " [1.40165381 1.46108677 1.03477889 2.73836738 2.69772976 2.09299931\n",
      "  2.34549272 1.84065514 1.60106279 0.91936754 0.59044619 1.53309883\n",
      "  1.44850399 3.28630443 0.         2.49295754 1.44190089 1.08926886\n",
      "  2.30316943 1.24714083]\n",
      " [2.52970219 3.5099754  3.52773643 4.42495234 3.67412014 4.58595685\n",
      "  4.20283619 3.69799861 3.6980066  3.41232508 2.73491504 2.60998482\n",
      "  3.30584747 1.31309343 2.49295754 0.         1.85680212 1.93835012\n",
      "  4.16051291 2.43864701]\n",
      " [0.80765267 1.91115299 1.92891402 2.56815022 2.08973328 2.98713444\n",
      "  2.34603408 2.05808873 2.09918419 1.81350267 1.1734857  0.75738005\n",
      "  1.44904535 2.3921693  1.44190089 1.85680212 0.         1.03585541\n",
      "  2.30371079 0.8398246 ]\n",
      " [1.69892072 2.48764878 1.97855742 3.5241831  2.65950815 2.94322153\n",
      "  3.37205473 2.86721714 1.75965648 1.50325381 1.19879231 1.77920335\n",
      "  2.475066   2.73169701 1.08926886 1.93835012 1.03585541 0.\n",
      "  3.32973144 1.46298403]\n",
      " [1.63081072 1.52113338 1.56037527 0.9596745  1.93322848 2.09430448\n",
      "  0.9071257  1.27280692 2.08652677 1.82647763 2.13093913 1.55052808\n",
      "  0.85466544 3.28499925 2.30316943 4.16051291 2.30371079 3.32973144\n",
      "  0.         1.8667474 ]\n",
      " [1.44306142 1.07132839 1.08908942 2.13118684 1.88022312 2.14730984\n",
      "  1.90907069 1.40423311 1.25935959 1.2919042  1.32721433 0.32799359\n",
      "  1.45810536 3.23199389 1.24714083 2.43864701 0.8398246  1.46298403\n",
      "  1.8667474  0.        ]]\n"
     ]
    }
   ],
   "source": [
    "w_distances_b = compute_wasserstein_distances(persistence_diagrams_b)\n",
    "print(w_distances_b.shape)\n",
    "print(w_distances_b)"
   ]
  },
  {
   "cell_type": "code",
   "execution_count": 122,
   "metadata": {},
   "outputs": [
    {
     "name": "stdout",
     "output_type": "stream",
     "text": [
      "[[ 0.         -1.86207354 -1.31515628 -1.42414145 -1.33394053 -2.26405941\n",
      "  -1.17339945 -1.50619909 -2.03126024 -1.16774782 -0.65123989 -0.47666619\n",
      "  -0.11805053 -1.79502824 -1.07033754 -1.77899033 -0.18411899 -1.05325542\n",
      "  -1.24923145 -0.74451357]\n",
      " [-1.86207354  0.          0.09129677 -1.25411312 -2.48467047 -0.83877373\n",
      "  -0.45430818  0.08045363 -0.74618658 -0.50808671 -0.98792734 -0.65661535\n",
      "  -0.84848894 -3.8238353  -1.09163311 -2.84764938 -1.32758203 -1.84375967\n",
      "  -1.15392324 -0.3193576 ]\n",
      " [-1.31515628  0.09129677  0.         -1.29028876 -2.09893906 -0.70015675\n",
      "  -1.15071355 -0.70878776  0.04834252 -0.45967143 -0.89697828 -0.20409566\n",
      "  -1.37826631 -3.9276304  -0.41450007 -3.09880301 -1.76987221 -1.78390197\n",
      "  -1.19805876 -0.77953193]\n",
      " [-1.42414145 -1.25411312 -1.29028876  0.         -1.06254448 -2.25492492\n",
      "  -0.97199741 -1.19323231 -1.41185959 -1.78003171 -2.32931423 -0.91857301\n",
      "  -0.78790124 -3.15057044 -2.49269269 -4.11524975 -2.09346052 -2.87906762\n",
      "  -0.59123799 -1.43441053]\n",
      " [-1.33394053 -2.48467047 -2.09893906 -1.06254448  0.         -3.34018811\n",
      "  -2.06055551 -2.27823858 -2.10693635 -1.51835743 -2.03598225 -0.78357367\n",
      "  -0.77645662 -1.95650868 -2.12525999 -3.08047113 -1.17067237 -1.6563174\n",
      "  -1.09913729 -0.72514545]\n",
      " [-2.26405941 -0.83877373 -0.70015675 -2.25492492 -3.34018811  0.\n",
      "  -1.19164685 -0.86755173 -0.69473558 -0.75251205 -1.44526679 -1.35670979\n",
      "  -1.98760126 -4.77486396 -1.64322846 -4.34797253 -2.53330956 -2.4607034\n",
      "  -1.73963029 -1.49570871]\n",
      " [-1.17339945 -0.45430818 -1.15071355 -0.97199741 -2.06055551 -1.19164685\n",
      "   0.         -0.50628064 -1.05518341 -1.44323435 -1.96361182 -0.38960438\n",
      "  -0.94511087 -3.64947129 -1.78869659 -3.98453605 -2.20677184 -3.02463306\n",
      "  -0.36162722 -1.52643838]\n",
      " [-1.50619909  0.08045363 -0.70878776 -1.19323231 -2.27823858 -0.86755173\n",
      "  -0.50628064  0.         -0.60777705 -0.9806683  -1.55635397 -0.37830296\n",
      "  -1.26615574 -4.03725034 -1.33751209 -3.44893716 -1.90842448 -2.59915745\n",
      "  -0.82847325 -1.05679262]\n",
      " [-2.03126024 -0.74618658  0.04834252 -1.41185959 -2.10693635 -0.69473558\n",
      "  -1.05518341 -0.60777705  0.         -0.51944274 -1.10644575 -0.61255818\n",
      "  -1.60875071 -4.01579898 -1.37360848 -3.03103956 -1.57447895 -1.30271028\n",
      "  -1.79855434 -0.75825352]\n",
      " [-1.16774782 -0.50808671 -0.45967143 -1.78003171 -1.51835743 -0.75251205\n",
      "  -1.44323435 -0.9806683  -0.51944274  0.         -0.39572941 -0.31176199\n",
      "  -1.10666183 -3.52872176 -0.28647208 -2.80060886 -1.52719835 -1.29831627\n",
      "  -1.32610429 -1.21751868]\n",
      " [-0.65123989 -0.98792734 -0.89697828 -2.32931423 -2.03598225 -1.44526679\n",
      "  -1.96361182 -1.55635397 -1.10644575 -0.39572941  0.         -0.44142505\n",
      "  -1.20064021 -3.14350753 -0.07501276 -2.37378271 -1.07288613 -1.03557838\n",
      "  -1.79051936 -1.08138823]\n",
      " [-0.47666619 -0.65661535 -0.20409566 -0.91857301 -0.78357367 -1.35670979\n",
      "  -0.38960438 -0.37830296 -0.61255818 -0.31176199 -0.44142505  0.\n",
      "  -0.00883003 -1.94296949 -0.65521459 -1.43398715  0.44986107 -0.66694735\n",
      "  -0.54528833  0.89500651]\n",
      " [-0.11805053 -0.84848894 -1.37826631 -0.78790124 -0.77645662 -1.98760126\n",
      "  -0.94511087 -1.26615574 -1.60875071 -1.10666183 -1.20064021 -0.00883003\n",
      "   0.         -2.4960584  -0.8737371  -2.77629687 -1.24490665 -2.39923702\n",
      "  -0.53368378 -1.29459356]\n",
      " [-1.79502824 -3.8238353  -3.9276304  -3.15057044 -1.95650868 -4.77486396\n",
      "  -3.64947129 -4.03725034 -4.01579898 -3.52872176 -3.14350753 -1.94296949\n",
      "  -2.4960584   0.         -2.99999797 -0.8483457  -1.9470169  -2.33667901\n",
      "  -3.10768432 -2.70845736]\n",
      " [-1.07033754 -1.09163311 -0.41450007 -2.49269269 -2.12525999 -1.64322846\n",
      "  -1.78869659 -1.33751209 -1.37360848 -0.28647208 -0.07501276 -0.65521459\n",
      "  -0.8737371  -2.99999797  0.         -2.02119561 -0.96574851 -0.53251664\n",
      "  -2.0257194  -0.65717962]\n",
      " [-1.77899033 -2.84764938 -3.09880301 -4.11524975 -3.08047113 -4.34797253\n",
      "  -3.98453605 -3.44893716 -3.03103956 -2.80060886 -2.37378271 -1.43398715\n",
      "  -2.77629687 -0.8483457  -2.02119561  0.         -1.53139022 -1.42122898\n",
      "  -3.58536429 -1.86986504]\n",
      " [-0.18411899 -1.32758203 -1.76987221 -2.09346052 -1.17067237 -2.53330956\n",
      "  -2.20677184 -1.90842448 -1.57447895 -1.52719835 -1.07288613  0.44986107\n",
      "  -1.24490665 -1.9470169  -0.96574851 -1.53139022  0.         -0.80104541\n",
      "  -1.87082398 -0.59645453]\n",
      " [-1.05325542 -1.84375967 -1.78390197 -2.87906762 -1.6563174  -2.4607034\n",
      "  -3.02463306 -2.59915745 -1.30271028 -1.29831627 -1.03557838 -0.66694735\n",
      "  -2.39923702 -2.33667901 -0.53251664 -1.42122898 -0.80104541  0.\n",
      "  -3.02001348 -1.29390103]\n",
      " [-1.24923145 -1.15392324 -1.19805876 -0.59123799 -1.09913729 -1.73963029\n",
      "  -0.36162722 -0.82847325 -1.79855434 -1.32610429 -1.79051936 -0.54528833\n",
      "  -0.53368378 -3.10768432 -2.0257194  -3.58536429 -1.87082398 -3.02001348\n",
      "   0.         -1.40222861]\n",
      " [-0.74451357 -0.3193576  -0.77953193 -1.43441053 -0.72514545 -1.49570871\n",
      "  -1.52643838 -1.05679262 -0.75825352 -1.21751868 -1.08138823  0.89500651\n",
      "  -1.29459356 -2.70845736 -0.65717962 -1.86986504 -0.59645453 -1.29390103\n",
      "  -1.40222861  0.        ]]\n"
     ]
    }
   ],
   "source": [
    "print(w_distances - w_distances_b)"
   ]
  },
  {
   "cell_type": "code",
   "execution_count": 123,
   "metadata": {},
   "outputs": [
    {
     "name": "stdout",
     "output_type": "stream",
     "text": [
      "Percentage of negative entries below the diagonal:  97.36842105263158\n"
     ]
    }
   ],
   "source": [
    "import numpy as np\n",
    "\n",
    "def count_negative_entries_below_diagonal(matrix):\n",
    "    count = 0\n",
    "    total = 0\n",
    "    n = len(matrix)\n",
    "    for i in range(n):\n",
    "        for j in range(i):\n",
    "            if matrix[i][j] < 0:\n",
    "                count += 1\n",
    "            total += 1\n",
    "    return count, total\n",
    "\n",
    "# example matrix\n",
    "matrix = w_distances - w_distances_b\n",
    "\n",
    "negative_count, total_count = count_negative_entries_below_diagonal(matrix)\n",
    "percentage = (negative_count / total_count) * 100\n",
    "print(\"Percentage of negative entries below the diagonal: \", percentage)\n"
   ]
  },
  {
   "attachments": {},
   "cell_type": "markdown",
   "metadata": {},
   "source": [
    "## Interpreting the results\n",
    "\n",
    "So, as we can see, the percentage of negaive entries below the diagonal is approximately $97.37\\%$, meaning $97.37\\%$ of the time the Wasserstein distance between persistence diagrams for the phrase \"לצפות בזרחת השמש\" in various different contexts (given by the text corpera `text[i]` in `text` at the beginning of the notebook) is larger for `TurkuNLP/wikibert-base-he-cased` than for `xlm-roberta-large`. This means that the `TurkuNLP/wikibert-base-he-cased` model does not preserve the persistent homology for the context vectors associated to the phrase \"לצפות בזרחת השמש\" as well. In fact $100\\%$ of the time `xlm-roberta-large` has smaller Wasserstine distance between persistence diagrams than `TurkuNLP/wikibert-base-he-cased` for almost every pair of persistence diagrams. Note, this is comparing `head 3` of `layer 7` in the models. When we compare different heads this number will change and some heads drastically outperform others at preserving persistent homology of keyphrases. \n",
    "\n",
    "It is interesting to note that we might linguistically analyze a model's individual attention heads using this method to determine what kinds of keyphrases it preserves. We might also use this to modify attention heads to better understand certain keyphrases. This is closely linked to topic modeling as is mentioned in [Topics in Contextualised Attention Embeddings](https://arxiv.org/pdf/2301.04339.pdf). This, along with the Fréchet mean of persistence diagrams could also be used for anomaly detection, where an anomaly is considered a \"significant\" deviation from the Fréchet mean persistence diagram. For character level transformers this might also be used as a topological prior to obtain something like hierarchical morphological segmentations of words, where the hierarchy is given by the simplex tree, and the simplex tree is encouraged to mimic heirarchical morphological segmentation of words similar to what is described in [Morphological Segmentation Inside-Out](https://arxiv.org/abs/1911.04916v2). "
   ]
  },
  {
   "cell_type": "markdown",
   "metadata": {},
   "source": []
  }
 ],
 "metadata": {
  "kernelspec": {
   "display_name": "env_1",
   "language": "python",
   "name": "python3"
  },
  "language_info": {
   "codemirror_mode": {
    "name": "ipython",
    "version": 3
   },
   "file_extension": ".py",
   "mimetype": "text/x-python",
   "name": "python",
   "nbconvert_exporter": "python",
   "pygments_lexer": "ipython3",
   "version": "3.10.11"
  },
  "orig_nbformat": 4
 },
 "nbformat": 4,
 "nbformat_minor": 2
}
