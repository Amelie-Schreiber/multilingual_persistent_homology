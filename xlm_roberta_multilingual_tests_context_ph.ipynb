{
 "cells": [
  {
   "cell_type": "code",
   "execution_count": 1,
   "metadata": {},
   "outputs": [
    {
     "name": "stdout",
     "output_type": "stream",
     "text": [
      "Note: you may need to restart the kernel to use updated packages.\n"
     ]
    }
   ],
   "source": [
    "pip install transformers torch numpy gudhi -q"
   ]
  },
  {
   "attachments": {},
   "cell_type": "markdown",
   "metadata": {},
   "source": [
    "Beware, I am not a competent linguist..."
   ]
  },
  {
   "cell_type": "code",
   "execution_count": 2,
   "metadata": {},
   "outputs": [],
   "source": [
    "text = [\"In the realm of linguistics, it is crucial to foster a deep understanding of language structures and their interconnections. This understanding is not simply about memorizing vocabulary or grammar rules, but delving into the intricate details of phonetics, semantics, and syntax. However, the common elements that we often focus on, such as morphemes, phonemes, and syntax rules, are merely the tip of the iceberg. Beneath the surface, there lies a vast field of cognitive, social, and historical factors that play significant roles in shaping a language. Grasping these underlying influences is what sets apart a competent linguist from a casual language learner.\"]"
   ]
  },
  {
   "cell_type": "code",
   "execution_count": 3,
   "metadata": {},
   "outputs": [
    {
     "name": "stderr",
     "output_type": "stream",
     "text": [
      "Some weights of the model checkpoint at xlm-roberta-large were not used when initializing XLMRobertaModel: ['lm_head.layer_norm.weight', 'lm_head.dense.weight', 'lm_head.dense.bias', 'lm_head.bias', 'lm_head.layer_norm.bias']\n",
      "- This IS expected if you are initializing XLMRobertaModel from the checkpoint of a model trained on another task or with another architecture (e.g. initializing a BertForSequenceClassification model from a BertForPreTraining model).\n",
      "- This IS NOT expected if you are initializing XLMRobertaModel from the checkpoint of a model that you expect to be exactly identical (initializing a BertForSequenceClassification model from a BertForSequenceClassification model).\n"
     ]
    },
    {
     "name": "stdout",
     "output_type": "stream",
     "text": [
      "torch.Size([1, 157, 64])\n",
      "tensor([[[ 0.0071, -0.0150, -0.0101,  ..., -0.0168, -0.0098,  0.0060],\n",
      "         [ 0.0115, -0.0032, -0.0297,  ...,  0.0008,  0.0051, -0.0405],\n",
      "         [ 0.0092,  0.0022, -0.0131,  ..., -0.0147, -0.0263,  0.0235],\n",
      "         ...,\n",
      "         [-0.0102, -0.0250, -0.0136,  ..., -0.0074, -0.0021, -0.0116],\n",
      "         [ 0.0105, -0.0189, -0.0179,  ..., -0.0143, -0.0057,  0.0069],\n",
      "         [-0.0452, -0.0064,  0.0127,  ...,  0.0085, -0.0022,  0.0116]]],\n",
      "       grad_fn=<CloneBackward0>)\n"
     ]
    }
   ],
   "source": [
    "import torch\n",
    "from transformers import BertTokenizer, BertModel\n",
    "from transformers import BertModel, BertTokenizerFast\n",
    "from transformers import AutoTokenizer, AutoModel\n",
    "\n",
    "\n",
    "def compute_output(sentence, layer, head):\n",
    "    # Load pre-trained model\n",
    "    tokenizer = AutoTokenizer.from_pretrained('xlm-roberta-large')\n",
    "    model = AutoModel.from_pretrained(\"xlm-roberta-large\") \n",
    "\n",
    "\n",
    "    # Tokenize input and convert to tensor\n",
    "    inputs = tokenizer(sentence, return_tensors=\"pt\")\n",
    "\n",
    "    # Forward pass\n",
    "    # Specify `output_hidden_states=True` when calling the model\n",
    "    outputs = model(**inputs, output_attentions=True, output_hidden_states=True)\n",
    "\n",
    "    # Obtain the attention weights\n",
    "    attentions = outputs.attentions\n",
    "\n",
    "    # Obtain the attention weights for the specific layer and head\n",
    "    S = attentions[layer][0, head]\n",
    "\n",
    "    # Obtain the value vectors\n",
    "    model.eval()\n",
    "    with torch.no_grad():\n",
    "        hidden_states = outputs.hidden_states[layer]\n",
    "        all_W_v = model.encoder.layer[layer].attention.self.value.weight\n",
    "        num_heads = model.config.num_attention_heads\n",
    "        head_dim = model.config.hidden_size // num_heads\n",
    "        W_v_heads = all_W_v.view(num_heads, head_dim, model.config.hidden_size)\n",
    "        W_v = W_v_heads[head]\n",
    "        V = torch.matmul(hidden_states, W_v.t())\n",
    "\n",
    "    # Compute the output O\n",
    "    O = torch.matmul(S, V)\n",
    "\n",
    "    return O\n",
    "\n",
    "# Set the layer and head to use for computation\n",
    "layer = 5\n",
    "head = 10\n",
    "\n",
    "# Compute the context vectors for each text in the corpus\n",
    "context = [compute_output(t, layer, head) for t in text]\n",
    "print(context[0].shape)\n",
    "print(context[0])"
   ]
  },
  {
   "cell_type": "code",
   "execution_count": 4,
   "metadata": {},
   "outputs": [
    {
     "name": "stdout",
     "output_type": "stream",
     "text": [
      "Barcode for text 0:\n",
      "huggingface/tokenizers: The current process just got forked, after parallelism has already been used. Disabling parallelism to avoid deadlocks...\n",
      "To disable this warning, you can either:\n",
      "\t- Avoid using `tokenizers` before the fork if possible\n",
      "\t- Explicitly set the environment variable TOKENIZERS_PARALLELISM=(true | false)\n",
      "huggingface/tokenizers: The current process just got forked, after parallelism has already been used. Disabling parallelism to avoid deadlocks...\n",
      "To disable this warning, you can either:\n",
      "\t- Avoid using `tokenizers` before the fork if possible\n",
      "\t- Explicitly set the environment variable TOKENIZERS_PARALLELISM=(true | false)\n",
      "huggingface/tokenizers: The current process just got forked, after parallelism has already been used. Disabling parallelism to avoid deadlocks...\n",
      "To disable this warning, you can either:\n",
      "\t- Avoid using `tokenizers` before the fork if possible\n",
      "\t- Explicitly set the environment variable TOKENIZERS_PARALLELISM=(true | false)\n"
     ]
    },
    {
     "data": {
      "image/png": "[encoded data removed]",
      "text/plain": [
       "<Figure size 640x480 with 1 Axes>"
      ]
     },
     "metadata": {},
     "output_type": "display_data"
    }
   ],
   "source": [
    "import matplotlib.pyplot as plt\n",
    "import numpy as np\n",
    "from scipy.spatial import distance_matrix\n",
    "import gudhi as gd\n",
    "\n",
    "def compute_distances_and_plot_barcode(output):\n",
    "    # Detach the output tensor, squeeze, and convert to numpy array\n",
    "    output_np = output.squeeze().detach().numpy()\n",
    "\n",
    "    # Compute the pairwise Euclidean distance matrix\n",
    "    distances = distance_matrix(output_np, output_np)\n",
    "\n",
    "    # Compute the persistent homology of the distance matrix\n",
    "    rips_complex = gd.RipsComplex(distance_matrix=distances, max_edge_length=np.max(distances))\n",
    "    simplex_tree = rips_complex.create_simplex_tree(max_dimension=2)\n",
    "    persistent_homology = simplex_tree.persistence(min_persistence=0.001)\n",
    "    \n",
    "    # Plot the barcode diagram\n",
    "    gd.plot_persistence_barcode(persistence=persistent_homology)\n",
    "    plt.show()\n",
    "\n",
    "# Compute the barcode diagrams for each context vector\n",
    "for i, output in enumerate(context):\n",
    "    print(f\"Barcode for text {i}:\")\n",
    "    compute_distances_and_plot_barcode(output)"
   ]
  },
  {
   "cell_type": "code",
   "execution_count": 5,
   "metadata": {},
   "outputs": [
    {
     "name": "stdout",
     "output_type": "stream",
     "text": [
      "Clusters for text 0:\n",
      "Cluster 0: <s>, ▁In, ▁the, ▁real, m, ▁of, ▁linguis, tics, ,, ▁it, ▁is, ▁crucial, ▁to, ▁fost, er, ▁a, ▁deep, ▁understanding, ▁of, ▁language, ▁structure, s, ▁and, ▁their, ▁inter, connect, ions, ., ▁This, ▁understanding, ▁is, ▁not, ▁simply, ▁about, ▁memori, zing, ▁vocabula, ry, ▁or, ▁gramm, ar, ▁rules, ,, ▁but, ▁del, ving, ▁into, ▁the, ▁in, trica, te, ▁details, ▁of, ▁phone, tics, ,, ▁sem, antic, s, ,, ▁and, ▁syn, tax, ., ▁However, ,, ▁the, ▁common, ▁elements, ▁that, ▁we, ▁often, ▁focus, ▁on, ,, ▁such, ▁as, ▁mor, phe, mes, ,, ▁phone, mes, ,, ▁and, ▁syn, tax, ▁rules, ,, ▁are, ▁mere, ly, ▁the, ▁tip, ▁of, ▁the, ▁, ice, berg, ., ▁Bene, ath, ▁the, ▁surface, ,, ▁there, ▁li, es, ▁a, ▁vast, ▁field, ▁of, ▁cognitive, ,, ▁social, ,, ▁and, ▁historical, ▁factors, ▁that, ▁play, ▁significant, ▁role, s, ▁in, ▁sha, ping, ▁a, ▁language, ., ▁Gra, s, ping, ▁these, ▁under, ly, ing, ▁influence, s, ▁is, ▁what, ▁set, s, ▁apart, ▁a, ▁, competent, ▁linguis, t, ▁from, ▁a, ▁casual, ▁language, ▁learn, er, ., </s>\n"
     ]
    }
   ],
   "source": [
    "from scipy.spatial.distance import pdist, squareform\n",
    "from sklearn.cluster import DBSCAN\n",
    "from transformers import BertTokenizer\n",
    "from transformers import BertModel, BertTokenizerFast\n",
    "\n",
    "def cluster_and_get_words(context, sentence, eps=3.0):\n",
    "    # Load pre-trained model tokenizer\n",
    "    tokenizer = AutoTokenizer.from_pretrained('xlm-roberta-large')\n",
    "\n",
    "\n",
    "    # Tokenize input and convert to tensor\n",
    "    inputs = tokenizer(sentence, return_tensors=\"pt\")\n",
    "    tokens = tokenizer.convert_ids_to_tokens(inputs['input_ids'][0])\n",
    "\n",
    "    # Squeeze the context tensor to remove the batch size dimension\n",
    "    context = context.squeeze(0)\n",
    "\n",
    "    # Compute the pairwise distance matrix\n",
    "    distances = pdist(context.detach().numpy(), 'euclidean')\n",
    "    dist_matrix = squareform(distances)\n",
    "\n",
    "    # Run DBSCAN on the distance matrix\n",
    "    clustering = DBSCAN(eps=eps, min_samples=2, metric='precomputed').fit(dist_matrix)\n",
    "\n",
    "    # Get the words corresponding to each cluster\n",
    "    clusters = {}\n",
    "    for i, label in enumerate(clustering.labels_):\n",
    "        if label != -1:  # Ignore noise (-1 label)\n",
    "            if label not in clusters:\n",
    "                clusters[label] = []\n",
    "            clusters[label].append(tokens[i])\n",
    "\n",
    "    return clusters\n",
    "\n",
    "# Compute the clusters for each context vector\n",
    "clusters = []\n",
    "for i, output in enumerate(context):\n",
    "    print(f\"Clusters for text {i}:\")\n",
    "    clusters.append(cluster_and_get_words(output, text[i]))\n",
    "    for label, words in clusters[-1].items():\n",
    "        print(f\"Cluster {label}: {', '.join(words)}\")"
   ]
  },
  {
   "cell_type": "code",
   "execution_count": 6,
   "metadata": {},
   "outputs": [
    {
     "name": "stdout",
     "output_type": "stream",
     "text": [
      "Tokens of the sub-collection: ['▁the', '▁tip', '▁of', '▁the', '▁', 'ice', 'berg']\n",
      "Distance matrix: (7, 7)\n",
      "Distance matrix: [[0.         0.13552635 0.26038853 0.10326075 0.1078747  0.06912947\n",
      "  0.12607147]\n",
      " [0.13552635 0.         0.36084773 0.1662913  0.04449061 0.17346508\n",
      "  0.06601286]\n",
      " [0.26038853 0.36084773 0.         0.26591123 0.33846701 0.23111153\n",
      "  0.36671751]\n",
      " [0.10326075 0.1662913  0.26591123 0.         0.1389687  0.07374736\n",
      "  0.16173371]\n",
      " [0.1078747  0.04449061 0.33846701 0.1389687  0.         0.1400055\n",
      "  0.055665  ]\n",
      " [0.06912947 0.17346508 0.23111153 0.07374736 0.1400055  0.\n",
      "  0.16657021]\n",
      " [0.12607147 0.06601286 0.36671751 0.16173371 0.055665   0.16657021\n",
      "  0.        ]]\n"
     ]
    },
    {
     "data": {
      "image/png": "[encoded data removed]",
      "text/plain": [
       "<Figure size 640x480 with 1 Axes>"
      ]
     },
     "metadata": {},
     "output_type": "display_data"
    },
    {
     "data": {
      "text/plain": [
       "[(0, (0.0, inf)),\n",
       " (0, (0.0, 0.2311115270860177)),\n",
       " (0, (0.0, 0.10787470013140917)),\n",
       " (0, (0.0, 0.07374736435662728)),\n",
       " (0, (0.0, 0.06912947468888272)),\n",
       " (0, (0.0, 0.0556650045932026)),\n",
       " (0, (0.0, 0.044490614754122686))]"
      ]
     },
     "execution_count": 6,
     "metadata": {},
     "output_type": "execute_result"
    }
   ],
   "source": [
    "from scipy.spatial import distance_matrix\n",
    "import gudhi as gd\n",
    "import numpy as np\n",
    "import matplotlib.pyplot as plt\n",
    "from transformers import BertTokenizer\n",
    "\n",
    "def compute_phrase_distances_and_homology(context_vectors, sentence, phrase):\n",
    "    # Initialize the tokenizer\n",
    "    tokenizer = AutoTokenizer.from_pretrained('xlm-roberta-large')\n",
    "\n",
    "    # Tokenize the sentence and the phrase\n",
    "    sentence_tokens = tokenizer.encode(sentence, add_special_tokens=False)\n",
    "    phrase_tokens = tokenizer.encode(phrase, add_special_tokens=False)\n",
    "\n",
    "    # Find the indices of the phrase tokens in the sentence\n",
    "    phrase_indices = []\n",
    "    phrase_length = len(phrase_tokens)\n",
    "    for i in range(len(sentence_tokens) - phrase_length + 1):\n",
    "        if sentence_tokens[i:i+phrase_length] == phrase_tokens:\n",
    "            phrase_indices.extend(range(i, i+phrase_length))\n",
    "            break\n",
    "\n",
    "    # Extract the context vectors for the phrase\n",
    "    phrase_context_vectors = context_vectors[0, phrase_indices]\n",
    "\n",
    "    # Detach the tensor and convert to numpy array\n",
    "    phrase_context_vectors_np = phrase_context_vectors.detach().numpy()\n",
    "\n",
    "    # Print the tokens of the sub-collection and their context vectors\n",
    "    print(f'Tokens of the sub-collection: {tokenizer.convert_ids_to_tokens(phrase_tokens)}')\n",
    "    # print(f'Context vectors of the sub-collection: {phrase_context_vectors_np}')\n",
    "\n",
    "    # Compute the pairwise Euclidean distances among the phrase context vectors\n",
    "    distances = distance_matrix(phrase_context_vectors_np, phrase_context_vectors_np)\n",
    "\n",
    "    # Print the distance matrix\n",
    "    print(f'Distance matrix: {distances.shape}')\n",
    "    print(f'Distance matrix: {distances}')\n",
    "\n",
    "    # Compute the persistent homology of the distance matrix\n",
    "    rips_complex = gd.RipsComplex(distance_matrix=distances, max_edge_length=np.max(distances))\n",
    "    simplex_tree = rips_complex.create_simplex_tree(max_dimension=2)\n",
    "    persistent_homology = simplex_tree.persistence(min_persistence=0.001)\n",
    "\n",
    "    # Plot the barcode diagram\n",
    "    gd.plot_persistence_barcode(persistence=persistent_homology)\n",
    "    plt.show()\n",
    "\n",
    "    return persistent_homology\n",
    "\n",
    "# Assuming that 'context_vectors' is the tensor of context vectors for your sentence,\n",
    "# and 'sentence' is your original sentence, you can use the function like this:\n",
    "compute_phrase_distances_and_homology(context[0], text[0], \"the tip of the iceberg\")"
   ]
  },
  {
   "cell_type": "code",
   "execution_count": 7,
   "metadata": {},
   "outputs": [],
   "source": [
    "text_2 = [\"In the realm of deep learning, having a deep understanding of neural networks and their architectures is of paramount importance. It's not just about knowing how to code an algorithm, but also about comprehending how different layers in a network interact and learning to interpret the output. Yet, the algorithms and architectures we often discuss, like Convolutional Neural Networks (CNNs) or Recurrent Neural Networks (RNNs), are just the tip of the iceberg. Hidden below the surface are complex concepts like backpropagation, weight initialization, and optimization techniques, which truly drive the functionality of these networks. Mastering these intricacies is what differentiates an expert in the field from an amateur coder.\"]"
   ]
  },
  {
   "cell_type": "code",
   "execution_count": 8,
   "metadata": {},
   "outputs": [
    {
     "name": "stderr",
     "output_type": "stream",
     "text": [
      "Some weights of the model checkpoint at xlm-roberta-large were not used when initializing XLMRobertaModel: ['lm_head.layer_norm.weight', 'lm_head.dense.weight', 'lm_head.dense.bias', 'lm_head.bias', 'lm_head.layer_norm.bias']\n",
      "- This IS expected if you are initializing XLMRobertaModel from the checkpoint of a model trained on another task or with another architecture (e.g. initializing a BertForSequenceClassification model from a BertForPreTraining model).\n",
      "- This IS NOT expected if you are initializing XLMRobertaModel from the checkpoint of a model that you expect to be exactly identical (initializing a BertForSequenceClassification model from a BertForSequenceClassification model).\n"
     ]
    },
    {
     "name": "stdout",
     "output_type": "stream",
     "text": [
      "Tokens of the sub-collection: ['▁the', '▁tip', '▁of', '▁the', '▁', 'ice', 'berg']\n",
      "Distance matrix: (7, 7)\n",
      "Distance matrix: [[0.         0.12227714 0.26465006 0.06940242 0.07993846 0.11481511\n",
      "  0.11637901]\n",
      " [0.12227714 0.         0.34438362 0.15640352 0.06308265 0.17962221\n",
      "  0.08816364]\n",
      " [0.26465006 0.34438362 0.         0.25754677 0.29858008 0.19171904\n",
      "  0.35849537]\n",
      " [0.06940242 0.15640352 0.25754677 0.         0.11022776 0.13180873\n",
      "  0.15491308]\n",
      " [0.07993846 0.06308265 0.29858008 0.11022776 0.         0.13247664\n",
      "  0.08784776]\n",
      " [0.11481511 0.17962221 0.19171904 0.13180873 0.13247664 0.\n",
      "  0.19449885]\n",
      " [0.11637901 0.08816364 0.35849537 0.15491308 0.08784776 0.19449885\n",
      "  0.        ]]\n"
     ]
    },
    {
     "data": {
      "image/png": "[encoded data removed]",
      "text/plain": [
       "<Figure size 640x480 with 1 Axes>"
      ]
     },
     "metadata": {},
     "output_type": "display_data"
    },
    {
     "data": {
      "text/plain": [
       "[(0, (0.0, inf)),\n",
       " (0, (0.0, 0.19171904429174208)),\n",
       " (0, (0.0, 0.114815114513929)),\n",
       " (0, (0.0, 0.08784776485621601)),\n",
       " (0, (0.0, 0.07993846073692952)),\n",
       " (0, (0.0, 0.0694024154075328)),\n",
       " (0, (0.0, 0.06308265087333154))]"
      ]
     },
     "execution_count": 8,
     "metadata": {},
     "output_type": "execute_result"
    }
   ],
   "source": [
    "context_2 = [compute_output(t, layer, head) for t in text_2]\n",
    "compute_phrase_distances_and_homology(context_2[0], text_2[0], \"the tip of the iceberg\")"
   ]
  },
  {
   "attachments": {},
   "cell_type": "markdown",
   "metadata": {},
   "source": [
    "---\n",
    "\n",
    "## English Persistent Homology Comparison"
   ]
  },
  {
   "cell_type": "code",
   "execution_count": 9,
   "metadata": {},
   "outputs": [
    {
     "name": "stdout",
     "output_type": "stream",
     "text": [
      "Tokens of the sub-collection: ['▁the', '▁tip', '▁of', '▁the', '▁', 'ice', 'berg']\n",
      "Distance matrix: (7, 7)\n",
      "Distance matrix: [[0.         0.13552635 0.26038853 0.10326075 0.1078747  0.06912947\n",
      "  0.12607147]\n",
      " [0.13552635 0.         0.36084773 0.1662913  0.04449061 0.17346508\n",
      "  0.06601286]\n",
      " [0.26038853 0.36084773 0.         0.26591123 0.33846701 0.23111153\n",
      "  0.36671751]\n",
      " [0.10326075 0.1662913  0.26591123 0.         0.1389687  0.07374736\n",
      "  0.16173371]\n",
      " [0.1078747  0.04449061 0.33846701 0.1389687  0.         0.1400055\n",
      "  0.055665  ]\n",
      " [0.06912947 0.17346508 0.23111153 0.07374736 0.1400055  0.\n",
      "  0.16657021]\n",
      " [0.12607147 0.06601286 0.36671751 0.16173371 0.055665   0.16657021\n",
      "  0.        ]]\n"
     ]
    },
    {
     "data": {
      "image/png": "[encoded data removed]",
      "text/plain": [
       "<Figure size 640x480 with 1 Axes>"
      ]
     },
     "metadata": {},
     "output_type": "display_data"
    },
    {
     "name": "stdout",
     "output_type": "stream",
     "text": [
      "Tokens of the sub-collection: ['▁the', '▁tip', '▁of', '▁the', '▁', 'ice', 'berg']\n",
      "Distance matrix: (7, 7)\n",
      "Distance matrix: [[0.         0.12227714 0.26465006 0.06940242 0.07993846 0.11481511\n",
      "  0.11637901]\n",
      " [0.12227714 0.         0.34438362 0.15640352 0.06308265 0.17962221\n",
      "  0.08816364]\n",
      " [0.26465006 0.34438362 0.         0.25754677 0.29858008 0.19171904\n",
      "  0.35849537]\n",
      " [0.06940242 0.15640352 0.25754677 0.         0.11022776 0.13180873\n",
      "  0.15491308]\n",
      " [0.07993846 0.06308265 0.29858008 0.11022776 0.         0.13247664\n",
      "  0.08784776]\n",
      " [0.11481511 0.17962221 0.19171904 0.13180873 0.13247664 0.\n",
      "  0.19449885]\n",
      " [0.11637901 0.08816364 0.35849537 0.15491308 0.08784776 0.19449885\n",
      "  0.        ]]\n"
     ]
    },
    {
     "data": {
      "image/png": "[encoded data removed]",
      "text/plain": [
       "<Figure size 640x480 with 1 Axes>"
      ]
     },
     "metadata": {},
     "output_type": "display_data"
    },
    {
     "name": "stdout",
     "output_type": "stream",
     "text": [
      "Bottleneck distance: 0.039392482794275624\n",
      "Wasserstein distance: = 0.10\n"
     ]
    }
   ],
   "source": [
    "# from gudhi.wasserstein import wasserstein_distance \n",
    "# Could also be: \n",
    "from gudhi.hera import wasserstein_distance\n",
    "import numpy as np\n",
    "\n",
    "# Compute the persistent homology\n",
    "persistent_homology_1 = compute_phrase_distances_and_homology(context[0], text[0], \"the tip of the iceberg\")\n",
    "persistent_homology_2 = compute_phrase_distances_and_homology(context_2[0], text_2[0], \"the tip of the iceberg\")\n",
    "\n",
    "# Convert the persistent homology data to a numpy array\n",
    "persistent_homology_np_1 = np.array([[pt[1][0], pt[1][1]] for pt in persistent_homology_1 if pt[1][1] != float('inf')])\n",
    "persistent_homology_np_2 = np.array([[pt[1][0], pt[1][1]] for pt in persistent_homology_2 if pt[1][1] != float('inf')])\n",
    "\n",
    "# Compute and print the bottleneck distance\n",
    "bottleneck_dist = gd.bottleneck_distance(persistent_homology_np_1, persistent_homology_np_2)\n",
    "print(f\"Bottleneck distance: {bottleneck_dist}\")\n",
    "\n",
    "# Compute and print the Wasserstein distance\n",
    "print(f\"Wasserstein distance: = {wasserstein_distance(persistent_homology_np_1, persistent_homology_np_2, order=1., internal_p=2.):.2f}\")"
   ]
  },
  {
   "attachments": {},
   "cell_type": "markdown",
   "metadata": {},
   "source": [
    "---\n",
    "\n",
    "## Yiddish Persistent Homology Comparison"
   ]
  },
  {
   "cell_type": "code",
   "execution_count": 32,
   "metadata": {},
   "outputs": [],
   "source": [
    "text_3 = [\"אין דער וועלט פון לינגוויסטיק, איז דער נעציק צו פאָסטערן אַ טיף פֿאַרשטייַנען פון שפּראַך סטרוקטורן און זייערע אינטערקאַנעקשאַנס. דאס פֿאַרשטייַנען איז ניט נאָר וועגן לערנען וואָקאַבולערי אָדער גראַמאַטיק רולז, אָבער אויך ערנטע די דעטאַלז פון פֿאָנעטיק, סעמאַנטיקס, און סינטאַקס. דאָך, די געוויינטלעך עלעמענטן אַז מיר פֿאָקוסירן אויף, ווי מאָרפֿעמען, פֿאָנעמען, און סינטאַקס רולז, זענען בלויז דער שפּיץ פון די ייסבערג. אונטער דער אויבערפֿלאַך, ליגן אַ וואַסט פעלד פון קאָגניטיוו, סאַציאַל, און היסטאָרישע פאַקטאָרן וואָס שפּילן וויכטיק ראָלז אין שייפֿינג אַ שפּראַך. גרייפֿן די אונטערלייגנדיקע אינפֿלוענסז איז וואָס שטעלט אַרויס אַ קאָמפּעטענט לינגוויסט פון אַ קאַזשועל שפּראַך לערנער.\"]\n",
    "\n",
    "text_4 = [\"אין די מעלוכע פון טיף לערנען, אַ טיף פארשטאנד פון נעוראַל נעטוואָרקס און זייער אַרקאַטעקטשערז איז פון העכסט וויכטיקייט. עס איז נישט בלויז צו וויסן ווי צו קאָד אַ אַלגערידאַם, אָבער אויך צו פֿאַרשטיין ווי פאַרשידענע לייַערס אין אַ נעץ ינטעראַקט און לערנען צו טייַטשן די רעזולטאַט. אָבער, די אַלגערידאַמז און אַרקאַטעקטשערז וואָס מיר אָפט דיסקוטירן, ווי קאָנוואָלוטיאָנאַל נעוראַל נעטוואָרקס (CNNs) אָדער ריקעראַנט נעוראַל נעטוואָרקס (RNNs), זענען נאָר דער שפּיץ פון די ייסבערג. פאַרבאָרגן אונטער די ייבערפלאַך זענען קאָמפּלעקס קאַנסעפּס ווי באַקפּראָפּאַגאַטיאָן, וואָג יניטיאַליזיישאַן און אַפּטאַמאַזיישאַן טעקניקס, וואָס טאַקע פירן די פאַנגקשאַנאַליטי פון די נעטוואָרקס. מאַסטערינג די ינטראַקאַסיז איז וואָס דיפערענשיייץ אַ מומחה אין דעם פעלד פון אַ ליבהאָבער קאָדער.\"]"
   ]
  },
  {
   "cell_type": "code",
   "execution_count": 33,
   "metadata": {},
   "outputs": [
    {
     "name": "stderr",
     "output_type": "stream",
     "text": [
      "Some weights of the model checkpoint at xlm-roberta-large were not used when initializing XLMRobertaModel: ['lm_head.layer_norm.weight', 'lm_head.dense.weight', 'lm_head.dense.bias', 'lm_head.bias', 'lm_head.layer_norm.bias']\n",
      "- This IS expected if you are initializing XLMRobertaModel from the checkpoint of a model trained on another task or with another architecture (e.g. initializing a BertForSequenceClassification model from a BertForPreTraining model).\n",
      "- This IS NOT expected if you are initializing XLMRobertaModel from the checkpoint of a model that you expect to be exactly identical (initializing a BertForSequenceClassification model from a BertForSequenceClassification model).\n",
      "Some weights of the model checkpoint at xlm-roberta-large were not used when initializing XLMRobertaModel: ['lm_head.layer_norm.weight', 'lm_head.dense.weight', 'lm_head.dense.bias', 'lm_head.bias', 'lm_head.layer_norm.bias']\n",
      "- This IS expected if you are initializing XLMRobertaModel from the checkpoint of a model trained on another task or with another architecture (e.g. initializing a BertForSequenceClassification model from a BertForPreTraining model).\n",
      "- This IS NOT expected if you are initializing XLMRobertaModel from the checkpoint of a model that you expect to be exactly identical (initializing a BertForSequenceClassification model from a BertForSequenceClassification model).\n"
     ]
    }
   ],
   "source": [
    "context_3 = [compute_output(t, layer, head) for t in text_3]\n",
    "\n",
    "context_4 = [compute_output(t, layer, head) for t in text_4]"
   ]
  },
  {
   "cell_type": "code",
   "execution_count": 34,
   "metadata": {},
   "outputs": [
    {
     "name": "stdout",
     "output_type": "stream",
     "text": [
      "Tokens of the sub-collection: ['▁דער', '▁שפּ', 'יץ', '▁פון', '▁די', '▁', 'ייס', 'בער', 'ג']\n",
      "Distance matrix: (9, 9)\n",
      "Distance matrix: [[0.         0.24766292 0.36338857 1.47439517 0.34838002 0.29754043\n",
      "  0.28854904 1.14396342 0.32157627]\n",
      " [0.24766292 0.         0.16446127 1.53228947 0.15047131 0.24912672\n",
      "  0.11620377 1.20269662 0.14019531]\n",
      " [0.36338857 0.16446127 0.         1.63575853 0.08885303 0.3431425\n",
      "  0.11361469 1.31003952 0.15431674]\n",
      " [1.47439517 1.53228947 1.63575853 0.         1.59480299 1.31165099\n",
      "  1.57152276 0.47064077 1.50602063]\n",
      " [0.34838002 0.15047131 0.08885303 1.59480299 0.         0.30006603\n",
      "  0.10633443 1.27178335 0.12512236]\n",
      " [0.29754043 0.24912672 0.3431425  1.31165099 0.30006603 0.\n",
      "  0.27226492 0.98784398 0.20884514]\n",
      " [0.28854904 0.11620377 0.11361469 1.57152276 0.10633443 0.27226492\n",
      "  0.         1.23388785 0.10696037]\n",
      " [1.14396342 1.20269662 1.31003952 0.47064077 1.27178335 0.98784398\n",
      "  1.23388785 0.         1.17670842]\n",
      " [0.32157627 0.14019531 0.15431674 1.50602063 0.12512236 0.20884514\n",
      "  0.10696037 1.17670842 0.        ]]\n"
     ]
    },
    {
     "data": {
      "image/png": "[encoded data removed]",
      "text/plain": [
       "<Figure size 640x480 with 1 Axes>"
      ]
     },
     "metadata": {},
     "output_type": "display_data"
    },
    {
     "name": "stdout",
     "output_type": "stream",
     "text": [
      "Tokens of the sub-collection: ['▁דער', '▁שפּ', 'יץ', '▁פון', '▁די', '▁', 'ייס', 'בער', 'ג']\n",
      "Distance matrix: (9, 9)\n",
      "Distance matrix: [[0.         0.17478122 0.29823836 1.37936784 0.23177346 0.2752977\n",
      "  0.22243818 0.6839391  0.34041241]\n",
      " [0.17478122 0.         0.14507253 1.42525277 0.09130074 0.24888569\n",
      "  0.08983483 0.69095015 0.17793234]\n",
      " [0.29823836 0.14507253 0.         1.50503174 0.1143788  0.33385189\n",
      "  0.12189592 0.76561116 0.09676325]\n",
      " [1.37936784 1.42525277 1.50503174 0.         1.44052622 1.18571584\n",
      "  1.44129373 0.88442632 1.48335094]\n",
      " [0.23177346 0.09130074 0.1143788  1.44052622 0.         0.26072001\n",
      "  0.09556268 0.7253972  0.12993303]\n",
      " [0.2752977  0.24888569 0.33385189 1.18571584 0.26072001 0.\n",
      "  0.27074958 0.50562796 0.31864319]\n",
      " [0.22243818 0.08983483 0.12189592 1.44129373 0.09556268 0.27074958\n",
      "  0.         0.69094598 0.15674718]\n",
      " [0.6839391  0.69095015 0.76561116 0.88442632 0.7253972  0.50562796\n",
      "  0.69094598 0.         0.75250526]\n",
      " [0.34041241 0.17793234 0.09676325 1.48335094 0.12993303 0.31864319\n",
      "  0.15674718 0.75250526 0.        ]]\n"
     ]
    },
    {
     "data": {
      "image/png": "[encoded data removed]",
      "text/plain": [
       "<Figure size 640x480 with 1 Axes>"
      ]
     },
     "metadata": {},
     "output_type": "display_data"
    },
    {
     "name": "stdout",
     "output_type": "stream",
     "text": [
      "Bottleneck distance: 0.10341765695348737\n",
      "Wasserstein distance: = 0.20\n"
     ]
    }
   ],
   "source": [
    "from gudhi.hera import wasserstein_distance\n",
    "import numpy as np\n",
    "\n",
    "# Compute the persistent homology\n",
    "persistent_homology_1 = compute_phrase_distances_and_homology(context_3[0], text_3[0], \"דער שפּיץ פון די ייסבערג\")\n",
    "persistent_homology_2 = compute_phrase_distances_and_homology(context_4[0], text_4[0], \"דער שפּיץ פון די ייסבערג\")\n",
    "\n",
    "# Convert the persistent homology data to a numpy array\n",
    "persistent_homology_np_1 = np.array([[pt[1][0], pt[1][1]] for pt in persistent_homology_1 if pt[1][1] != float('inf')])\n",
    "persistent_homology_np_2 = np.array([[pt[1][0], pt[1][1]] for pt in persistent_homology_2 if pt[1][1] != float('inf')])\n",
    "\n",
    "# Compute and print the bottleneck distance\n",
    "bottleneck_dist = gd.bottleneck_distance(persistent_homology_np_1, persistent_homology_np_2)\n",
    "print(f\"Bottleneck distance: {bottleneck_dist}\")\n",
    "\n",
    "# Compute and print the Wasserstein distance\n",
    "print(f\"Wasserstein distance: = {wasserstein_distance(persistent_homology_np_1, persistent_homology_np_2, order=1., internal_p=2.):.2f}\")"
   ]
  },
  {
   "attachments": {},
   "cell_type": "markdown",
   "metadata": {},
   "source": [
    "---\n",
    "\n",
    "## Hebrew Persistent Homology Comparison\n",
    "\n"
   ]
  },
  {
   "cell_type": "code",
   "execution_count": 13,
   "metadata": {},
   "outputs": [],
   "source": [
    "text_5 = [\"בעולם של הבלשנות, ההבנה העמוקה של מבני שפה והיחסים שביניהם היא המרכז. ההבנה הזו אינה מתמקדת רק בלמידת אוצר מילים או כללי דקדוק, אלא גם בחקירת פרטי הפונטיקה, הסמנטיקה, והתחביר. אך, הרכיבים הרגילים שאנו מתמקדים בהם, כמו מורפמות, פונמות, וכללים תחביריים, הם רק קצה הקרחון. מתחת לפני השטח, נמצאת שדה עצום של גורמים קוגניטיביים, חברתיים, והיסטוריים שמשחקים תפקידים חשובים בעיצוב שפה. חידוד ההבנה של ההשפעות המשניות האלה הוא מה שמבדיל בין בלשן מיומן ללומד שפה חסר ניסיון.\"]\n",
    "\n",
    "text_6 = [\"בעולם של הלמידה העמוקה, ההבנה העמוקה של רשתות נוירונים והמבנים שלהם היא מרכזית. זה לא רק על ידע איך לכתוב אלגוריתם, אלא גם על הבנת איך שונות תאים ברשת מאפשרות לה ללמוד ולפרשת את התוצאות. אך, האלגוריתמים והמבנים שאנו מתמקדים בהם, כמו רשתות נוירונים המקוננות או רשתות נוירונים חוזרות נשנות, הם רק קצה הקרחון. מתחת לפני השטח, נמצאים מנגנונים מורכבים כמו התפשטות נגזרת, איניציאציה של משקלים, וטכניקות אופטימיזציה, שהם מה שמניעים את הרשתות. השליטה בפרטים הדקים האלה היא מה שמבחינה בין מומחה בתחום למתכנת שאין לו ניסיון.\"]"
   ]
  },
  {
   "cell_type": "code",
   "execution_count": 14,
   "metadata": {},
   "outputs": [
    {
     "name": "stderr",
     "output_type": "stream",
     "text": [
      "Some weights of the model checkpoint at xlm-roberta-large were not used when initializing XLMRobertaModel: ['lm_head.layer_norm.weight', 'lm_head.dense.weight', 'lm_head.dense.bias', 'lm_head.bias', 'lm_head.layer_norm.bias']\n",
      "- This IS expected if you are initializing XLMRobertaModel from the checkpoint of a model trained on another task or with another architecture (e.g. initializing a BertForSequenceClassification model from a BertForPreTraining model).\n",
      "- This IS NOT expected if you are initializing XLMRobertaModel from the checkpoint of a model that you expect to be exactly identical (initializing a BertForSequenceClassification model from a BertForSequenceClassification model).\n",
      "Some weights of the model checkpoint at xlm-roberta-large were not used when initializing XLMRobertaModel: ['lm_head.layer_norm.weight', 'lm_head.dense.weight', 'lm_head.dense.bias', 'lm_head.bias', 'lm_head.layer_norm.bias']\n",
      "- This IS expected if you are initializing XLMRobertaModel from the checkpoint of a model trained on another task or with another architecture (e.g. initializing a BertForSequenceClassification model from a BertForPreTraining model).\n",
      "- This IS NOT expected if you are initializing XLMRobertaModel from the checkpoint of a model that you expect to be exactly identical (initializing a BertForSequenceClassification model from a BertForSequenceClassification model).\n"
     ]
    }
   ],
   "source": [
    "context_5 = [compute_output(t, layer, head) for t in text_5]\n",
    "\n",
    "context_6 = [compute_output(t, layer, head) for t in text_6]\n"
   ]
  },
  {
   "cell_type": "code",
   "execution_count": 15,
   "metadata": {},
   "outputs": [
    {
     "name": "stdout",
     "output_type": "stream",
     "text": [
      "Tokens of the sub-collection: ['▁ק', 'צה', '▁הקר', 'ח', 'ון']\n",
      "Distance matrix: (5, 5)\n",
      "Distance matrix: [[0.         0.24665141 0.2302752  0.20997432 0.54472245]\n",
      " [0.24665141 0.         0.18055645 0.12862975 0.40164975]\n",
      " [0.2302752  0.18055645 0.         0.19686015 0.49060783]\n",
      " [0.20997432 0.12862975 0.19686015 0.         0.42686758]\n",
      " [0.54472245 0.40164975 0.49060783 0.42686758 0.        ]]\n"
     ]
    },
    {
     "data": {
      "image/png": "[encoded data removed]",
      "text/plain": [
       "<Figure size 640x480 with 1 Axes>"
      ]
     },
     "metadata": {},
     "output_type": "display_data"
    },
    {
     "name": "stdout",
     "output_type": "stream",
     "text": [
      "Tokens of the sub-collection: ['▁ק', 'צה', '▁הקר', 'ח', 'ון']\n",
      "Distance matrix: (5, 5)\n",
      "Distance matrix: [[0.         0.28150469 0.3027373  0.25590264 0.55717074]\n",
      " [0.28150469 0.         0.13851365 0.13544996 0.32994942]\n",
      " [0.3027373  0.13851365 0.         0.19059364 0.33858596]\n",
      " [0.25590264 0.13544996 0.19059364 0.         0.37789914]\n",
      " [0.55717074 0.32994942 0.33858596 0.37789914 0.        ]]\n"
     ]
    },
    {
     "data": {
      "image/png": "[encoded data removed]",
      "text/plain": [
       "<Figure size 640x480 with 1 Axes>"
      ]
     },
     "metadata": {},
     "output_type": "display_data"
    },
    {
     "name": "stdout",
     "output_type": "stream",
     "text": [
      "Bottleneck distance: 0.07170033083132515\n",
      "Wasserstein distance: = 0.17\n"
     ]
    }
   ],
   "source": [
    "# Compute the persistent homology\n",
    "persistent_homology_1 = compute_phrase_distances_and_homology(context_5[0], text_5[0], \"קצה הקרחון\")\n",
    "persistent_homology_2 = compute_phrase_distances_and_homology(context_6[0], text_6[0], \"קצה הקרחון\")\n",
    "\n",
    "# Convert the persistent homology data to a numpy array\n",
    "persistent_homology_np_1 = np.array([[pt[1][0], pt[1][1]] for pt in persistent_homology_1 if pt[1][1] != float('inf')])\n",
    "persistent_homology_np_2 = np.array([[pt[1][0], pt[1][1]] for pt in persistent_homology_2 if pt[1][1] != float('inf')])\n",
    "\n",
    "# Compute and print the bottleneck distance\n",
    "bottleneck_dist = gd.bottleneck_distance(persistent_homology_np_1, persistent_homology_np_2)\n",
    "print(f\"Bottleneck distance: {bottleneck_dist}\")\n",
    "\n",
    "# Compute and print the Wasserstein distance\n",
    "print(f\"Wasserstein distance: = {wasserstein_distance(persistent_homology_np_1, persistent_homology_np_2, order=1., internal_p=2.):.2f}\")"
   ]
  },
  {
   "attachments": {},
   "cell_type": "markdown",
   "metadata": {},
   "source": [
    "---\n",
    "\n",
    "## Russian Persistent Homology Comparison"
   ]
  },
  {
   "cell_type": "code",
   "execution_count": 16,
   "metadata": {},
   "outputs": [],
   "source": [
    "text_7 = [\"В мире лингвистики глубокое понимание структур языка и их взаимосвязей является ключевым. Это понимание не ограничивается изучением словарного запаса или грамматических правил, но также включает изучение деталей фонетики, семантики и синтаксиса. Однако обычные компоненты, на которые мы обычно сосредотачиваемся, такие как морфемы, фонемы и грамматические правила, это лишь вершина айсберга. Под поверхностью находится огромное поле когнитивных, социальных и исторических факторов, которые играют важную роль в формировании языка. Уточнение понимания этих второстепенных влияний - то, что отличает опытного лингвиста от неопытного изучающего язык.\"]\n",
    "\n",
    "text_8 = [\"В мире глубокого обучения глубокое понимание нейронных сетей и их структур является центральным. Это не только о том, как написать алгоритм, но и о том, как различия между клетками в сети позволяют ей учиться и интерпретировать результаты. Однако алгоритмы и структуры, на которые мы обычно сосредотачиваемся, такие как сверточные нейронные сети (CNNs) или рекуррентные нейронные сети (RNNs), это лишь вершина айсберга. Под поверхностью находятся сложные механизмы, такие как распространение ошибок, инициализация весов и оптимизационные техники, которые в действительности двигают сети. Овладение этими тонкими деталями - то, что отличает эксперта в этой области от неопытного программиста.\"]"
   ]
  },
  {
   "cell_type": "code",
   "execution_count": 17,
   "metadata": {},
   "outputs": [
    {
     "name": "stderr",
     "output_type": "stream",
     "text": [
      "Some weights of the model checkpoint at xlm-roberta-large were not used when initializing XLMRobertaModel: ['lm_head.layer_norm.weight', 'lm_head.dense.weight', 'lm_head.dense.bias', 'lm_head.bias', 'lm_head.layer_norm.bias']\n",
      "- This IS expected if you are initializing XLMRobertaModel from the checkpoint of a model trained on another task or with another architecture (e.g. initializing a BertForSequenceClassification model from a BertForPreTraining model).\n",
      "- This IS NOT expected if you are initializing XLMRobertaModel from the checkpoint of a model that you expect to be exactly identical (initializing a BertForSequenceClassification model from a BertForSequenceClassification model).\n",
      "Some weights of the model checkpoint at xlm-roberta-large were not used when initializing XLMRobertaModel: ['lm_head.layer_norm.weight', 'lm_head.dense.weight', 'lm_head.dense.bias', 'lm_head.bias', 'lm_head.layer_norm.bias']\n",
      "- This IS expected if you are initializing XLMRobertaModel from the checkpoint of a model trained on another task or with another architecture (e.g. initializing a BertForSequenceClassification model from a BertForPreTraining model).\n",
      "- This IS NOT expected if you are initializing XLMRobertaModel from the checkpoint of a model that you expect to be exactly identical (initializing a BertForSequenceClassification model from a BertForSequenceClassification model).\n"
     ]
    }
   ],
   "source": [
    "context_7 = [compute_output(t, layer, head) for t in text_7]\n",
    "\n",
    "context_8 = [compute_output(t, layer, head) for t in text_8]"
   ]
  },
  {
   "cell_type": "code",
   "execution_count": 18,
   "metadata": {},
   "outputs": [
    {
     "name": "stdout",
     "output_type": "stream",
     "text": [
      "Tokens of the sub-collection: ['▁вершин', 'а', '▁ай', 'с', 'берг', 'а']\n",
      "Distance matrix: (6, 6)\n",
      "Distance matrix: [[0.         0.04896919 0.21345799 0.35746105 0.05574635 0.15235619]\n",
      " [0.04896919 0.         0.19055361 0.33988301 0.08048636 0.14317186]\n",
      " [0.21345799 0.19055361 0.         0.36565984 0.24282188 0.21826082]\n",
      " [0.35746105 0.33988301 0.36565984 0.         0.37064019 0.43369837]\n",
      " [0.05574635 0.08048636 0.24282188 0.37064019 0.         0.17584009]\n",
      " [0.15235619 0.14317186 0.21826082 0.43369837 0.17584009 0.        ]]\n"
     ]
    },
    {
     "data": {
      "image/png": "[encoded data removed]",
      "text/plain": [
       "<Figure size 640x480 with 1 Axes>"
      ]
     },
     "metadata": {},
     "output_type": "display_data"
    },
    {
     "name": "stdout",
     "output_type": "stream",
     "text": [
      "Tokens of the sub-collection: ['▁вершин', 'а', '▁ай', 'с', 'берг', 'а']\n",
      "Distance matrix: (6, 6)\n",
      "Distance matrix: [[0.         0.07830523 0.15008485 0.26618933 0.05805034 0.15288836]\n",
      " [0.07830523 0.         0.10128515 0.24974562 0.1019253  0.15149467]\n",
      " [0.15008485 0.10128515 0.         0.27908233 0.16647004 0.17397077]\n",
      " [0.26618933 0.24974562 0.27908233 0.         0.27308547 0.35310256]\n",
      " [0.05805034 0.1019253  0.16647004 0.27308547 0.         0.1785002 ]\n",
      " [0.15288836 0.15149467 0.17397077 0.35310256 0.1785002  0.        ]]\n"
     ]
    },
    {
     "data": {
      "image/png": "[encoded data removed]",
      "text/plain": [
       "<Figure size 640x480 with 1 Axes>"
      ]
     },
     "metadata": {},
     "output_type": "display_data"
    },
    {
     "name": "stdout",
     "output_type": "stream",
     "text": [
      "Bottleneck distance: 0.0901373847109207\n",
      "Wasserstein distance: = 0.20\n"
     ]
    }
   ],
   "source": [
    "# Compute the persistent homology\n",
    "persistent_homology_1 = compute_phrase_distances_and_homology(context_7[0], text_7[0], \"вершина айсберга\")\n",
    "persistent_homology_2 = compute_phrase_distances_and_homology(context_8[0], text_8[0], \"вершина айсберга\")\n",
    "\n",
    "# Convert the persistent homology data to a numpy array\n",
    "persistent_homology_np_1 = np.array([[pt[1][0], pt[1][1]] for pt in persistent_homology_1 if pt[1][1] != float('inf')])\n",
    "persistent_homology_np_2 = np.array([[pt[1][0], pt[1][1]] for pt in persistent_homology_2 if pt[1][1] != float('inf')])\n",
    "\n",
    "# Compute and print the bottleneck distance\n",
    "bottleneck_dist = gd.bottleneck_distance(persistent_homology_np_1, persistent_homology_np_2)\n",
    "print(f\"Bottleneck distance: {bottleneck_dist}\")\n",
    "\n",
    "# Compute and print the Wasserstein distance\n",
    "print(f\"Wasserstein distance: = {wasserstein_distance(persistent_homology_np_1, persistent_homology_np_2, order=1., internal_p=2.):.2f}\")"
   ]
  },
  {
   "attachments": {},
   "cell_type": "markdown",
   "metadata": {},
   "source": [
    "---\n",
    "\n",
    "## German Persistent Homology Comparison"
   ]
  },
  {
   "cell_type": "code",
   "execution_count": 19,
   "metadata": {},
   "outputs": [],
   "source": [
    "text_9 = [\"In der Welt der Linguistik ist ein tiefes Verständnis für Sprachstrukturen und ihre Beziehungen zentral. Dieses Verständnis beschränkt sich nicht nur auf das Erlernen von Vokabeln oder Grammatikregeln, sondern beinhaltet auch die Untersuchung von Details in Phonologie, Semantik und Syntax. Doch die üblichen Komponenten, auf die wir uns konzentrieren, wie Morpheme, Phoneme und Syntaxregeln, sind nur die Spitze des Eisbergs. Unter der Oberfläche liegt ein weites Feld kognitiver, sozialer und historischer Faktoren, die eine wichtige Rolle bei der Formung einer Sprache spielen. Das Verfeinern des Verständnisses dieser sekundären Einflüsse ist es, was einen versierten Linguisten von einem unerfahrenen Sprachlerner unterscheidet.\"]\n",
    "\n",
    "text_10 = [\"In der Welt des Deep Learning ist ein tiefes Verständnis für neuronale Netzwerke und ihre Strukturen zentral. Es geht nicht nur darum zu wissen, wie man einen Algorithmus schreibt, sondern auch zu verstehen, wie Unterschiede zwischen den Zellen im Netzwerk es ihr ermöglichen, zu lernen und Ergebnisse zu interpretieren. Aber die Algorithmen und Strukturen, auf die wir uns konzentrieren, wie Convolutional Neural Networks (CNNs) oder Recurrent Neural Networks (RNNs), sind nur die Spitze des Eisbergs. Unter der Oberfläche befinden sich komplexe Mechanismen wie Backpropagation, Gewichtsinitialisierung und Optimierungstechniken, die tatsächlich die Netzwerke antreiben. Die Beherrschung dieser feinen Details ist es, was einen Experten auf diesem Gebiet von einem unerfahrenen Programmierer unterscheidet.\"]"
   ]
  },
  {
   "cell_type": "code",
   "execution_count": 20,
   "metadata": {},
   "outputs": [
    {
     "name": "stderr",
     "output_type": "stream",
     "text": [
      "Some weights of the model checkpoint at xlm-roberta-large were not used when initializing XLMRobertaModel: ['lm_head.layer_norm.weight', 'lm_head.dense.weight', 'lm_head.dense.bias', 'lm_head.bias', 'lm_head.layer_norm.bias']\n",
      "- This IS expected if you are initializing XLMRobertaModel from the checkpoint of a model trained on another task or with another architecture (e.g. initializing a BertForSequenceClassification model from a BertForPreTraining model).\n",
      "- This IS NOT expected if you are initializing XLMRobertaModel from the checkpoint of a model that you expect to be exactly identical (initializing a BertForSequenceClassification model from a BertForSequenceClassification model).\n",
      "Some weights of the model checkpoint at xlm-roberta-large were not used when initializing XLMRobertaModel: ['lm_head.layer_norm.weight', 'lm_head.dense.weight', 'lm_head.dense.bias', 'lm_head.bias', 'lm_head.layer_norm.bias']\n",
      "- This IS expected if you are initializing XLMRobertaModel from the checkpoint of a model trained on another task or with another architecture (e.g. initializing a BertForSequenceClassification model from a BertForPreTraining model).\n",
      "- This IS NOT expected if you are initializing XLMRobertaModel from the checkpoint of a model that you expect to be exactly identical (initializing a BertForSequenceClassification model from a BertForSequenceClassification model).\n"
     ]
    }
   ],
   "source": [
    "context_9 = [compute_output(t, layer, head) for t in text_9]\n",
    "\n",
    "context_10 = [compute_output(t, layer, head) for t in text_10]"
   ]
  },
  {
   "cell_type": "code",
   "execution_count": 21,
   "metadata": {},
   "outputs": [
    {
     "name": "stdout",
     "output_type": "stream",
     "text": [
      "Tokens of the sub-collection: ['▁die', '▁Spitze', '▁des', '▁Eis', 'bergs']\n",
      "Distance matrix: (5, 5)\n",
      "Distance matrix: [[0.         0.12342932 0.12239395 0.14852223 0.26922144]\n",
      " [0.12342932 0.         0.16305342 0.08977922 0.20295832]\n",
      " [0.12239395 0.16305342 0.         0.13093655 0.33441025]\n",
      " [0.14852223 0.08977922 0.13093655 0.         0.25157283]\n",
      " [0.26922144 0.20295832 0.33441025 0.25157283 0.        ]]\n"
     ]
    },
    {
     "data": {
      "image/png": "[encoded data removed]",
      "text/plain": [
       "<Figure size 640x480 with 1 Axes>"
      ]
     },
     "metadata": {},
     "output_type": "display_data"
    },
    {
     "name": "stdout",
     "output_type": "stream",
     "text": [
      "Tokens of the sub-collection: ['▁die', '▁Spitze', '▁des', '▁Eis', 'bergs']\n",
      "Distance matrix: (5, 5)\n",
      "Distance matrix: [[0.         0.12277545 0.13544431 0.15104017 0.32353836]\n",
      " [0.12277545 0.         0.13915664 0.05824637 0.28333151]\n",
      " [0.13544431 0.13915664 0.         0.12851485 0.37695455]\n",
      " [0.15104017 0.05824637 0.12851485 0.         0.31791838]\n",
      " [0.32353836 0.28333151 0.37695455 0.31791838 0.        ]]\n"
     ]
    },
    {
     "data": {
      "image/png": "[encoded data removed]",
      "text/plain": [
       "<Figure size 640x480 with 1 Axes>"
      ]
     },
     "metadata": {},
     "output_type": "display_data"
    },
    {
     "name": "stdout",
     "output_type": "stream",
     "text": [
      "Bottleneck distance: 0.08037318815842931\n",
      "Wasserstein distance: = 0.13\n"
     ]
    }
   ],
   "source": [
    "# Compute the persistent homology\n",
    "persistent_homology_1 = compute_phrase_distances_and_homology(context_9[0], text_9[0], \"die Spitze des Eisbergs\")\n",
    "persistent_homology_2 = compute_phrase_distances_and_homology(context_10[0], text_10[0], \"die Spitze des Eisbergs\")\n",
    "\n",
    "# Convert the persistent homology data to a numpy array\n",
    "persistent_homology_np_1 = np.array([[pt[1][0], pt[1][1]] for pt in persistent_homology_1 if pt[1][1] != float('inf')])\n",
    "persistent_homology_np_2 = np.array([[pt[1][0], pt[1][1]] for pt in persistent_homology_2 if pt[1][1] != float('inf')])\n",
    "\n",
    "# Compute and print the bottleneck distance\n",
    "bottleneck_dist = gd.bottleneck_distance(persistent_homology_np_1, persistent_homology_np_2)\n",
    "print(f\"Bottleneck distance: {bottleneck_dist}\")\n",
    "\n",
    "# Compute and print the Wasserstein distance\n",
    "print(f\"Wasserstein distance: = {wasserstein_distance(persistent_homology_np_1, persistent_homology_np_2, order=1., internal_p=2.):.2f}\")"
   ]
  },
  {
   "attachments": {},
   "cell_type": "markdown",
   "metadata": {},
   "source": [
    "---\n",
    "\n",
    "## French Persistent Homology Comparison"
   ]
  },
  {
   "cell_type": "code",
   "execution_count": 22,
   "metadata": {},
   "outputs": [],
   "source": [
    "text_11 = [\"Dans le monde de la linguistique, une compréhension profonde des structures linguistiques et de leurs relations est centrale. Cette compréhension ne se limite pas à l'apprentissage du vocabulaire ou des règles grammaticales, mais inclut également l'étude des détails de la phonologie, de la sémantique et de la syntaxe. Cependant, les composants usuels sur lesquels nous nous concentrons, tels que les morphèmes, les phonèmes et les règles de syntaxe, ne sont que la pointe de l'iceberg. Sous la surface se trouve un vaste champ de facteurs cognitifs, sociaux et historiques qui jouent un rôle important dans la formation d'une langue. Affiner la compréhension de ces influences secondaires est ce qui distingue un linguiste expérimenté d'un apprenant de langue inexpérimenté.\"]\n",
    "\n",
    "text_12 = [\"Dans le monde de l'apprentissage profond, une compréhension profonde des réseaux de neurones et de leurs structures est centrale. Il ne s'agit pas seulement de savoir comment écrire un algorithme, mais aussi de comprendre comment les différences entre les cellules du réseau lui permettent d'apprendre et d'interpréter les résultats. Cependant, les algorithmes et les structures sur lesquels nous nous concentrons habituellement, tels que les réseaux de neurones convolutionnels (CNNs) ou les réseaux de neurones récurrents (RNNs), ne sont que la pointe de l'iceberg. Sous la surface se trouvent des mécanismes complexes tels que la rétropropagation, l'initialisation des poids et les techniques d'optimisation, qui sont en réalité ce qui anime les réseaux. Maîtriser ces détails subtils est ce qui distingue un expert dans ce domaine d'un programmeur inexpérimenté.\"]"
   ]
  },
  {
   "cell_type": "code",
   "execution_count": 23,
   "metadata": {},
   "outputs": [
    {
     "name": "stderr",
     "output_type": "stream",
     "text": [
      "Some weights of the model checkpoint at xlm-roberta-large were not used when initializing XLMRobertaModel: ['lm_head.layer_norm.weight', 'lm_head.dense.weight', 'lm_head.dense.bias', 'lm_head.bias', 'lm_head.layer_norm.bias']\n",
      "- This IS expected if you are initializing XLMRobertaModel from the checkpoint of a model trained on another task or with another architecture (e.g. initializing a BertForSequenceClassification model from a BertForPreTraining model).\n",
      "- This IS NOT expected if you are initializing XLMRobertaModel from the checkpoint of a model that you expect to be exactly identical (initializing a BertForSequenceClassification model from a BertForSequenceClassification model).\n",
      "Some weights of the model checkpoint at xlm-roberta-large were not used when initializing XLMRobertaModel: ['lm_head.layer_norm.weight', 'lm_head.dense.weight', 'lm_head.dense.bias', 'lm_head.bias', 'lm_head.layer_norm.bias']\n",
      "- This IS expected if you are initializing XLMRobertaModel from the checkpoint of a model trained on another task or with another architecture (e.g. initializing a BertForSequenceClassification model from a BertForPreTraining model).\n",
      "- This IS NOT expected if you are initializing XLMRobertaModel from the checkpoint of a model that you expect to be exactly identical (initializing a BertForSequenceClassification model from a BertForSequenceClassification model).\n"
     ]
    }
   ],
   "source": [
    "context_11 = [compute_output(t, layer, head) for t in text_11]\n",
    "\n",
    "context_12 = [compute_output(t, layer, head) for t in text_12]"
   ]
  },
  {
   "cell_type": "code",
   "execution_count": 24,
   "metadata": {},
   "outputs": [
    {
     "name": "stdout",
     "output_type": "stream",
     "text": [
      "Tokens of the sub-collection: ['▁la', '▁point', 'e', '▁de', '▁l', \"'\", 'ice', 'berg']\n",
      "Distance matrix: (8, 8)\n",
      "Distance matrix: [[0.         0.11856636 0.35627079 0.24381491 0.13438752 0.05565665\n",
      "  0.12684304 0.08642485]\n",
      " [0.11856636 0.         0.26020267 0.29853011 0.22931624 0.16073182\n",
      "  0.23108956 0.17307112]\n",
      " [0.35627079 0.26020267 0.         0.46659614 0.46108358 0.4013604\n",
      "  0.46115964 0.40434081]\n",
      " [0.24381491 0.29853011 0.46659614 0.         0.20166628 0.24076562\n",
      "  0.20904724 0.20770396]\n",
      " [0.13438752 0.22931624 0.46108358 0.20166628 0.         0.10584614\n",
      "  0.07345003 0.0775072 ]\n",
      " [0.05565665 0.16073182 0.4013604  0.24076562 0.10584614 0.\n",
      "  0.09120607 0.07978673]\n",
      " [0.12684304 0.23108956 0.46115964 0.20904724 0.07345003 0.09120607\n",
      "  0.         0.09308319]\n",
      " [0.08642485 0.17307112 0.40434081 0.20770396 0.0775072  0.07978673\n",
      "  0.09308319 0.        ]]\n"
     ]
    },
    {
     "data": {
      "image/png": "[encoded data removed]",
      "text/plain": [
       "<Figure size 640x480 with 1 Axes>"
      ]
     },
     "metadata": {},
     "output_type": "display_data"
    },
    {
     "name": "stdout",
     "output_type": "stream",
     "text": [
      "Tokens of the sub-collection: ['▁la', '▁point', 'e', '▁de', '▁l', \"'\", 'ice', 'berg']\n",
      "Distance matrix: (8, 8)\n",
      "Distance matrix: [[0.         0.11498256 0.36528132 0.21656009 0.14826418 0.0565952\n",
      "  0.1096635  0.08860294]\n",
      " [0.11498256 0.         0.27029531 0.27760128 0.24511464 0.16121079\n",
      "  0.21182922 0.17875605]\n",
      " [0.36528132 0.27029531 0.         0.46364711 0.48125944 0.41214511\n",
      "  0.45240625 0.41410319]\n",
      " [0.21656009 0.27760128 0.46364711 0.         0.16779609 0.21623664\n",
      "  0.18215746 0.17438901]\n",
      " [0.14826418 0.24511464 0.48125944 0.16779609 0.         0.12036297\n",
      "  0.0686052  0.08565447]\n",
      " [0.0565952  0.16121079 0.41214511 0.21623664 0.12036297 0.\n",
      "  0.0705445  0.08214807]\n",
      " [0.1096635  0.21182922 0.45240625 0.18215746 0.0686052  0.0705445\n",
      "  0.         0.06755254]\n",
      " [0.08860294 0.17875605 0.41410319 0.17438901 0.08565447 0.08214807\n",
      "  0.06755254 0.        ]]\n"
     ]
    },
    {
     "data": {
      "image/png": "[encoded data removed]",
      "text/plain": [
       "<Figure size 640x480 with 1 Axes>"
      ]
     },
     "metadata": {},
     "output_type": "display_data"
    },
    {
     "name": "stdout",
     "output_type": "stream",
     "text": [
      "Bottleneck distance: 0.03387018218043242\n",
      "Wasserstein distance: = 0.07\n"
     ]
    }
   ],
   "source": [
    "# Compute the persistent homology\n",
    "persistent_homology_1 = compute_phrase_distances_and_homology(context_11[0], text_11[0], \"la pointe de l'iceberg\")\n",
    "persistent_homology_2 = compute_phrase_distances_and_homology(context_12[0], text_12[0], \"la pointe de l'iceberg\")\n",
    "\n",
    "# Convert the persistent homology data to a numpy array\n",
    "persistent_homology_np_1 = np.array([[pt[1][0], pt[1][1]] for pt in persistent_homology_1 if pt[1][1] != float('inf')])\n",
    "persistent_homology_np_2 = np.array([[pt[1][0], pt[1][1]] for pt in persistent_homology_2 if pt[1][1] != float('inf')])\n",
    "\n",
    "# Compute and print the bottleneck distance\n",
    "bottleneck_dist = gd.bottleneck_distance(persistent_homology_np_1, persistent_homology_np_2)\n",
    "print(f\"Bottleneck distance: {bottleneck_dist}\")\n",
    "\n",
    "# Compute and print the Wasserstein distance\n",
    "print(f\"Wasserstein distance: = {wasserstein_distance(persistent_homology_np_1, persistent_homology_np_2, order=1., internal_p=2.):.2f}\")"
   ]
  },
  {
   "attachments": {},
   "cell_type": "markdown",
   "metadata": {},
   "source": [
    "---\n",
    "\n",
    "##  Bengali Persistent Homology Comparison"
   ]
  },
  {
   "cell_type": "code",
   "execution_count": 25,
   "metadata": {},
   "outputs": [],
   "source": [
    "text_13 = [\"ভাষাবিজ্ঞানের জগতে ভাষার গঠনমূলগুলি এবং তাদের মধ্যে সম্পর্কের গভীর বোধ কেন্দ্রীয়। এই বোধ শুধু ভোকাবুলারি বা ব্যাকরণের নিয়ম শেখার সাথে সীমাবদ্ধ নয়, বরং ফোনেটিক্স, সেম্যান্টিক্স এবং সিনট্যাক্সের বিস্তারিত অধ্যয়নও অন্তর্ভুক্ত করে। তবে, আমরা যে সাধারণ উপাদানগুলিতে মনোনিবেশ করি, যেমন মর্ফেম, ফোনেম এবং ব্যাকরণের নিয়ম, তা শুধু আইসবার্গের শীর্ষ। পৃষ্ঠতলের নিচে সংজ্ঞানাত্মক, সামাজিক এবং ঐতিহাসিক কারকগুলির একটি বিশাল ক্ষেত্র রয়েছে, যা একটি ভাষার গঠনে গুরুত্বপূর্ণ ভূমিকা পালন করে। এই দ্বিতীয়কক্ষ প্রভাবগুলির বোধ নির্দিষ্ট করা হলেই একজন অভিজ্ঞ ভাষাবিজ্ঞানী এবং অঅভিজ্ঞ ভাষা শিক্ষার্থীর মধ্যে পার্থক্য তৈরি হয়।\"]\n",
    "\n",
    "text_14 = [\"ডিপ লার্নিং-এর পৃথিবীতে নিউরাল নেটওয়ার্ক এবং তাদের গঠনের গভীর বোধ কেন্দ্রীয়। এটি শুধু একটি অ্যালগরিদম লিখতে জানার বিষয় নয়, বরং নেটওয়ার্কের সেলগুলিতে পার্থক্য তাকে শেখার এবং ফলাফল ব্যাখ্যা করার ক্ষমতা বুঝতে ও অভিজ্ঞতা অর্জন করার ক্ষেত্রে গুরুত্বপূর্ণ। তবে, আমরা যে অ্যালগরিদম এবং গঠনগুলিতে সাধারণত মনোনিবেশ করি, যেমন কনভলিউশনাল নিউরাল নেটওয়ার্ক (CNNs) বা রিকারেন্ট নিউরাল নেটওয়ার্ক (RNNs), সেগুলি শুধু আইসবার্গের শীর্ষ। পৃষ্ঠতলের নিচে জটিল মেকানিজমগুলি রয়েছে, যেমন ব্যাকপ্রোপাগেশন, ওজন আরম্ভিকীকরণ এবং অনুকূলন পদ্ধতিগুলি, যা প্রকৃতপক্ষে নেটওয়ার্কগুলিকে চালিত করে। এই সূক্ষ্ম বিস্তারিতগুলিরএই সূক্ষ্ম বিস্তারিতগুলির দক্ষতা অর্জন করা হলেই একজন অভিজ্ঞ প্রোগ্রামার এবং অঅভিজ্ঞ প্রোগ্রামারের মধ্যে পার্থক্য তৈরি হয়।\"]"
   ]
  },
  {
   "cell_type": "code",
   "execution_count": 26,
   "metadata": {},
   "outputs": [
    {
     "name": "stderr",
     "output_type": "stream",
     "text": [
      "Some weights of the model checkpoint at xlm-roberta-large were not used when initializing XLMRobertaModel: ['lm_head.layer_norm.weight', 'lm_head.dense.weight', 'lm_head.dense.bias', 'lm_head.bias', 'lm_head.layer_norm.bias']\n",
      "- This IS expected if you are initializing XLMRobertaModel from the checkpoint of a model trained on another task or with another architecture (e.g. initializing a BertForSequenceClassification model from a BertForPreTraining model).\n",
      "- This IS NOT expected if you are initializing XLMRobertaModel from the checkpoint of a model that you expect to be exactly identical (initializing a BertForSequenceClassification model from a BertForSequenceClassification model).\n",
      "Some weights of the model checkpoint at xlm-roberta-large were not used when initializing XLMRobertaModel: ['lm_head.layer_norm.weight', 'lm_head.dense.weight', 'lm_head.dense.bias', 'lm_head.bias', 'lm_head.layer_norm.bias']\n",
      "- This IS expected if you are initializing XLMRobertaModel from the checkpoint of a model trained on another task or with another architecture (e.g. initializing a BertForSequenceClassification model from a BertForPreTraining model).\n",
      "- This IS NOT expected if you are initializing XLMRobertaModel from the checkpoint of a model that you expect to be exactly identical (initializing a BertForSequenceClassification model from a BertForSequenceClassification model).\n"
     ]
    }
   ],
   "source": [
    "context_13 = [compute_output(t, layer, head) for t in text_13]\n",
    "\n",
    "context_14 = [compute_output(t, layer, head) for t in text_14]"
   ]
  },
  {
   "cell_type": "code",
   "execution_count": 27,
   "metadata": {},
   "outputs": [
    {
     "name": "stdout",
     "output_type": "stream",
     "text": [
      "Tokens of the sub-collection: ['▁আই', 'স', 'বার', '্', 'গ', 'ের', '▁শীর্ষ']\n",
      "Distance matrix: (7, 7)\n",
      "Distance matrix: [[0.         0.37931658 0.38633001 0.35441097 0.39305708 0.3644893\n",
      "  0.19951425]\n",
      " [0.37931658 0.         0.06186847 0.08268154 0.08066446 0.17128081\n",
      "  0.26325346]\n",
      " [0.38633001 0.06186847 0.         0.07722729 0.06210683 0.17269345\n",
      "  0.28135381]\n",
      " [0.35441097 0.08268154 0.07722729 0.         0.07776841 0.20823525\n",
      "  0.24377111]\n",
      " [0.39305708 0.08066446 0.06210683 0.07776841 0.         0.18862301\n",
      "  0.28498072]\n",
      " [0.3644893  0.17128081 0.17269345 0.20823525 0.18862301 0.\n",
      "  0.26305372]\n",
      " [0.19951425 0.26325346 0.28135381 0.24377111 0.28498072 0.26305372\n",
      "  0.        ]]\n"
     ]
    },
    {
     "data": {
      "image/png": "[encoded data removed]",
      "text/plain": [
       "<Figure size 640x480 with 1 Axes>"
      ]
     },
     "metadata": {},
     "output_type": "display_data"
    },
    {
     "name": "stdout",
     "output_type": "stream",
     "text": [
      "Tokens of the sub-collection: ['▁আই', 'স', 'বার', '্', 'গ', 'ের', '▁শীর্ষ']\n",
      "Distance matrix: (7, 7)\n",
      "Distance matrix: [[0.         0.35284473 0.37807938 0.32891579 0.39531248 0.29392102\n",
      "  0.19065645]\n",
      " [0.35284473 0.         0.07701353 0.0738819  0.09986304 0.16772218\n",
      "  0.31993416]\n",
      " [0.37807938 0.07701353 0.         0.07678298 0.06154397 0.16998099\n",
      "  0.35727905]\n",
      " [0.32891579 0.0738819  0.07678298 0.         0.08919937 0.14624965\n",
      "  0.29798604]\n",
      " [0.39531248 0.09986304 0.06154397 0.08919937 0.         0.19993423\n",
      "  0.36411648]\n",
      " [0.29392102 0.16772218 0.16998099 0.14624965 0.19993423 0.\n",
      "  0.27937519]\n",
      " [0.19065645 0.31993416 0.35727905 0.29798604 0.36411648 0.27937519\n",
      "  0.        ]]\n"
     ]
    },
    {
     "data": {
      "image/png": "[encoded data removed]",
      "text/plain": [
       "<Figure size 640x480 with 1 Axes>"
      ]
     },
     "metadata": {},
     "output_type": "display_data"
    },
    {
     "name": "stdout",
     "output_type": "stream",
     "text": [
      "Bottleneck distance: 0.03560407992565773\n",
      "Wasserstein distance: = 0.08\n"
     ]
    }
   ],
   "source": [
    "# Compute the persistent homology\n",
    "persistent_homology_1 = compute_phrase_distances_and_homology(context_13[0], text_13[0], \"আইসবার্গের শীর্ষ\")\n",
    "persistent_homology_2 = compute_phrase_distances_and_homology(context_14[0], text_14[0], \"আইসবার্গের শীর্ষ\")\n",
    "\n",
    "# Convert the persistent homology data to a numpy array\n",
    "persistent_homology_np_1 = np.array([[pt[1][0], pt[1][1]] for pt in persistent_homology_1 if pt[1][1] != float('inf')])\n",
    "persistent_homology_np_2 = np.array([[pt[1][0], pt[1][1]] for pt in persistent_homology_2 if pt[1][1] != float('inf')])\n",
    "\n",
    "# Compute and print the bottleneck distance\n",
    "bottleneck_dist = gd.bottleneck_distance(persistent_homology_np_1, persistent_homology_np_2)\n",
    "print(f\"Bottleneck distance: {bottleneck_dist}\")\n",
    "\n",
    "# Compute and print the Wasserstein distance\n",
    "print(f\"Wasserstein distance: = {wasserstein_distance(persistent_homology_np_1, persistent_homology_np_2, order=1., internal_p=2.):.2f}\")"
   ]
  }
 ],
 "metadata": {
  "kernelspec": {
   "display_name": "env_1",
   "language": "python",
   "name": "python3"
  },
  "language_info": {
   "codemirror_mode": {
    "name": "ipython",
    "version": 3
   },
   "file_extension": ".py",
   "mimetype": "text/x-python",
   "name": "python",
   "nbconvert_exporter": "python",
   "pygments_lexer": "ipython3",
   "version": "3.10.11"
  },
  "orig_nbformat": 4
 },
 "nbformat": 4,
 "nbformat_minor": 2
}
